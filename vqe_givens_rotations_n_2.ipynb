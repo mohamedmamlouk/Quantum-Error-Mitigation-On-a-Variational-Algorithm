{
 "cells": [
  {
   "cell_type": "code",
   "execution_count": 195,
   "metadata": {},
   "outputs": [
    {
     "data": {
      "text/plain": [
       "'pip install optax\\npip install qiskit==0.45.2\\npip install pennylane-qiskit\\npip install qiskit-aer\\npip install qiskit-ibm-runtime'"
      ]
     },
     "execution_count": 195,
     "metadata": {},
     "output_type": "execute_result"
    }
   ],
   "source": [
    "'''pip install optax\n",
    "pip install qiskit==0.45.2\n",
    "pip install pennylane-qiskit\n",
    "pip install qiskit-aer\n",
    "pip install qiskit-ibm-runtime'''"
   ]
  },
  {
   "cell_type": "code",
   "execution_count": 3,
   "metadata": {},
   "outputs": [],
   "source": [
    "from qiskit_ibm_runtime.fake_provider import FakeCairoV2\n",
    "from qiskit_aer.noise import NoiseModel\n",
    "import pennylane as qml\n",
    "\n",
    "from openfermion.transforms import jordan_wigner\n",
    "from openfermion.utils import load_operator\n",
    "from pennylane import qchem\n",
    "from pennylane import numpy as np\n",
    "import matplotlib.pyplot as plt"
   ]
  },
  {
   "cell_type": "markdown",
   "metadata": {},
   "source": [
    "Defining the Hamiltonian of the problem"
   ]
  },
  {
   "cell_type": "code",
   "execution_count": 4,
   "metadata": {},
   "outputs": [],
   "source": [
    "n_site = 2\n",
    "n_qubits = 2 * n_site\n",
    "H_openfermion = load_operator(\n",
    "    file_name=f\"{n_qubits}_qubits_H\",\n",
    "    data_directory=\"./hamiltonian\",\n",
    "    plain_text=False,\n",
    ")\n",
    "H_openfermion_jw = jordan_wigner(H_openfermion)\n",
    "H = qml.import_operator(H_openfermion_jw)\n"
   ]
  },
  {
   "cell_type": "markdown",
   "metadata": {},
   "source": [
    "Defining the ideal device"
   ]
  },
  {
   "cell_type": "code",
   "execution_count": 5,
   "metadata": {},
   "outputs": [],
   "source": [
    "dev_ideal = qml.device(\"default.qubit\", wires=n_qubits)"
   ]
  },
  {
   "cell_type": "markdown",
   "metadata": {},
   "source": [
    "Defining the noisy device "
   ]
  },
  {
   "cell_type": "code",
   "execution_count": 6,
   "metadata": {},
   "outputs": [],
   "source": [
    "noise_strength = 0.02\n",
    "dev_noise_free = qml.device(\"default.mixed\", wires=n_qubits, shots=1000)\n",
    "dev_noisy = qml.transforms.insert(\n",
    "    dev_noise_free,\n",
    "    qml.AmplitudeDamping,\n",
    "    noise_strength\n",
    ")"
   ]
  },
  {
   "cell_type": "markdown",
   "metadata": {},
   "source": [
    "Decomposition of single and double excitations in terms of Pauli gates"
   ]
  },
  {
   "cell_type": "code",
   "execution_count": 7,
   "metadata": {},
   "outputs": [],
   "source": [
    "def full_double_excitation_decomposition(params, wires):\n",
    "    # voir la ref\n",
    "    qml.CNOT(wires=[wires[2], wires[3]])\n",
    "    qml.CNOT(wires=[wires[0], wires[2]])\n",
    "    qml.Hadamard(wires=wires[0])\n",
    "    qml.Hadamard(wires=wires[3])\n",
    "    qml.CNOT(wires=[wires[0], wires[1]])\n",
    "    qml.CNOT(wires=[wires[2], wires[3]])\n",
    "    qml.RY( - params / 8, wires=wires[0])\n",
    "    qml.RY(params / 8, wires=wires[1])\n",
    "    qml.CNOT(wires=[wires[0], wires[3]])\n",
    "    qml.Hadamard(wires=wires[3])\n",
    "    qml.CNOT(wires=[wires[3], wires[1]])\n",
    "    qml.RY( - params / 8, wires=wires[0])\n",
    "    qml.RY(params / 8, wires=wires[1])\n",
    "    qml.CNOT(wires=[wires[2], wires[1]])\n",
    "    qml.CNOT(wires=[wires[2], wires[0]])\n",
    "    qml.RY(params / 8, wires=wires[0])\n",
    "    qml.RY(- params / 8, wires=wires[1])\n",
    "    qml.CNOT(wires=[wires[3], wires[1]])\n",
    "    qml.Hadamard(wires=wires[3])\n",
    "    qml.CNOT(wires=[wires[0], wires[3]])\n",
    "    qml.RY( params / 8, wires=wires[0])\n",
    "    qml.RY(-params / 8, wires=wires[1])\n",
    "    qml.CNOT(wires=[wires[0], wires[1]])\n",
    "    qml.CNOT(wires=[wires[2], wires[0]])\n",
    "    qml.Hadamard(wires=wires[0])\n",
    "    qml.Hadamard(wires=wires[3])\n",
    "    qml.CNOT(wires=[wires[0], wires[2]])\n",
    "    qml.CNOT(wires=[wires[2], wires[3]])\n",
    " \n",
    "def full_single_excitation_decomposition(params, wires):\n",
    "    # voir la ref\n",
    "    qml.CNOT(wires=[wires[0], wires[1]])\n",
    "    qml.RY(params / 2, wires=wires[0])\n",
    "    qml.CNOT(wires=[wires[1], wires[0]])\n",
    "    qml.RY(-params / 2, wires=wires[0])\n",
    "    qml.CNOT(wires=[wires[1], wires[0]])\n",
    "    qml.CNOT(wires=[wires[0], wires[1]]) "
   ]
  },
  {
   "cell_type": "markdown",
   "metadata": {},
   "source": [
    "Elimination of the excitations that has no contribution"
   ]
  },
  {
   "cell_type": "markdown",
   "metadata": {},
   "source": [
    "Generation of all the possible excitations "
   ]
  },
  {
   "cell_type": "code",
   "execution_count": 8,
   "metadata": {},
   "outputs": [
    {
     "name": "stdout",
     "output_type": "stream",
     "text": [
      "Single£ excitations = [[0, 2], [1, 3]]\n",
      "Double excitations = [[0, 1, 2, 3]]\n"
     ]
    }
   ],
   "source": [
    "singles, doubles = qchem.excitations(n_site, n_qubits) #half filling\n",
    "print(f\"Single£ excitations = {singles}\")\n",
    "print(f\"Double excitations = {doubles}\")"
   ]
  },
  {
   "cell_type": "code",
   "execution_count": 9,
   "metadata": {},
   "outputs": [],
   "source": [
    "hf = qml.qchem.hf_state(n_site, n_qubits)\n",
    "def circuit_excitations_selection(params, singles, doubles):\n",
    "    qml.BasisState(hf, wires=range(n_qubits))\n",
    "    i=0\n",
    "    for excitation in doubles:\n",
    "            qml.DoubleExcitation(params[i], wires=excitation)\n",
    "            i+=1\n",
    "    for excitation in singles :\n",
    "            qml.SingleExcitation(params[i], wires=excitation)\n",
    "            i+=1\n",
    "    return qml.expval(H)"
   ]
  },
  {
   "cell_type": "markdown",
   "metadata": {},
   "source": [
    "Calculation of the gradient of each excitation"
   ]
  },
  {
   "cell_type": "code",
   "execution_count": 10,
   "metadata": {},
   "outputs": [
    {
     "name": "stdout",
     "output_type": "stream",
     "text": [
      "Excitation : [0, 1, 2, 3], Gradient: -1.4999939439917536\n"
     ]
    }
   ],
   "source": [
    "cost_fn = qml.QNode(circuit_excitations_selection, dev_ideal, interface=\"autograd\")\n",
    "circuit_gradient = qml.grad(cost_fn, argnum=0)\n",
    "params = [0.0] * len(doubles+singles)\n",
    "grads = circuit_gradient(params, singles, doubles)\n",
    "\n",
    "for i in range(len(doubles)):\n",
    "    print(f\"Excitation : {doubles[i]}, Gradient: {grads[i]}\")\n",
    "\n"
   ]
  },
  {
   "cell_type": "code",
   "execution_count": 11,
   "metadata": {},
   "outputs": [
    {
     "data": {
      "text/plain": [
       "[[0, 1, 2, 3]]"
      ]
     },
     "execution_count": 11,
     "metadata": {},
     "output_type": "execute_result"
    }
   ],
   "source": [
    "doubles_select = [doubles[i] for i in range(len(doubles)) if abs(grads[i]) > 1.0e-6]\n",
    "doubles_select"
   ]
  },
  {
   "cell_type": "code",
   "execution_count": 12,
   "metadata": {},
   "outputs": [
    {
     "name": "stdout",
     "output_type": "stream",
     "text": [
      "Excitation : [0, 2], Gradient: -1.4999939439917536\n",
      "Excitation : [1, 3], Gradient: 0.0\n"
     ]
    }
   ],
   "source": [
    "cost_fn = qml.QNode(circuit_excitations_selection, dev_ideal, interface=\"autograd\")\n",
    "\n",
    "circuit_gradient = qml.grad(cost_fn, argnum=0)\n",
    "\n",
    "params = [0.0] * len(singles+doubles)\n",
    "grads = circuit_gradient(params, singles, doubles)\n",
    "\n",
    "for i in range(len(singles)):\n",
    "    print(f\"Excitation : {singles[i]}, Gradient: {grads[i]}\")"
   ]
  },
  {
   "cell_type": "markdown",
   "metadata": {},
   "source": [
    "Selecting the excitations with a gradient superior to 1.0e-6"
   ]
  },
  {
   "cell_type": "code",
   "execution_count": 13,
   "metadata": {},
   "outputs": [
    {
     "data": {
      "text/plain": [
       "[[0, 2]]"
      ]
     },
     "execution_count": 13,
     "metadata": {},
     "output_type": "execute_result"
    }
   ],
   "source": [
    "singles_select = [singles[i] for i in range(len(singles)) if abs(grads[i]) > 1.0e-5]\n",
    "singles_select"
   ]
  },
  {
   "cell_type": "markdown",
   "metadata": {},
   "source": [
    "Defining the new ansatz with the useful excitations"
   ]
  },
  {
   "cell_type": "code",
   "execution_count": 14,
   "metadata": {},
   "outputs": [],
   "source": [
    "def circuit(params):\n",
    "    qml.BasisState(hf, wires=range(n_qubits))\n",
    "    i=0\n",
    "    for d in  doubles_select:\n",
    "        full_double_excitation_decomposition(params[i], wires= d)\n",
    "        #qml.DoubleExcitation(params[i], wires=d)\n",
    "        i+=1\n",
    "    for s in singles_select:\n",
    "        #qml.SingleExcitation(params[i], wires=s)\n",
    "        full_single_excitation_decomposition(params[i], wires = s)\n",
    "        i+=1\n",
    "    return qml.expval(H)"
   ]
  },
  {
   "cell_type": "code",
   "execution_count": 15,
   "metadata": {},
   "outputs": [],
   "source": [
    "\n",
    "max_iterations = 100\n",
    "conv_tol = 1e-10\n",
    "opt = qml.GradientDescentOptimizer(stepsize=0.5)\n"
   ]
  },
  {
   "cell_type": "markdown",
   "metadata": {},
   "source": [
    "## Running the VQE in the ideal device"
   ]
  },
  {
   "cell_type": "code",
   "execution_count": 16,
   "metadata": {},
   "outputs": [
    {
     "name": "stdout",
     "output_type": "stream",
     "text": [
      "n = 0,  E = -3.50000000 H\n",
      "n = 1,  E = -3.98583255 H\n",
      "n = 2,  E = -3.99912702 H\n",
      "n = 3,  E = -3.99994209 H\n",
      "n = 4,  E = -3.99999297 H\n",
      "n = 5,  E = -3.99999615 H\n",
      "n = 6,  E = -3.99999635 H\n",
      "n = 7,  E = -3.99999637 H\n",
      "n = 8,  E = -3.99999637 H\n",
      "n = 9,  E = -3.99999637 H\n"
     ]
    }
   ],
   "source": [
    "import time\n",
    "opt = qml.GradientDescentOptimizer(stepsize=0.5)\n",
    "\n",
    "''''def cost_fn(params):\n",
    "    @qml.qnode(dev_noise_free)\n",
    "    def circuit(params, gates_select):\n",
    "        return circuit_2(params, gates_select)\n",
    "    return circuit(params,gates_select)'''\n",
    "qnode = qml.QNode(circuit, dev_ideal)\n",
    "params = np.zeros(len(doubles_select + singles_select), requires_grad=True)\n",
    "\n",
    "gates_select = doubles_select + singles_select\n",
    "energies = [0]\n",
    "for n in range(500):\n",
    "    params, energy = opt.step_and_cost(qnode, params)\n",
    "    energies.append(energy)\n",
    "    conv = np.abs(energies[-1] - energies[-2])\n",
    "    print(\"n = {:},  E = {:.8f} H\".format(n, energy))\n",
    "\n",
    "    if conv <= conv_tol:\n",
    "        break"
   ]
  },
  {
   "cell_type": "code",
   "execution_count": 17,
   "metadata": {},
   "outputs": [
    {
     "name": "stderr",
     "output_type": "stream",
     "text": [
      "/Users/abdessamadoukermou/Downloads/Reply/.venv/lib/python3.11/site-packages/pennylane/ops/functions/eigvals.py:116: UserWarning: For Hamiltonians, the eigenvalues will be computed numerically. This may be computationally intensive for a large number of wires. Consider using a sparse representation of the Hamiltonian with qml.SparseHamiltonian.\n",
      "  warnings.warn(\n"
     ]
    },
    {
     "data": {
      "image/png": "[encoded data removed]",
      "text/plain": [
       "<Figure size 640x480 with 1 Axes>"
      ]
     },
     "metadata": {},
     "output_type": "display_data"
    }
   ],
   "source": [
    "import matplotlib.pyplot as plt\n",
    "energies.pop(0)\n",
    "E = np.min(qml.eigvals(H))\n",
    "plt.plot(range(len(energies)),energies,\"go\",ls=\"dashed\")\n",
    "plt.plot(range(len(energies)), np.full(len(energies), E), color=\"red\")\n",
    "plt.text(0, E, r\"$E_\\mathrm{exact}$\", fontsize=15)\n",
    "plt.xlabel(\"Optimization step\", fontsize=13)\n",
    "plt.ylabel(\"Energy\", fontsize=13)\n",
    "plt.xticks(fontsize=12)\n",
    "plt.yticks(fontsize=12)\n",
    "plt.show()"
   ]
  },
  {
   "cell_type": "markdown",
   "metadata": {},
   "source": [
    "## Running VQE in a noisy device"
   ]
  },
  {
   "cell_type": "code",
   "execution_count": 29,
   "metadata": {},
   "outputs": [
    {
     "name": "stdout",
     "output_type": "stream",
     "text": [
      "n = 0,  E = -2.59400637 H\n",
      "n = 1,  E = -2.84046525 H\n",
      "n = 2,  E = -2.83510686 H\n",
      "n = 3,  E = -2.79020787 H\n",
      "n = 4,  E = -2.88649602 H\n",
      "n = 5,  E = -2.87938282 H\n",
      "n = 6,  E = -2.83236218 H\n",
      "n = 7,  E = -2.81762307 H\n",
      "n = 8,  E = -2.83559405 H\n",
      "n = 9,  E = -2.84983129 H\n",
      "n = 10,  E = -2.84542335 H\n",
      "n = 11,  E = -2.88453674 H\n",
      "n = 12,  E = -2.79831459 H\n",
      "n = 13,  E = -2.84877036 H\n",
      "n = 14,  E = -2.87708686 H\n",
      "n = 15,  E = -2.83354243 H\n",
      "n = 16,  E = -2.87096043 H\n",
      "n = 17,  E = -2.88499680 H\n",
      "n = 18,  E = -2.93696165 H\n",
      "n = 19,  E = -2.86241376 H\n",
      "n = 20,  E = -2.84984473 H\n",
      "n = 21,  E = -2.83505682 H\n",
      "n = 22,  E = -2.79307026 H\n",
      "n = 23,  E = -2.81922848 H\n",
      "n = 24,  E = -2.82223418 H\n",
      "n = 25,  E = -2.82683771 H\n",
      "n = 26,  E = -2.82169639 H\n",
      "n = 27,  E = -2.84516583 H\n",
      "n = 28,  E = -2.80510581 H\n",
      "n = 29,  E = -2.87831655 H\n",
      "n = 30,  E = -2.84153752 H\n",
      "n = 31,  E = -2.84057240 H\n",
      "n = 32,  E = -2.80474180 H\n",
      "n = 33,  E = -2.90233704 H\n",
      "n = 34,  E = -2.85867400 H\n",
      "n = 35,  E = -2.86371054 H\n",
      "n = 36,  E = -2.86662855 H\n",
      "n = 37,  E = -2.88787326 H\n",
      "n = 38,  E = -2.82943205 H\n",
      "n = 39,  E = -2.87719421 H\n",
      "n = 40,  E = -2.75497306 H\n",
      "n = 41,  E = -2.74300041 H\n",
      "n = 42,  E = -2.87721072 H\n",
      "n = 43,  E = -2.80237197 H\n",
      "n = 44,  E = -2.82354156 H\n",
      "n = 45,  E = -2.78075312 H\n",
      "n = 46,  E = -2.86888593 H\n",
      "n = 47,  E = -2.83665979 H\n",
      "n = 48,  E = -2.83483941 H\n",
      "n = 49,  E = -2.81736510 H\n",
      "n = 50,  E = -2.83435390 H\n",
      "n = 51,  E = -2.85808893 H\n",
      "n = 52,  E = -2.81894416 H\n",
      "n = 53,  E = -2.80699881 H\n",
      "n = 54,  E = -2.87168427 H\n",
      "n = 55,  E = -2.82391860 H\n",
      "n = 56,  E = -2.81915845 H\n",
      "n = 57,  E = -2.82880413 H\n",
      "n = 58,  E = -2.81608931 H\n",
      "n = 59,  E = -2.81746762 H\n",
      "n = 60,  E = -2.88578798 H\n",
      "n = 61,  E = -2.87420508 H\n",
      "n = 62,  E = -2.77210658 H\n",
      "n = 63,  E = -2.88971703 H\n",
      "n = 64,  E = -2.82694516 H\n",
      "n = 65,  E = -2.86238127 H\n",
      "n = 66,  E = -2.87892135 H\n",
      "n = 67,  E = -2.92789437 H\n",
      "n = 68,  E = -2.83207589 H\n",
      "n = 69,  E = -2.88248858 H\n",
      "n = 70,  E = -2.82658682 H\n",
      "n = 71,  E = -2.87465538 H\n",
      "n = 72,  E = -2.82333652 H\n",
      "n = 73,  E = -2.86937383 H\n",
      "n = 74,  E = -2.90300334 H\n",
      "n = 75,  E = -2.80789268 H\n",
      "n = 76,  E = -2.83047571 H\n",
      "n = 77,  E = -2.87539698 H\n",
      "n = 78,  E = -2.84554689 H\n",
      "n = 79,  E = -2.90841543 H\n",
      "n = 80,  E = -2.80548575 H\n",
      "n = 81,  E = -2.86213336 H\n",
      "n = 82,  E = -2.81479959 H\n",
      "n = 83,  E = -2.84454920 H\n",
      "n = 84,  E = -2.81902296 H\n",
      "n = 85,  E = -2.78583401 H\n",
      "n = 86,  E = -2.92222584 H\n",
      "n = 87,  E = -2.87425311 H\n",
      "n = 88,  E = -2.78487067 H\n",
      "n = 89,  E = -2.84656833 H\n",
      "n = 90,  E = -2.85611476 H\n",
      "n = 91,  E = -2.85622016 H\n",
      "n = 92,  E = -2.81864547 H\n",
      "n = 93,  E = -2.81542121 H\n",
      "n = 94,  E = -2.81924378 H\n",
      "n = 95,  E = -2.83142901 H\n",
      "n = 96,  E = -2.83767208 H\n",
      "n = 97,  E = -2.75242960 H\n",
      "n = 98,  E = -2.86210047 H\n",
      "n = 99,  E = -2.88698655 H\n",
      "n = 100,  E = -2.86932302 H\n",
      "n = 101,  E = -2.86165573 H\n",
      "n = 102,  E = -2.80752597 H\n",
      "n = 103,  E = -2.85141223 H\n",
      "n = 104,  E = -2.84750456 H\n",
      "n = 105,  E = -2.81522145 H\n",
      "n = 106,  E = -2.79986782 H\n",
      "n = 107,  E = -2.82389450 H\n",
      "n = 108,  E = -2.83675868 H\n",
      "n = 109,  E = -2.85124594 H\n",
      "n = 110,  E = -2.94997275 H\n",
      "n = 111,  E = -2.76154305 H\n",
      "n = 112,  E = -2.75991430 H\n",
      "n = 113,  E = -2.81656308 H\n",
      "n = 114,  E = -2.85548315 H\n",
      "n = 115,  E = -2.81663276 H\n",
      "n = 116,  E = -2.85924224 H\n",
      "n = 117,  E = -2.86061555 H\n",
      "n = 118,  E = -2.82229879 H\n",
      "n = 119,  E = -2.78154081 H\n",
      "n = 120,  E = -2.83943888 H\n",
      "n = 121,  E = -2.80886467 H\n",
      "n = 122,  E = -2.83911127 H\n",
      "n = 123,  E = -2.77643908 H\n",
      "n = 124,  E = -2.80536045 H\n",
      "n = 125,  E = -2.78389862 H\n",
      "n = 126,  E = -2.84912986 H\n",
      "n = 127,  E = -2.87730118 H\n",
      "n = 128,  E = -2.84700102 H\n",
      "n = 129,  E = -2.87217471 H\n",
      "n = 130,  E = -2.78602868 H\n",
      "n = 131,  E = -2.83591049 H\n",
      "n = 132,  E = -2.84286636 H\n",
      "n = 133,  E = -2.92510174 H\n",
      "n = 134,  E = -2.80676968 H\n",
      "n = 135,  E = -2.82497628 H\n",
      "n = 136,  E = -2.78970376 H\n",
      "n = 137,  E = -2.86935716 H\n",
      "n = 138,  E = -2.89733746 H\n",
      "n = 139,  E = -2.83076143 H\n",
      "n = 140,  E = -2.78397174 H\n",
      "n = 141,  E = -2.93117056 H\n",
      "n = 142,  E = -2.86876223 H\n",
      "n = 143,  E = -2.76982091 H\n",
      "n = 144,  E = -2.87488425 H\n",
      "n = 145,  E = -2.76905035 H\n",
      "n = 146,  E = -2.82006025 H\n",
      "n = 147,  E = -2.84209031 H\n",
      "n = 148,  E = -2.84439364 H\n",
      "n = 149,  E = -2.86678020 H\n",
      "n = 150,  E = -2.79571492 H\n",
      "n = 151,  E = -2.82719349 H\n",
      "n = 152,  E = -2.81334909 H\n",
      "n = 153,  E = -2.84918029 H\n",
      "n = 154,  E = -2.82771593 H\n",
      "n = 155,  E = -2.85170045 H\n",
      "n = 156,  E = -2.86682103 H\n",
      "n = 157,  E = -2.84455983 H\n",
      "n = 158,  E = -2.83061171 H\n",
      "n = 159,  E = -2.85632213 H\n",
      "n = 160,  E = -2.81188244 H\n",
      "n = 161,  E = -2.90649738 H\n",
      "n = 162,  E = -2.87722880 H\n",
      "n = 163,  E = -2.87114151 H\n",
      "n = 164,  E = -2.87318893 H\n",
      "n = 165,  E = -2.84313300 H\n",
      "n = 166,  E = -2.89430090 H\n",
      "n = 167,  E = -2.82825498 H\n",
      "n = 168,  E = -2.79577916 H\n",
      "n = 169,  E = -2.79550382 H\n",
      "n = 170,  E = -2.81655782 H\n",
      "n = 171,  E = -2.74524664 H\n",
      "n = 172,  E = -2.84864097 H\n",
      "n = 173,  E = -2.93097834 H\n",
      "n = 174,  E = -2.89249679 H\n",
      "n = 175,  E = -2.82280519 H\n",
      "n = 176,  E = -2.82155208 H\n",
      "n = 177,  E = -2.84020025 H\n",
      "n = 178,  E = -2.86678042 H\n",
      "n = 179,  E = -2.87136030 H\n",
      "n = 180,  E = -2.85837305 H\n",
      "n = 181,  E = -2.83986491 H\n",
      "n = 182,  E = -2.80259932 H\n",
      "n = 183,  E = -2.85139534 H\n",
      "n = 184,  E = -2.80781606 H\n",
      "n = 185,  E = -2.86408268 H\n",
      "n = 186,  E = -2.87828554 H\n",
      "n = 187,  E = -2.86102966 H\n",
      "n = 188,  E = -2.88769889 H\n",
      "n = 189,  E = -2.82646794 H\n",
      "n = 190,  E = -2.86251938 H\n",
      "n = 191,  E = -2.80822421 H\n",
      "n = 192,  E = -2.79438157 H\n",
      "n = 193,  E = -2.89744037 H\n",
      "n = 194,  E = -2.85946462 H\n",
      "n = 195,  E = -2.80507801 H\n",
      "n = 196,  E = -2.86487515 H\n",
      "n = 197,  E = -2.83709386 H\n",
      "n = 198,  E = -2.86083610 H\n",
      "n = 199,  E = -2.86728272 H\n",
      "n = 200,  E = -2.91216887 H\n",
      "n = 201,  E = -2.88050646 H\n",
      "n = 202,  E = -2.83845465 H\n",
      "n = 203,  E = -2.88812318 H\n",
      "n = 204,  E = -2.87057167 H\n",
      "n = 205,  E = -2.86573258 H\n",
      "n = 206,  E = -2.81062521 H\n",
      "n = 207,  E = -2.87639976 H\n",
      "n = 208,  E = -2.83553976 H\n",
      "n = 209,  E = -2.84441062 H\n",
      "n = 210,  E = -2.93232949 H\n",
      "n = 211,  E = -2.90730268 H\n",
      "n = 212,  E = -2.88646648 H\n",
      "n = 213,  E = -2.85469534 H\n",
      "n = 214,  E = -2.85546647 H\n",
      "n = 215,  E = -2.85432299 H\n",
      "n = 216,  E = -2.80964454 H\n",
      "n = 217,  E = -2.87147396 H\n",
      "n = 218,  E = -2.87549724 H\n",
      "n = 219,  E = -2.78359847 H\n",
      "n = 220,  E = -2.95434128 H\n",
      "n = 221,  E = -2.88812506 H\n",
      "n = 222,  E = -2.84250427 H\n",
      "n = 223,  E = -2.89839902 H\n",
      "n = 224,  E = -2.89090009 H\n",
      "n = 225,  E = -2.86605599 H\n",
      "n = 226,  E = -2.80776972 H\n",
      "n = 227,  E = -2.83108607 H\n",
      "n = 228,  E = -2.87897678 H\n",
      "n = 229,  E = -2.88501937 H\n",
      "n = 230,  E = -2.87916152 H\n",
      "n = 231,  E = -2.83322308 H\n",
      "n = 232,  E = -2.86049022 H\n",
      "n = 233,  E = -2.84615829 H\n",
      "n = 234,  E = -2.83159706 H\n",
      "n = 235,  E = -2.86991919 H\n",
      "n = 236,  E = -2.87356619 H\n",
      "n = 237,  E = -2.84945015 H\n",
      "n = 238,  E = -2.87451704 H\n",
      "n = 239,  E = -2.84998441 H\n",
      "n = 240,  E = -2.85921943 H\n",
      "n = 241,  E = -2.88735996 H\n",
      "n = 242,  E = -2.89564520 H\n",
      "n = 243,  E = -2.85440265 H\n",
      "n = 244,  E = -2.86336897 H\n",
      "n = 245,  E = -2.88939049 H\n",
      "n = 246,  E = -2.81597579 H\n",
      "n = 247,  E = -2.88505383 H\n",
      "n = 248,  E = -2.87892628 H\n",
      "n = 249,  E = -2.81238527 H\n",
      "n = 250,  E = -2.81822529 H\n",
      "n = 251,  E = -2.85644387 H\n",
      "n = 252,  E = -2.79546833 H\n",
      "n = 253,  E = -2.81637833 H\n",
      "n = 254,  E = -2.86154555 H\n",
      "n = 255,  E = -2.89106524 H\n",
      "n = 256,  E = -2.81065044 H\n",
      "n = 257,  E = -2.81340508 H\n",
      "n = 258,  E = -2.82319516 H\n",
      "n = 259,  E = -2.92467805 H\n",
      "n = 260,  E = -2.87077077 H\n",
      "n = 261,  E = -2.84075064 H\n",
      "n = 262,  E = -2.79989643 H\n",
      "n = 263,  E = -2.83545036 H\n",
      "n = 264,  E = -2.80827626 H\n",
      "n = 265,  E = -2.83098510 H\n",
      "n = 266,  E = -2.80453422 H\n",
      "n = 267,  E = -2.80312721 H\n",
      "n = 268,  E = -2.81150203 H\n",
      "n = 269,  E = -2.84030932 H\n",
      "n = 270,  E = -2.80213833 H\n",
      "n = 271,  E = -2.84791300 H\n",
      "n = 272,  E = -2.84572928 H\n",
      "n = 273,  E = -2.90465344 H\n",
      "n = 274,  E = -2.83968480 H\n",
      "n = 275,  E = -2.81893368 H\n",
      "n = 276,  E = -2.84041163 H\n",
      "n = 277,  E = -2.84546260 H\n",
      "n = 278,  E = -2.80824833 H\n",
      "n = 279,  E = -2.85846841 H\n",
      "n = 280,  E = -2.86327903 H\n",
      "n = 281,  E = -2.80534706 H\n",
      "n = 282,  E = -2.81733583 H\n",
      "n = 283,  E = -2.84397518 H\n",
      "n = 284,  E = -2.90231516 H\n",
      "n = 285,  E = -2.93570239 H\n",
      "n = 286,  E = -2.83786197 H\n",
      "n = 287,  E = -2.82301209 H\n",
      "n = 288,  E = -2.84324880 H\n",
      "n = 289,  E = -2.82054716 H\n",
      "n = 290,  E = -2.83961328 H\n",
      "n = 291,  E = -2.84835630 H\n",
      "n = 292,  E = -2.85639080 H\n",
      "n = 293,  E = -2.86719808 H\n",
      "n = 294,  E = -2.80103397 H\n",
      "n = 295,  E = -2.84308637 H\n",
      "n = 296,  E = -2.92003128 H\n",
      "n = 297,  E = -2.77040073 H\n",
      "n = 298,  E = -2.82037168 H\n",
      "n = 299,  E = -2.86727528 H\n"
     ]
    }
   ],
   "source": [
    "import time\n",
    "opt = qml.GradientDescentOptimizer(stepsize=0.5)\n",
    "scale_factors = [1.0, 2.0, 3.0]\n",
    "\n",
    "qnode_noisy = qml.QNode(circuit, dev_noisy)\n",
    "\n",
    "params = np.zeros(len(doubles_select + singles_select), requires_grad=True)\n",
    "\n",
    "gates_select = doubles_select + singles_select\n",
    "energies_noisy = [0]\n",
    "conv_tol = 1.0e-6\n",
    "for n in range(300):\n",
    "    params, energy = opt.step_and_cost(qnode_noisy, params)\n",
    "    energies_noisy.append(energy)\n",
    "    conv = np.abs(energies[-1] - energies[-2])\n",
    "    print(\"n = {:},  E = {:.8f} H\".format(n, energy))"
   ]
  },
  {
   "cell_type": "code",
   "execution_count": 18,
   "metadata": {},
   "outputs": [
    {
     "ename": "NameError",
     "evalue": "name 'energies_noisy' is not defined",
     "output_type": "error",
     "traceback": [
      "\u001b[0;31m---------------------------------------------------------------------------\u001b[0m",
      "\u001b[0;31mNameError\u001b[0m                                 Traceback (most recent call last)",
      "Cell \u001b[0;32mIn[18], line 1\u001b[0m\n\u001b[0;32m----> 1\u001b[0m \u001b[38;5;28mprint\u001b[39m(\u001b[43menergies_noisy\u001b[49m)\n",
      "\u001b[0;31mNameError\u001b[0m: name 'energies_noisy' is not defined"
     ]
    }
   ],
   "source": [
    "print(energies_noisy)"
   ]
  },
  {
   "cell_type": "code",
   "execution_count": 32,
   "metadata": {},
   "outputs": [
    {
     "data": {
      "image/png": "[encoded data removed]",
      "text/plain": [
       "<Figure size 640x480 with 1 Axes>"
      ]
     },
     "metadata": {},
     "output_type": "display_data"
    }
   ],
   "source": [
    "import matplotlib.pyplot as plt\n",
    "energies_noisy.pop(0)\n",
    "E = np.min(qml.eigvals(H))\n",
    "plt.plot(range(len(energies_noisy)),energies_noisy,\"go\",ls=\"dashed\")\n",
    "plt.plot(range(len(energies_noisy)), np.full(len(energies_noisy), E), color=\"red\")\n",
    "plt.text(0, E, r\"$E_\\mathrm{exact}$\", fontsize=15)\n",
    "plt.xlabel(\"Optimization step\", fontsize=13)\n",
    "plt.ylabel(\"Energy\", fontsize=13)\n",
    "plt.xticks(fontsize=12)\n",
    "plt.yticks(fontsize=12)\n",
    "plt.show()"
   ]
  },
  {
   "cell_type": "markdown",
   "metadata": {},
   "source": [
    "## Running VQE with error mitigation ZNE in a noisy device"
   ]
  },
  {
   "cell_type": "markdown",
   "metadata": {},
   "source": [
    "Defining the ZNE parameters (scale factor, method of extrapolation...)"
   ]
  },
  {
   "cell_type": "markdown",
   "metadata": {},
   "source": [
    "Defining the ansatz :"
   ]
  },
  {
   "cell_type": "code",
   "execution_count": 19,
   "metadata": {},
   "outputs": [],
   "source": [
    "import pennylane as qml\n",
    "from pennylane import numpy as np\n",
    "import matplotlib.pyplot as plt\n",
    "from mitiq.zne import mitigate_executor\n",
    "from mitiq.zne.inference import RichardsonFactory\n",
    "\n",
    "from mitiq.zne.scaling import fold_global \n",
    "import pennylane_qiskit\n",
    "from pennylane.transforms import mitigate_with_zne"
   ]
  },
  {
   "cell_type": "code",
   "execution_count": 20,
   "metadata": {},
   "outputs": [],
   "source": [
    "@qml.qnode(dev_noisy)\n",
    "def circuit_noisy(params):\n",
    "    qml.BasisState(hf, wires=range(n_qubits))\n",
    "    i=0\n",
    "    for d in  doubles_select:\n",
    "        full_double_excitation_decomposition(params[i], wires= d)\n",
    "        #qml.DoubleExcitation(params[i], wires=d)\n",
    "        i+=1\n",
    "    for s in singles_select:\n",
    "        #qml.SingleExcitation(params[i], wires=s)\n",
    "        full_single_excitation_decomposition(params[i], wires = s)\n",
    "        i+=1\n",
    "    return qml.expval(H)"
   ]
  },
  {
   "cell_type": "code",
   "execution_count": 21,
   "metadata": {},
   "outputs": [
    {
     "name": "stderr",
     "output_type": "stream",
     "text": [
      "/Applications/Anaconda/anaconda3/lib/python3.11/pty.py:89: RuntimeWarning: os.fork() was called. os.fork() is incompatible with multithreaded code, and JAX is multithreaded, so this will likely lead to a deadlock.\n",
      "  pid, fd = os.forkpty()\n"
     ]
    },
    {
     "name": "stdout",
     "output_type": "stream",
     "text": [
      "Requirement already satisfied: numba in /Users/abdessamadoukermou/Downloads/Reply/.venv/lib/python3.11/site-packages (0.59.1)\n",
      "Requirement already satisfied: llvmlite<0.43,>=0.42.0dev0 in /Users/abdessamadoukermou/Downloads/Reply/.venv/lib/python3.11/site-packages (from numba) (0.42.0)\n",
      "Requirement already satisfied: numpy<1.27,>=1.22 in /Users/abdessamadoukermou/Downloads/Reply/.venv/lib/python3.11/site-packages (from numba) (1.26.4)\n",
      "Note: you may need to restart the kernel to use updated packages.\n"
     ]
    }
   ],
   "source": [
    "pip install numba"
   ]
  },
  {
   "cell_type": "code",
   "execution_count": 41,
   "metadata": {},
   "outputs": [
    {
     "name": "stderr",
     "output_type": "stream",
     "text": [
      "/Users/abdessamadoukermou/Downloads/Reply/.venv/lib/python3.11/site-packages/autograd/tracer.py:14: UserWarning: Output seems independent of input.\n",
      "  warnings.warn(\"Output seems independent of input.\")\n"
     ]
    },
    {
     "name": "stdout",
     "output_type": "stream",
     "text": [
      "n = 0,  E = -3.64820635 H\n"
     ]
    },
    {
     "name": "stderr",
     "output_type": "stream",
     "text": [
      "/Users/abdessamadoukermou/Downloads/Reply/.venv/lib/python3.11/site-packages/autograd/tracer.py:14: UserWarning: Output seems independent of input.\n",
      "  warnings.warn(\"Output seems independent of input.\")\n"
     ]
    },
    {
     "name": "stdout",
     "output_type": "stream",
     "text": [
      "n = 1,  E = -3.50610498 H\n"
     ]
    },
    {
     "name": "stderr",
     "output_type": "stream",
     "text": [
      "/Users/abdessamadoukermou/Downloads/Reply/.venv/lib/python3.11/site-packages/autograd/tracer.py:14: UserWarning: Output seems independent of input.\n",
      "  warnings.warn(\"Output seems independent of input.\")\n"
     ]
    },
    {
     "name": "stdout",
     "output_type": "stream",
     "text": [
      "n = 2,  E = -3.87690180 H\n"
     ]
    },
    {
     "name": "stderr",
     "output_type": "stream",
     "text": [
      "/Users/abdessamadoukermou/Downloads/Reply/.venv/lib/python3.11/site-packages/autograd/tracer.py:14: UserWarning: Output seems independent of input.\n",
      "  warnings.warn(\"Output seems independent of input.\")\n"
     ]
    },
    {
     "name": "stdout",
     "output_type": "stream",
     "text": [
      "n = 3,  E = -3.85187255 H\n"
     ]
    },
    {
     "name": "stderr",
     "output_type": "stream",
     "text": [
      "/Users/abdessamadoukermou/Downloads/Reply/.venv/lib/python3.11/site-packages/autograd/tracer.py:14: UserWarning: Output seems independent of input.\n",
      "  warnings.warn(\"Output seems independent of input.\")\n"
     ]
    },
    {
     "name": "stdout",
     "output_type": "stream",
     "text": [
      "n = 4,  E = -3.30503812 H\n"
     ]
    },
    {
     "name": "stderr",
     "output_type": "stream",
     "text": [
      "/Users/abdessamadoukermou/Downloads/Reply/.venv/lib/python3.11/site-packages/autograd/tracer.py:14: UserWarning: Output seems independent of input.\n",
      "  warnings.warn(\"Output seems independent of input.\")\n"
     ]
    },
    {
     "name": "stdout",
     "output_type": "stream",
     "text": [
      "n = 5,  E = -3.95762018 H\n"
     ]
    },
    {
     "name": "stderr",
     "output_type": "stream",
     "text": [
      "/Users/abdessamadoukermou/Downloads/Reply/.venv/lib/python3.11/site-packages/autograd/tracer.py:14: UserWarning: Output seems independent of input.\n",
      "  warnings.warn(\"Output seems independent of input.\")\n"
     ]
    },
    {
     "name": "stdout",
     "output_type": "stream",
     "text": [
      "n = 6,  E = -3.32543325 H\n"
     ]
    },
    {
     "name": "stderr",
     "output_type": "stream",
     "text": [
      "/Users/abdessamadoukermou/Downloads/Reply/.venv/lib/python3.11/site-packages/autograd/tracer.py:14: UserWarning: Output seems independent of input.\n",
      "  warnings.warn(\"Output seems independent of input.\")\n"
     ]
    },
    {
     "name": "stdout",
     "output_type": "stream",
     "text": [
      "n = 7,  E = -3.46915512 H\n"
     ]
    },
    {
     "name": "stderr",
     "output_type": "stream",
     "text": [
      "/Users/abdessamadoukermou/Downloads/Reply/.venv/lib/python3.11/site-packages/autograd/tracer.py:14: UserWarning: Output seems independent of input.\n",
      "  warnings.warn(\"Output seems independent of input.\")\n"
     ]
    },
    {
     "name": "stdout",
     "output_type": "stream",
     "text": [
      "n = 8,  E = -3.63100385 H\n"
     ]
    },
    {
     "name": "stderr",
     "output_type": "stream",
     "text": [
      "/Users/abdessamadoukermou/Downloads/Reply/.venv/lib/python3.11/site-packages/autograd/tracer.py:14: UserWarning: Output seems independent of input.\n",
      "  warnings.warn(\"Output seems independent of input.\")\n"
     ]
    },
    {
     "name": "stdout",
     "output_type": "stream",
     "text": [
      "n = 9,  E = -3.90484636 H\n"
     ]
    },
    {
     "name": "stderr",
     "output_type": "stream",
     "text": [
      "/Users/abdessamadoukermou/Downloads/Reply/.venv/lib/python3.11/site-packages/autograd/tracer.py:14: UserWarning: Output seems independent of input.\n",
      "  warnings.warn(\"Output seems independent of input.\")\n"
     ]
    },
    {
     "name": "stdout",
     "output_type": "stream",
     "text": [
      "n = 10,  E = -3.71284001 H\n"
     ]
    },
    {
     "name": "stderr",
     "output_type": "stream",
     "text": [
      "/Users/abdessamadoukermou/Downloads/Reply/.venv/lib/python3.11/site-packages/autograd/tracer.py:14: UserWarning: Output seems independent of input.\n",
      "  warnings.warn(\"Output seems independent of input.\")\n"
     ]
    },
    {
     "name": "stdout",
     "output_type": "stream",
     "text": [
      "n = 11,  E = -3.42037504 H\n"
     ]
    },
    {
     "name": "stderr",
     "output_type": "stream",
     "text": [
      "/Users/abdessamadoukermou/Downloads/Reply/.venv/lib/python3.11/site-packages/autograd/tracer.py:14: UserWarning: Output seems independent of input.\n",
      "  warnings.warn(\"Output seems independent of input.\")\n"
     ]
    },
    {
     "name": "stdout",
     "output_type": "stream",
     "text": [
      "n = 12,  E = -3.27444546 H\n"
     ]
    },
    {
     "name": "stderr",
     "output_type": "stream",
     "text": [
      "/Users/abdessamadoukermou/Downloads/Reply/.venv/lib/python3.11/site-packages/autograd/tracer.py:14: UserWarning: Output seems independent of input.\n",
      "  warnings.warn(\"Output seems independent of input.\")\n"
     ]
    },
    {
     "name": "stdout",
     "output_type": "stream",
     "text": [
      "n = 13,  E = -3.36235883 H\n"
     ]
    },
    {
     "name": "stderr",
     "output_type": "stream",
     "text": [
      "/Users/abdessamadoukermou/Downloads/Reply/.venv/lib/python3.11/site-packages/autograd/tracer.py:14: UserWarning: Output seems independent of input.\n",
      "  warnings.warn(\"Output seems independent of input.\")\n"
     ]
    },
    {
     "name": "stdout",
     "output_type": "stream",
     "text": [
      "n = 14,  E = -3.67750859 H\n"
     ]
    },
    {
     "name": "stderr",
     "output_type": "stream",
     "text": [
      "/Users/abdessamadoukermou/Downloads/Reply/.venv/lib/python3.11/site-packages/autograd/tracer.py:14: UserWarning: Output seems independent of input.\n",
      "  warnings.warn(\"Output seems independent of input.\")\n"
     ]
    },
    {
     "name": "stdout",
     "output_type": "stream",
     "text": [
      "n = 15,  E = -3.61131922 H\n"
     ]
    },
    {
     "name": "stderr",
     "output_type": "stream",
     "text": [
      "/Users/abdessamadoukermou/Downloads/Reply/.venv/lib/python3.11/site-packages/autograd/tracer.py:14: UserWarning: Output seems independent of input.\n",
      "  warnings.warn(\"Output seems independent of input.\")\n"
     ]
    },
    {
     "name": "stdout",
     "output_type": "stream",
     "text": [
      "n = 16,  E = -3.63146420 H\n"
     ]
    },
    {
     "name": "stderr",
     "output_type": "stream",
     "text": [
      "/Users/abdessamadoukermou/Downloads/Reply/.venv/lib/python3.11/site-packages/autograd/tracer.py:14: UserWarning: Output seems independent of input.\n",
      "  warnings.warn(\"Output seems independent of input.\")\n"
     ]
    },
    {
     "name": "stdout",
     "output_type": "stream",
     "text": [
      "n = 17,  E = -3.56369704 H\n"
     ]
    },
    {
     "name": "stderr",
     "output_type": "stream",
     "text": [
      "/Users/abdessamadoukermou/Downloads/Reply/.venv/lib/python3.11/site-packages/autograd/tracer.py:14: UserWarning: Output seems independent of input.\n",
      "  warnings.warn(\"Output seems independent of input.\")\n"
     ]
    },
    {
     "name": "stdout",
     "output_type": "stream",
     "text": [
      "n = 18,  E = -3.31815511 H\n"
     ]
    },
    {
     "name": "stderr",
     "output_type": "stream",
     "text": [
      "/Users/abdessamadoukermou/Downloads/Reply/.venv/lib/python3.11/site-packages/autograd/tracer.py:14: UserWarning: Output seems independent of input.\n",
      "  warnings.warn(\"Output seems independent of input.\")\n"
     ]
    },
    {
     "name": "stdout",
     "output_type": "stream",
     "text": [
      "n = 19,  E = -3.61571064 H\n"
     ]
    },
    {
     "name": "stderr",
     "output_type": "stream",
     "text": [
      "/Users/abdessamadoukermou/Downloads/Reply/.venv/lib/python3.11/site-packages/autograd/tracer.py:14: UserWarning: Output seems independent of input.\n",
      "  warnings.warn(\"Output seems independent of input.\")\n"
     ]
    },
    {
     "name": "stdout",
     "output_type": "stream",
     "text": [
      "n = 20,  E = -3.41681084 H\n"
     ]
    },
    {
     "name": "stderr",
     "output_type": "stream",
     "text": [
      "/Users/abdessamadoukermou/Downloads/Reply/.venv/lib/python3.11/site-packages/autograd/tracer.py:14: UserWarning: Output seems independent of input.\n",
      "  warnings.warn(\"Output seems independent of input.\")\n"
     ]
    },
    {
     "name": "stdout",
     "output_type": "stream",
     "text": [
      "n = 21,  E = -3.84481893 H\n"
     ]
    },
    {
     "name": "stderr",
     "output_type": "stream",
     "text": [
      "/Users/abdessamadoukermou/Downloads/Reply/.venv/lib/python3.11/site-packages/autograd/tracer.py:14: UserWarning: Output seems independent of input.\n",
      "  warnings.warn(\"Output seems independent of input.\")\n"
     ]
    },
    {
     "name": "stdout",
     "output_type": "stream",
     "text": [
      "n = 22,  E = -3.49233011 H\n"
     ]
    },
    {
     "name": "stderr",
     "output_type": "stream",
     "text": [
      "/Users/abdessamadoukermou/Downloads/Reply/.venv/lib/python3.11/site-packages/autograd/tracer.py:14: UserWarning: Output seems independent of input.\n",
      "  warnings.warn(\"Output seems independent of input.\")\n"
     ]
    },
    {
     "name": "stdout",
     "output_type": "stream",
     "text": [
      "n = 23,  E = -3.53482588 H\n"
     ]
    },
    {
     "name": "stderr",
     "output_type": "stream",
     "text": [
      "/Users/abdessamadoukermou/Downloads/Reply/.venv/lib/python3.11/site-packages/autograd/tracer.py:14: UserWarning: Output seems independent of input.\n",
      "  warnings.warn(\"Output seems independent of input.\")\n"
     ]
    },
    {
     "name": "stdout",
     "output_type": "stream",
     "text": [
      "n = 24,  E = -3.76124238 H\n"
     ]
    },
    {
     "name": "stderr",
     "output_type": "stream",
     "text": [
      "/Users/abdessamadoukermou/Downloads/Reply/.venv/lib/python3.11/site-packages/autograd/tracer.py:14: UserWarning: Output seems independent of input.\n",
      "  warnings.warn(\"Output seems independent of input.\")\n"
     ]
    },
    {
     "name": "stdout",
     "output_type": "stream",
     "text": [
      "n = 25,  E = -3.44219584 H\n"
     ]
    },
    {
     "name": "stderr",
     "output_type": "stream",
     "text": [
      "/Users/abdessamadoukermou/Downloads/Reply/.venv/lib/python3.11/site-packages/autograd/tracer.py:14: UserWarning: Output seems independent of input.\n",
      "  warnings.warn(\"Output seems independent of input.\")\n"
     ]
    },
    {
     "name": "stdout",
     "output_type": "stream",
     "text": [
      "n = 26,  E = -3.55677976 H\n"
     ]
    },
    {
     "name": "stderr",
     "output_type": "stream",
     "text": [
      "/Users/abdessamadoukermou/Downloads/Reply/.venv/lib/python3.11/site-packages/autograd/tracer.py:14: UserWarning: Output seems independent of input.\n",
      "  warnings.warn(\"Output seems independent of input.\")\n"
     ]
    },
    {
     "name": "stdout",
     "output_type": "stream",
     "text": [
      "n = 27,  E = -3.69438417 H\n"
     ]
    },
    {
     "name": "stderr",
     "output_type": "stream",
     "text": [
      "/Users/abdessamadoukermou/Downloads/Reply/.venv/lib/python3.11/site-packages/autograd/tracer.py:14: UserWarning: Output seems independent of input.\n",
      "  warnings.warn(\"Output seems independent of input.\")\n"
     ]
    },
    {
     "name": "stdout",
     "output_type": "stream",
     "text": [
      "n = 28,  E = -3.88828498 H\n"
     ]
    },
    {
     "name": "stderr",
     "output_type": "stream",
     "text": [
      "/Users/abdessamadoukermou/Downloads/Reply/.venv/lib/python3.11/site-packages/autograd/tracer.py:14: UserWarning: Output seems independent of input.\n",
      "  warnings.warn(\"Output seems independent of input.\")\n"
     ]
    },
    {
     "name": "stdout",
     "output_type": "stream",
     "text": [
      "n = 29,  E = -3.53407245 H\n"
     ]
    },
    {
     "name": "stderr",
     "output_type": "stream",
     "text": [
      "/Users/abdessamadoukermou/Downloads/Reply/.venv/lib/python3.11/site-packages/autograd/tracer.py:14: UserWarning: Output seems independent of input.\n",
      "  warnings.warn(\"Output seems independent of input.\")\n"
     ]
    },
    {
     "name": "stdout",
     "output_type": "stream",
     "text": [
      "n = 30,  E = -3.40784457 H\n"
     ]
    },
    {
     "name": "stderr",
     "output_type": "stream",
     "text": [
      "/Users/abdessamadoukermou/Downloads/Reply/.venv/lib/python3.11/site-packages/autograd/tracer.py:14: UserWarning: Output seems independent of input.\n",
      "  warnings.warn(\"Output seems independent of input.\")\n"
     ]
    },
    {
     "name": "stdout",
     "output_type": "stream",
     "text": [
      "n = 31,  E = -3.91644344 H\n"
     ]
    },
    {
     "name": "stderr",
     "output_type": "stream",
     "text": [
      "/Users/abdessamadoukermou/Downloads/Reply/.venv/lib/python3.11/site-packages/autograd/tracer.py:14: UserWarning: Output seems independent of input.\n",
      "  warnings.warn(\"Output seems independent of input.\")\n"
     ]
    },
    {
     "name": "stdout",
     "output_type": "stream",
     "text": [
      "n = 32,  E = -3.43504103 H\n"
     ]
    },
    {
     "name": "stderr",
     "output_type": "stream",
     "text": [
      "/Users/abdessamadoukermou/Downloads/Reply/.venv/lib/python3.11/site-packages/autograd/tracer.py:14: UserWarning: Output seems independent of input.\n",
      "  warnings.warn(\"Output seems independent of input.\")\n"
     ]
    },
    {
     "name": "stdout",
     "output_type": "stream",
     "text": [
      "n = 33,  E = -3.27844283 H\n"
     ]
    },
    {
     "name": "stderr",
     "output_type": "stream",
     "text": [
      "/Users/abdessamadoukermou/Downloads/Reply/.venv/lib/python3.11/site-packages/autograd/tracer.py:14: UserWarning: Output seems independent of input.\n",
      "  warnings.warn(\"Output seems independent of input.\")\n"
     ]
    },
    {
     "name": "stdout",
     "output_type": "stream",
     "text": [
      "n = 34,  E = -3.44072469 H\n"
     ]
    },
    {
     "name": "stderr",
     "output_type": "stream",
     "text": [
      "/Users/abdessamadoukermou/Downloads/Reply/.venv/lib/python3.11/site-packages/autograd/tracer.py:14: UserWarning: Output seems independent of input.\n",
      "  warnings.warn(\"Output seems independent of input.\")\n"
     ]
    },
    {
     "name": "stdout",
     "output_type": "stream",
     "text": [
      "n = 35,  E = -3.62915003 H\n"
     ]
    },
    {
     "name": "stderr",
     "output_type": "stream",
     "text": [
      "/Users/abdessamadoukermou/Downloads/Reply/.venv/lib/python3.11/site-packages/autograd/tracer.py:14: UserWarning: Output seems independent of input.\n",
      "  warnings.warn(\"Output seems independent of input.\")\n"
     ]
    },
    {
     "name": "stdout",
     "output_type": "stream",
     "text": [
      "n = 36,  E = -3.80818476 H\n"
     ]
    },
    {
     "name": "stderr",
     "output_type": "stream",
     "text": [
      "/Users/abdessamadoukermou/Downloads/Reply/.venv/lib/python3.11/site-packages/autograd/tracer.py:14: UserWarning: Output seems independent of input.\n",
      "  warnings.warn(\"Output seems independent of input.\")\n"
     ]
    },
    {
     "name": "stdout",
     "output_type": "stream",
     "text": [
      "n = 37,  E = -3.49970393 H\n"
     ]
    },
    {
     "name": "stderr",
     "output_type": "stream",
     "text": [
      "/Users/abdessamadoukermou/Downloads/Reply/.venv/lib/python3.11/site-packages/autograd/tracer.py:14: UserWarning: Output seems independent of input.\n",
      "  warnings.warn(\"Output seems independent of input.\")\n"
     ]
    },
    {
     "name": "stdout",
     "output_type": "stream",
     "text": [
      "n = 38,  E = -3.25987283 H\n"
     ]
    },
    {
     "name": "stderr",
     "output_type": "stream",
     "text": [
      "/Users/abdessamadoukermou/Downloads/Reply/.venv/lib/python3.11/site-packages/autograd/tracer.py:14: UserWarning: Output seems independent of input.\n",
      "  warnings.warn(\"Output seems independent of input.\")\n"
     ]
    },
    {
     "name": "stdout",
     "output_type": "stream",
     "text": [
      "n = 39,  E = -3.37102053 H\n"
     ]
    },
    {
     "name": "stderr",
     "output_type": "stream",
     "text": [
      "/Users/abdessamadoukermou/Downloads/Reply/.venv/lib/python3.11/site-packages/autograd/tracer.py:14: UserWarning: Output seems independent of input.\n",
      "  warnings.warn(\"Output seems independent of input.\")\n"
     ]
    },
    {
     "name": "stdout",
     "output_type": "stream",
     "text": [
      "n = 40,  E = -3.00426627 H\n"
     ]
    },
    {
     "name": "stderr",
     "output_type": "stream",
     "text": [
      "/Users/abdessamadoukermou/Downloads/Reply/.venv/lib/python3.11/site-packages/autograd/tracer.py:14: UserWarning: Output seems independent of input.\n",
      "  warnings.warn(\"Output seems independent of input.\")\n"
     ]
    },
    {
     "name": "stdout",
     "output_type": "stream",
     "text": [
      "n = 41,  E = -3.81727252 H\n"
     ]
    },
    {
     "name": "stderr",
     "output_type": "stream",
     "text": [
      "/Users/abdessamadoukermou/Downloads/Reply/.venv/lib/python3.11/site-packages/autograd/tracer.py:14: UserWarning: Output seems independent of input.\n",
      "  warnings.warn(\"Output seems independent of input.\")\n"
     ]
    },
    {
     "name": "stdout",
     "output_type": "stream",
     "text": [
      "n = 42,  E = -3.76019432 H\n"
     ]
    },
    {
     "name": "stderr",
     "output_type": "stream",
     "text": [
      "/Users/abdessamadoukermou/Downloads/Reply/.venv/lib/python3.11/site-packages/autograd/tracer.py:14: UserWarning: Output seems independent of input.\n",
      "  warnings.warn(\"Output seems independent of input.\")\n"
     ]
    },
    {
     "name": "stdout",
     "output_type": "stream",
     "text": [
      "n = 43,  E = -3.44704574 H\n"
     ]
    },
    {
     "name": "stderr",
     "output_type": "stream",
     "text": [
      "/Users/abdessamadoukermou/Downloads/Reply/.venv/lib/python3.11/site-packages/autograd/tracer.py:14: UserWarning: Output seems independent of input.\n",
      "  warnings.warn(\"Output seems independent of input.\")\n"
     ]
    },
    {
     "name": "stdout",
     "output_type": "stream",
     "text": [
      "n = 44,  E = -3.61107198 H\n"
     ]
    },
    {
     "name": "stderr",
     "output_type": "stream",
     "text": [
      "/Users/abdessamadoukermou/Downloads/Reply/.venv/lib/python3.11/site-packages/autograd/tracer.py:14: UserWarning: Output seems independent of input.\n",
      "  warnings.warn(\"Output seems independent of input.\")\n"
     ]
    },
    {
     "name": "stdout",
     "output_type": "stream",
     "text": [
      "n = 45,  E = -3.39547753 H\n"
     ]
    },
    {
     "name": "stderr",
     "output_type": "stream",
     "text": [
      "/Users/abdessamadoukermou/Downloads/Reply/.venv/lib/python3.11/site-packages/autograd/tracer.py:14: UserWarning: Output seems independent of input.\n",
      "  warnings.warn(\"Output seems independent of input.\")\n"
     ]
    },
    {
     "name": "stdout",
     "output_type": "stream",
     "text": [
      "n = 46,  E = -3.24869641 H\n"
     ]
    },
    {
     "name": "stderr",
     "output_type": "stream",
     "text": [
      "/Users/abdessamadoukermou/Downloads/Reply/.venv/lib/python3.11/site-packages/autograd/tracer.py:14: UserWarning: Output seems independent of input.\n",
      "  warnings.warn(\"Output seems independent of input.\")\n"
     ]
    },
    {
     "name": "stdout",
     "output_type": "stream",
     "text": [
      "n = 47,  E = -3.43708846 H\n"
     ]
    },
    {
     "name": "stderr",
     "output_type": "stream",
     "text": [
      "/Users/abdessamadoukermou/Downloads/Reply/.venv/lib/python3.11/site-packages/autograd/tracer.py:14: UserWarning: Output seems independent of input.\n",
      "  warnings.warn(\"Output seems independent of input.\")\n"
     ]
    },
    {
     "name": "stdout",
     "output_type": "stream",
     "text": [
      "n = 48,  E = -3.61004570 H\n"
     ]
    },
    {
     "name": "stderr",
     "output_type": "stream",
     "text": [
      "/Users/abdessamadoukermou/Downloads/Reply/.venv/lib/python3.11/site-packages/autograd/tracer.py:14: UserWarning: Output seems independent of input.\n",
      "  warnings.warn(\"Output seems independent of input.\")\n"
     ]
    },
    {
     "name": "stdout",
     "output_type": "stream",
     "text": [
      "n = 49,  E = -3.48299948 H\n"
     ]
    },
    {
     "name": "stderr",
     "output_type": "stream",
     "text": [
      "/Users/abdessamadoukermou/Downloads/Reply/.venv/lib/python3.11/site-packages/autograd/tracer.py:14: UserWarning: Output seems independent of input.\n",
      "  warnings.warn(\"Output seems independent of input.\")\n"
     ]
    },
    {
     "name": "stdout",
     "output_type": "stream",
     "text": [
      "n = 50,  E = -3.92481078 H\n"
     ]
    },
    {
     "name": "stderr",
     "output_type": "stream",
     "text": [
      "/Users/abdessamadoukermou/Downloads/Reply/.venv/lib/python3.11/site-packages/autograd/tracer.py:14: UserWarning: Output seems independent of input.\n",
      "  warnings.warn(\"Output seems independent of input.\")\n"
     ]
    },
    {
     "name": "stdout",
     "output_type": "stream",
     "text": [
      "n = 51,  E = -3.40520247 H\n"
     ]
    },
    {
     "name": "stderr",
     "output_type": "stream",
     "text": [
      "/Users/abdessamadoukermou/Downloads/Reply/.venv/lib/python3.11/site-packages/autograd/tracer.py:14: UserWarning: Output seems independent of input.\n",
      "  warnings.warn(\"Output seems independent of input.\")\n"
     ]
    },
    {
     "name": "stdout",
     "output_type": "stream",
     "text": [
      "n = 52,  E = -3.83252013 H\n"
     ]
    },
    {
     "name": "stderr",
     "output_type": "stream",
     "text": [
      "/Users/abdessamadoukermou/Downloads/Reply/.venv/lib/python3.11/site-packages/autograd/tracer.py:14: UserWarning: Output seems independent of input.\n",
      "  warnings.warn(\"Output seems independent of input.\")\n"
     ]
    },
    {
     "name": "stdout",
     "output_type": "stream",
     "text": [
      "n = 53,  E = -3.54055931 H\n"
     ]
    },
    {
     "name": "stderr",
     "output_type": "stream",
     "text": [
      "/Users/abdessamadoukermou/Downloads/Reply/.venv/lib/python3.11/site-packages/autograd/tracer.py:14: UserWarning: Output seems independent of input.\n",
      "  warnings.warn(\"Output seems independent of input.\")\n"
     ]
    },
    {
     "name": "stdout",
     "output_type": "stream",
     "text": [
      "n = 54,  E = -3.39716997 H\n"
     ]
    },
    {
     "name": "stderr",
     "output_type": "stream",
     "text": [
      "/Users/abdessamadoukermou/Downloads/Reply/.venv/lib/python3.11/site-packages/autograd/tracer.py:14: UserWarning: Output seems independent of input.\n",
      "  warnings.warn(\"Output seems independent of input.\")\n"
     ]
    },
    {
     "name": "stdout",
     "output_type": "stream",
     "text": [
      "n = 55,  E = -3.66251944 H\n"
     ]
    },
    {
     "name": "stderr",
     "output_type": "stream",
     "text": [
      "/Users/abdessamadoukermou/Downloads/Reply/.venv/lib/python3.11/site-packages/autograd/tracer.py:14: UserWarning: Output seems independent of input.\n",
      "  warnings.warn(\"Output seems independent of input.\")\n"
     ]
    },
    {
     "name": "stdout",
     "output_type": "stream",
     "text": [
      "n = 56,  E = -3.76099994 H\n"
     ]
    },
    {
     "name": "stderr",
     "output_type": "stream",
     "text": [
      "/Users/abdessamadoukermou/Downloads/Reply/.venv/lib/python3.11/site-packages/autograd/tracer.py:14: UserWarning: Output seems independent of input.\n",
      "  warnings.warn(\"Output seems independent of input.\")\n"
     ]
    },
    {
     "name": "stdout",
     "output_type": "stream",
     "text": [
      "n = 57,  E = -3.55751488 H\n"
     ]
    },
    {
     "name": "stderr",
     "output_type": "stream",
     "text": [
      "/Users/abdessamadoukermou/Downloads/Reply/.venv/lib/python3.11/site-packages/autograd/tracer.py:14: UserWarning: Output seems independent of input.\n",
      "  warnings.warn(\"Output seems independent of input.\")\n"
     ]
    },
    {
     "name": "stdout",
     "output_type": "stream",
     "text": [
      "n = 58,  E = -3.40765447 H\n"
     ]
    },
    {
     "name": "stderr",
     "output_type": "stream",
     "text": [
      "/Users/abdessamadoukermou/Downloads/Reply/.venv/lib/python3.11/site-packages/autograd/tracer.py:14: UserWarning: Output seems independent of input.\n",
      "  warnings.warn(\"Output seems independent of input.\")\n"
     ]
    },
    {
     "name": "stdout",
     "output_type": "stream",
     "text": [
      "n = 59,  E = -3.58647682 H\n"
     ]
    },
    {
     "name": "stderr",
     "output_type": "stream",
     "text": [
      "/Users/abdessamadoukermou/Downloads/Reply/.venv/lib/python3.11/site-packages/autograd/tracer.py:14: UserWarning: Output seems independent of input.\n",
      "  warnings.warn(\"Output seems independent of input.\")\n"
     ]
    },
    {
     "name": "stdout",
     "output_type": "stream",
     "text": [
      "n = 60,  E = -3.37858862 H\n"
     ]
    },
    {
     "name": "stderr",
     "output_type": "stream",
     "text": [
      "/Users/abdessamadoukermou/Downloads/Reply/.venv/lib/python3.11/site-packages/autograd/tracer.py:14: UserWarning: Output seems independent of input.\n",
      "  warnings.warn(\"Output seems independent of input.\")\n"
     ]
    },
    {
     "name": "stdout",
     "output_type": "stream",
     "text": [
      "n = 61,  E = -3.64072052 H\n"
     ]
    },
    {
     "name": "stderr",
     "output_type": "stream",
     "text": [
      "/Users/abdessamadoukermou/Downloads/Reply/.venv/lib/python3.11/site-packages/autograd/tracer.py:14: UserWarning: Output seems independent of input.\n",
      "  warnings.warn(\"Output seems independent of input.\")\n"
     ]
    },
    {
     "name": "stdout",
     "output_type": "stream",
     "text": [
      "n = 62,  E = -3.28704925 H\n"
     ]
    },
    {
     "name": "stderr",
     "output_type": "stream",
     "text": [
      "/Users/abdessamadoukermou/Downloads/Reply/.venv/lib/python3.11/site-packages/autograd/tracer.py:14: UserWarning: Output seems independent of input.\n",
      "  warnings.warn(\"Output seems independent of input.\")\n"
     ]
    },
    {
     "name": "stdout",
     "output_type": "stream",
     "text": [
      "n = 63,  E = -3.73980902 H\n"
     ]
    },
    {
     "name": "stderr",
     "output_type": "stream",
     "text": [
      "/Users/abdessamadoukermou/Downloads/Reply/.venv/lib/python3.11/site-packages/autograd/tracer.py:14: UserWarning: Output seems independent of input.\n",
      "  warnings.warn(\"Output seems independent of input.\")\n"
     ]
    },
    {
     "name": "stdout",
     "output_type": "stream",
     "text": [
      "n = 64,  E = -3.32307379 H\n"
     ]
    },
    {
     "name": "stderr",
     "output_type": "stream",
     "text": [
      "/Users/abdessamadoukermou/Downloads/Reply/.venv/lib/python3.11/site-packages/autograd/tracer.py:14: UserWarning: Output seems independent of input.\n",
      "  warnings.warn(\"Output seems independent of input.\")\n"
     ]
    },
    {
     "name": "stdout",
     "output_type": "stream",
     "text": [
      "n = 65,  E = -3.65998065 H\n"
     ]
    },
    {
     "name": "stderr",
     "output_type": "stream",
     "text": [
      "/Users/abdessamadoukermou/Downloads/Reply/.venv/lib/python3.11/site-packages/autograd/tracer.py:14: UserWarning: Output seems independent of input.\n",
      "  warnings.warn(\"Output seems independent of input.\")\n"
     ]
    },
    {
     "name": "stdout",
     "output_type": "stream",
     "text": [
      "n = 66,  E = -3.64150438 H\n"
     ]
    },
    {
     "name": "stderr",
     "output_type": "stream",
     "text": [
      "/Users/abdessamadoukermou/Downloads/Reply/.venv/lib/python3.11/site-packages/autograd/tracer.py:14: UserWarning: Output seems independent of input.\n",
      "  warnings.warn(\"Output seems independent of input.\")\n"
     ]
    },
    {
     "name": "stdout",
     "output_type": "stream",
     "text": [
      "n = 67,  E = -3.99730340 H\n"
     ]
    },
    {
     "name": "stderr",
     "output_type": "stream",
     "text": [
      "/Users/abdessamadoukermou/Downloads/Reply/.venv/lib/python3.11/site-packages/autograd/tracer.py:14: UserWarning: Output seems independent of input.\n",
      "  warnings.warn(\"Output seems independent of input.\")\n"
     ]
    },
    {
     "name": "stdout",
     "output_type": "stream",
     "text": [
      "n = 68,  E = -3.38894900 H\n"
     ]
    },
    {
     "name": "stderr",
     "output_type": "stream",
     "text": [
      "/Users/abdessamadoukermou/Downloads/Reply/.venv/lib/python3.11/site-packages/autograd/tracer.py:14: UserWarning: Output seems independent of input.\n",
      "  warnings.warn(\"Output seems independent of input.\")\n"
     ]
    },
    {
     "name": "stdout",
     "output_type": "stream",
     "text": [
      "n = 69,  E = -3.48470705 H\n"
     ]
    },
    {
     "name": "stderr",
     "output_type": "stream",
     "text": [
      "/Users/abdessamadoukermou/Downloads/Reply/.venv/lib/python3.11/site-packages/autograd/tracer.py:14: UserWarning: Output seems independent of input.\n",
      "  warnings.warn(\"Output seems independent of input.\")\n"
     ]
    },
    {
     "name": "stdout",
     "output_type": "stream",
     "text": [
      "n = 70,  E = -3.80733829 H\n"
     ]
    },
    {
     "name": "stderr",
     "output_type": "stream",
     "text": [
      "/Users/abdessamadoukermou/Downloads/Reply/.venv/lib/python3.11/site-packages/autograd/tracer.py:14: UserWarning: Output seems independent of input.\n",
      "  warnings.warn(\"Output seems independent of input.\")\n"
     ]
    },
    {
     "name": "stdout",
     "output_type": "stream",
     "text": [
      "n = 71,  E = -3.61209013 H\n"
     ]
    },
    {
     "name": "stderr",
     "output_type": "stream",
     "text": [
      "/Users/abdessamadoukermou/Downloads/Reply/.venv/lib/python3.11/site-packages/autograd/tracer.py:14: UserWarning: Output seems independent of input.\n",
      "  warnings.warn(\"Output seems independent of input.\")\n"
     ]
    },
    {
     "name": "stdout",
     "output_type": "stream",
     "text": [
      "n = 72,  E = -3.58842263 H\n"
     ]
    },
    {
     "name": "stderr",
     "output_type": "stream",
     "text": [
      "/Users/abdessamadoukermou/Downloads/Reply/.venv/lib/python3.11/site-packages/autograd/tracer.py:14: UserWarning: Output seems independent of input.\n",
      "  warnings.warn(\"Output seems independent of input.\")\n"
     ]
    },
    {
     "name": "stdout",
     "output_type": "stream",
     "text": [
      "n = 73,  E = -3.46707757 H\n"
     ]
    },
    {
     "name": "stderr",
     "output_type": "stream",
     "text": [
      "/Users/abdessamadoukermou/Downloads/Reply/.venv/lib/python3.11/site-packages/autograd/tracer.py:14: UserWarning: Output seems independent of input.\n",
      "  warnings.warn(\"Output seems independent of input.\")\n"
     ]
    },
    {
     "name": "stdout",
     "output_type": "stream",
     "text": [
      "n = 74,  E = -3.49420972 H\n"
     ]
    },
    {
     "name": "stderr",
     "output_type": "stream",
     "text": [
      "/Users/abdessamadoukermou/Downloads/Reply/.venv/lib/python3.11/site-packages/autograd/tracer.py:14: UserWarning: Output seems independent of input.\n",
      "  warnings.warn(\"Output seems independent of input.\")\n"
     ]
    },
    {
     "name": "stdout",
     "output_type": "stream",
     "text": [
      "n = 75,  E = -3.44751764 H\n"
     ]
    },
    {
     "name": "stderr",
     "output_type": "stream",
     "text": [
      "/Users/abdessamadoukermou/Downloads/Reply/.venv/lib/python3.11/site-packages/autograd/tracer.py:14: UserWarning: Output seems independent of input.\n",
      "  warnings.warn(\"Output seems independent of input.\")\n"
     ]
    },
    {
     "name": "stdout",
     "output_type": "stream",
     "text": [
      "n = 76,  E = -3.81631472 H\n"
     ]
    },
    {
     "name": "stderr",
     "output_type": "stream",
     "text": [
      "/Users/abdessamadoukermou/Downloads/Reply/.venv/lib/python3.11/site-packages/autograd/tracer.py:14: UserWarning: Output seems independent of input.\n",
      "  warnings.warn(\"Output seems independent of input.\")\n"
     ]
    },
    {
     "name": "stdout",
     "output_type": "stream",
     "text": [
      "n = 77,  E = -3.35491702 H\n"
     ]
    },
    {
     "name": "stderr",
     "output_type": "stream",
     "text": [
      "/Users/abdessamadoukermou/Downloads/Reply/.venv/lib/python3.11/site-packages/autograd/tracer.py:14: UserWarning: Output seems independent of input.\n",
      "  warnings.warn(\"Output seems independent of input.\")\n"
     ]
    },
    {
     "name": "stdout",
     "output_type": "stream",
     "text": [
      "n = 78,  E = -3.28205108 H\n"
     ]
    },
    {
     "name": "stderr",
     "output_type": "stream",
     "text": [
      "/Users/abdessamadoukermou/Downloads/Reply/.venv/lib/python3.11/site-packages/autograd/tracer.py:14: UserWarning: Output seems independent of input.\n",
      "  warnings.warn(\"Output seems independent of input.\")\n"
     ]
    },
    {
     "name": "stdout",
     "output_type": "stream",
     "text": [
      "n = 79,  E = -3.45181113 H\n"
     ]
    },
    {
     "name": "stderr",
     "output_type": "stream",
     "text": [
      "/Users/abdessamadoukermou/Downloads/Reply/.venv/lib/python3.11/site-packages/autograd/tracer.py:14: UserWarning: Output seems independent of input.\n",
      "  warnings.warn(\"Output seems independent of input.\")\n"
     ]
    },
    {
     "name": "stdout",
     "output_type": "stream",
     "text": [
      "n = 80,  E = -3.89942551 H\n"
     ]
    },
    {
     "name": "stderr",
     "output_type": "stream",
     "text": [
      "/Users/abdessamadoukermou/Downloads/Reply/.venv/lib/python3.11/site-packages/autograd/tracer.py:14: UserWarning: Output seems independent of input.\n",
      "  warnings.warn(\"Output seems independent of input.\")\n"
     ]
    },
    {
     "name": "stdout",
     "output_type": "stream",
     "text": [
      "n = 81,  E = -3.59919162 H\n"
     ]
    },
    {
     "name": "stderr",
     "output_type": "stream",
     "text": [
      "/Users/abdessamadoukermou/Downloads/Reply/.venv/lib/python3.11/site-packages/autograd/tracer.py:14: UserWarning: Output seems independent of input.\n",
      "  warnings.warn(\"Output seems independent of input.\")\n"
     ]
    },
    {
     "name": "stdout",
     "output_type": "stream",
     "text": [
      "n = 82,  E = -3.43547255 H\n"
     ]
    },
    {
     "name": "stderr",
     "output_type": "stream",
     "text": [
      "/Users/abdessamadoukermou/Downloads/Reply/.venv/lib/python3.11/site-packages/autograd/tracer.py:14: UserWarning: Output seems independent of input.\n",
      "  warnings.warn(\"Output seems independent of input.\")\n"
     ]
    },
    {
     "name": "stdout",
     "output_type": "stream",
     "text": [
      "n = 83,  E = -3.60918331 H\n"
     ]
    },
    {
     "name": "stderr",
     "output_type": "stream",
     "text": [
      "/Users/abdessamadoukermou/Downloads/Reply/.venv/lib/python3.11/site-packages/autograd/tracer.py:14: UserWarning: Output seems independent of input.\n",
      "  warnings.warn(\"Output seems independent of input.\")\n"
     ]
    },
    {
     "name": "stdout",
     "output_type": "stream",
     "text": [
      "n = 84,  E = -3.42920317 H\n"
     ]
    },
    {
     "name": "stderr",
     "output_type": "stream",
     "text": [
      "/Users/abdessamadoukermou/Downloads/Reply/.venv/lib/python3.11/site-packages/autograd/tracer.py:14: UserWarning: Output seems independent of input.\n",
      "  warnings.warn(\"Output seems independent of input.\")\n"
     ]
    },
    {
     "name": "stdout",
     "output_type": "stream",
     "text": [
      "n = 85,  E = -3.52720276 H\n"
     ]
    },
    {
     "name": "stderr",
     "output_type": "stream",
     "text": [
      "/Users/abdessamadoukermou/Downloads/Reply/.venv/lib/python3.11/site-packages/autograd/tracer.py:14: UserWarning: Output seems independent of input.\n",
      "  warnings.warn(\"Output seems independent of input.\")\n"
     ]
    },
    {
     "name": "stdout",
     "output_type": "stream",
     "text": [
      "n = 86,  E = -3.75229540 H\n"
     ]
    },
    {
     "name": "stderr",
     "output_type": "stream",
     "text": [
      "/Users/abdessamadoukermou/Downloads/Reply/.venv/lib/python3.11/site-packages/autograd/tracer.py:14: UserWarning: Output seems independent of input.\n",
      "  warnings.warn(\"Output seems independent of input.\")\n"
     ]
    },
    {
     "name": "stdout",
     "output_type": "stream",
     "text": [
      "n = 87,  E = -3.41400807 H\n"
     ]
    },
    {
     "name": "stderr",
     "output_type": "stream",
     "text": [
      "/Users/abdessamadoukermou/Downloads/Reply/.venv/lib/python3.11/site-packages/autograd/tracer.py:14: UserWarning: Output seems independent of input.\n",
      "  warnings.warn(\"Output seems independent of input.\")\n"
     ]
    },
    {
     "name": "stdout",
     "output_type": "stream",
     "text": [
      "n = 88,  E = -3.82359882 H\n"
     ]
    },
    {
     "name": "stderr",
     "output_type": "stream",
     "text": [
      "/Users/abdessamadoukermou/Downloads/Reply/.venv/lib/python3.11/site-packages/autograd/tracer.py:14: UserWarning: Output seems independent of input.\n",
      "  warnings.warn(\"Output seems independent of input.\")\n"
     ]
    },
    {
     "name": "stdout",
     "output_type": "stream",
     "text": [
      "n = 89,  E = -3.48065736 H\n"
     ]
    },
    {
     "name": "stderr",
     "output_type": "stream",
     "text": [
      "/Users/abdessamadoukermou/Downloads/Reply/.venv/lib/python3.11/site-packages/autograd/tracer.py:14: UserWarning: Output seems independent of input.\n",
      "  warnings.warn(\"Output seems independent of input.\")\n"
     ]
    },
    {
     "name": "stdout",
     "output_type": "stream",
     "text": [
      "n = 90,  E = -3.62924837 H\n"
     ]
    },
    {
     "name": "stderr",
     "output_type": "stream",
     "text": [
      "/Users/abdessamadoukermou/Downloads/Reply/.venv/lib/python3.11/site-packages/autograd/tracer.py:14: UserWarning: Output seems independent of input.\n",
      "  warnings.warn(\"Output seems independent of input.\")\n"
     ]
    },
    {
     "name": "stdout",
     "output_type": "stream",
     "text": [
      "n = 91,  E = -3.38421420 H\n"
     ]
    },
    {
     "name": "stderr",
     "output_type": "stream",
     "text": [
      "/Users/abdessamadoukermou/Downloads/Reply/.venv/lib/python3.11/site-packages/autograd/tracer.py:14: UserWarning: Output seems independent of input.\n",
      "  warnings.warn(\"Output seems independent of input.\")\n"
     ]
    },
    {
     "name": "stdout",
     "output_type": "stream",
     "text": [
      "n = 92,  E = -3.39728199 H\n"
     ]
    },
    {
     "name": "stderr",
     "output_type": "stream",
     "text": [
      "/Users/abdessamadoukermou/Downloads/Reply/.venv/lib/python3.11/site-packages/autograd/tracer.py:14: UserWarning: Output seems independent of input.\n",
      "  warnings.warn(\"Output seems independent of input.\")\n"
     ]
    },
    {
     "name": "stdout",
     "output_type": "stream",
     "text": [
      "n = 93,  E = -3.45266002 H\n"
     ]
    },
    {
     "name": "stderr",
     "output_type": "stream",
     "text": [
      "/Users/abdessamadoukermou/Downloads/Reply/.venv/lib/python3.11/site-packages/autograd/tracer.py:14: UserWarning: Output seems independent of input.\n",
      "  warnings.warn(\"Output seems independent of input.\")\n"
     ]
    },
    {
     "name": "stdout",
     "output_type": "stream",
     "text": [
      "n = 94,  E = -3.93690474 H\n"
     ]
    },
    {
     "name": "stderr",
     "output_type": "stream",
     "text": [
      "/Users/abdessamadoukermou/Downloads/Reply/.venv/lib/python3.11/site-packages/autograd/tracer.py:14: UserWarning: Output seems independent of input.\n",
      "  warnings.warn(\"Output seems independent of input.\")\n"
     ]
    },
    {
     "name": "stdout",
     "output_type": "stream",
     "text": [
      "n = 95,  E = -3.37617739 H\n"
     ]
    },
    {
     "name": "stderr",
     "output_type": "stream",
     "text": [
      "/Users/abdessamadoukermou/Downloads/Reply/.venv/lib/python3.11/site-packages/autograd/tracer.py:14: UserWarning: Output seems independent of input.\n",
      "  warnings.warn(\"Output seems independent of input.\")\n"
     ]
    },
    {
     "name": "stdout",
     "output_type": "stream",
     "text": [
      "n = 96,  E = -4.01015606 H\n"
     ]
    },
    {
     "name": "stderr",
     "output_type": "stream",
     "text": [
      "/Users/abdessamadoukermou/Downloads/Reply/.venv/lib/python3.11/site-packages/autograd/tracer.py:14: UserWarning: Output seems independent of input.\n",
      "  warnings.warn(\"Output seems independent of input.\")\n"
     ]
    },
    {
     "name": "stdout",
     "output_type": "stream",
     "text": [
      "n = 97,  E = -3.60132887 H\n"
     ]
    },
    {
     "name": "stderr",
     "output_type": "stream",
     "text": [
      "/Users/abdessamadoukermou/Downloads/Reply/.venv/lib/python3.11/site-packages/autograd/tracer.py:14: UserWarning: Output seems independent of input.\n",
      "  warnings.warn(\"Output seems independent of input.\")\n"
     ]
    },
    {
     "name": "stdout",
     "output_type": "stream",
     "text": [
      "n = 98,  E = -3.66880104 H\n"
     ]
    },
    {
     "name": "stderr",
     "output_type": "stream",
     "text": [
      "/Users/abdessamadoukermou/Downloads/Reply/.venv/lib/python3.11/site-packages/autograd/tracer.py:14: UserWarning: Output seems independent of input.\n",
      "  warnings.warn(\"Output seems independent of input.\")\n"
     ]
    },
    {
     "name": "stdout",
     "output_type": "stream",
     "text": [
      "n = 99,  E = -3.39063973 H\n"
     ]
    },
    {
     "name": "stderr",
     "output_type": "stream",
     "text": [
      "/Users/abdessamadoukermou/Downloads/Reply/.venv/lib/python3.11/site-packages/autograd/tracer.py:14: UserWarning: Output seems independent of input.\n",
      "  warnings.warn(\"Output seems independent of input.\")\n"
     ]
    },
    {
     "name": "stdout",
     "output_type": "stream",
     "text": [
      "n = 100,  E = -3.71120135 H\n"
     ]
    },
    {
     "name": "stderr",
     "output_type": "stream",
     "text": [
      "/Users/abdessamadoukermou/Downloads/Reply/.venv/lib/python3.11/site-packages/autograd/tracer.py:14: UserWarning: Output seems independent of input.\n",
      "  warnings.warn(\"Output seems independent of input.\")\n"
     ]
    },
    {
     "name": "stdout",
     "output_type": "stream",
     "text": [
      "n = 101,  E = -3.80537662 H\n"
     ]
    },
    {
     "name": "stderr",
     "output_type": "stream",
     "text": [
      "/Users/abdessamadoukermou/Downloads/Reply/.venv/lib/python3.11/site-packages/autograd/tracer.py:14: UserWarning: Output seems independent of input.\n",
      "  warnings.warn(\"Output seems independent of input.\")\n"
     ]
    },
    {
     "name": "stdout",
     "output_type": "stream",
     "text": [
      "n = 102,  E = -3.78254890 H\n"
     ]
    },
    {
     "name": "stderr",
     "output_type": "stream",
     "text": [
      "/Users/abdessamadoukermou/Downloads/Reply/.venv/lib/python3.11/site-packages/autograd/tracer.py:14: UserWarning: Output seems independent of input.\n",
      "  warnings.warn(\"Output seems independent of input.\")\n"
     ]
    },
    {
     "name": "stdout",
     "output_type": "stream",
     "text": [
      "n = 103,  E = -3.91499664 H\n"
     ]
    },
    {
     "name": "stderr",
     "output_type": "stream",
     "text": [
      "/Users/abdessamadoukermou/Downloads/Reply/.venv/lib/python3.11/site-packages/autograd/tracer.py:14: UserWarning: Output seems independent of input.\n",
      "  warnings.warn(\"Output seems independent of input.\")\n"
     ]
    },
    {
     "name": "stdout",
     "output_type": "stream",
     "text": [
      "n = 104,  E = -3.26646442 H\n"
     ]
    },
    {
     "name": "stderr",
     "output_type": "stream",
     "text": [
      "/Users/abdessamadoukermou/Downloads/Reply/.venv/lib/python3.11/site-packages/autograd/tracer.py:14: UserWarning: Output seems independent of input.\n",
      "  warnings.warn(\"Output seems independent of input.\")\n"
     ]
    },
    {
     "name": "stdout",
     "output_type": "stream",
     "text": [
      "n = 105,  E = -3.23901754 H\n"
     ]
    },
    {
     "name": "stderr",
     "output_type": "stream",
     "text": [
      "/Users/abdessamadoukermou/Downloads/Reply/.venv/lib/python3.11/site-packages/autograd/tracer.py:14: UserWarning: Output seems independent of input.\n",
      "  warnings.warn(\"Output seems independent of input.\")\n"
     ]
    },
    {
     "name": "stdout",
     "output_type": "stream",
     "text": [
      "n = 106,  E = -3.68367982 H\n"
     ]
    },
    {
     "name": "stderr",
     "output_type": "stream",
     "text": [
      "/Users/abdessamadoukermou/Downloads/Reply/.venv/lib/python3.11/site-packages/autograd/tracer.py:14: UserWarning: Output seems independent of input.\n",
      "  warnings.warn(\"Output seems independent of input.\")\n"
     ]
    },
    {
     "name": "stdout",
     "output_type": "stream",
     "text": [
      "n = 107,  E = -3.62028884 H\n"
     ]
    },
    {
     "name": "stderr",
     "output_type": "stream",
     "text": [
      "/Users/abdessamadoukermou/Downloads/Reply/.venv/lib/python3.11/site-packages/autograd/tracer.py:14: UserWarning: Output seems independent of input.\n",
      "  warnings.warn(\"Output seems independent of input.\")\n"
     ]
    },
    {
     "name": "stdout",
     "output_type": "stream",
     "text": [
      "n = 108,  E = -3.74082794 H\n"
     ]
    },
    {
     "name": "stderr",
     "output_type": "stream",
     "text": [
      "/Users/abdessamadoukermou/Downloads/Reply/.venv/lib/python3.11/site-packages/autograd/tracer.py:14: UserWarning: Output seems independent of input.\n",
      "  warnings.warn(\"Output seems independent of input.\")\n"
     ]
    },
    {
     "name": "stdout",
     "output_type": "stream",
     "text": [
      "n = 109,  E = -3.38579119 H\n"
     ]
    },
    {
     "name": "stderr",
     "output_type": "stream",
     "text": [
      "/Users/abdessamadoukermou/Downloads/Reply/.venv/lib/python3.11/site-packages/autograd/tracer.py:14: UserWarning: Output seems independent of input.\n",
      "  warnings.warn(\"Output seems independent of input.\")\n"
     ]
    },
    {
     "name": "stdout",
     "output_type": "stream",
     "text": [
      "n = 110,  E = -3.53114131 H\n"
     ]
    },
    {
     "name": "stderr",
     "output_type": "stream",
     "text": [
      "/Users/abdessamadoukermou/Downloads/Reply/.venv/lib/python3.11/site-packages/autograd/tracer.py:14: UserWarning: Output seems independent of input.\n",
      "  warnings.warn(\"Output seems independent of input.\")\n"
     ]
    },
    {
     "name": "stdout",
     "output_type": "stream",
     "text": [
      "n = 111,  E = -3.66824666 H\n"
     ]
    },
    {
     "name": "stderr",
     "output_type": "stream",
     "text": [
      "/Users/abdessamadoukermou/Downloads/Reply/.venv/lib/python3.11/site-packages/autograd/tracer.py:14: UserWarning: Output seems independent of input.\n",
      "  warnings.warn(\"Output seems independent of input.\")\n"
     ]
    },
    {
     "name": "stdout",
     "output_type": "stream",
     "text": [
      "n = 112,  E = -3.69636492 H\n"
     ]
    },
    {
     "name": "stderr",
     "output_type": "stream",
     "text": [
      "/Users/abdessamadoukermou/Downloads/Reply/.venv/lib/python3.11/site-packages/autograd/tracer.py:14: UserWarning: Output seems independent of input.\n",
      "  warnings.warn(\"Output seems independent of input.\")\n"
     ]
    },
    {
     "name": "stdout",
     "output_type": "stream",
     "text": [
      "n = 113,  E = -3.47686853 H\n"
     ]
    },
    {
     "name": "stderr",
     "output_type": "stream",
     "text": [
      "/Users/abdessamadoukermou/Downloads/Reply/.venv/lib/python3.11/site-packages/autograd/tracer.py:14: UserWarning: Output seems independent of input.\n",
      "  warnings.warn(\"Output seems independent of input.\")\n"
     ]
    },
    {
     "name": "stdout",
     "output_type": "stream",
     "text": [
      "n = 114,  E = -3.66060484 H\n"
     ]
    },
    {
     "name": "stderr",
     "output_type": "stream",
     "text": [
      "/Users/abdessamadoukermou/Downloads/Reply/.venv/lib/python3.11/site-packages/autograd/tracer.py:14: UserWarning: Output seems independent of input.\n",
      "  warnings.warn(\"Output seems independent of input.\")\n"
     ]
    },
    {
     "name": "stdout",
     "output_type": "stream",
     "text": [
      "n = 115,  E = -3.46277437 H\n"
     ]
    },
    {
     "name": "stderr",
     "output_type": "stream",
     "text": [
      "/Users/abdessamadoukermou/Downloads/Reply/.venv/lib/python3.11/site-packages/autograd/tracer.py:14: UserWarning: Output seems independent of input.\n",
      "  warnings.warn(\"Output seems independent of input.\")\n"
     ]
    },
    {
     "name": "stdout",
     "output_type": "stream",
     "text": [
      "n = 116,  E = -3.66550054 H\n"
     ]
    },
    {
     "name": "stderr",
     "output_type": "stream",
     "text": [
      "/Users/abdessamadoukermou/Downloads/Reply/.venv/lib/python3.11/site-packages/autograd/tracer.py:14: UserWarning: Output seems independent of input.\n",
      "  warnings.warn(\"Output seems independent of input.\")\n"
     ]
    },
    {
     "name": "stdout",
     "output_type": "stream",
     "text": [
      "n = 117,  E = -3.58499379 H\n"
     ]
    },
    {
     "name": "stderr",
     "output_type": "stream",
     "text": [
      "/Users/abdessamadoukermou/Downloads/Reply/.venv/lib/python3.11/site-packages/autograd/tracer.py:14: UserWarning: Output seems independent of input.\n",
      "  warnings.warn(\"Output seems independent of input.\")\n"
     ]
    },
    {
     "name": "stdout",
     "output_type": "stream",
     "text": [
      "n = 118,  E = -3.48152530 H\n"
     ]
    },
    {
     "name": "stderr",
     "output_type": "stream",
     "text": [
      "/Users/abdessamadoukermou/Downloads/Reply/.venv/lib/python3.11/site-packages/autograd/tracer.py:14: UserWarning: Output seems independent of input.\n",
      "  warnings.warn(\"Output seems independent of input.\")\n"
     ]
    },
    {
     "name": "stdout",
     "output_type": "stream",
     "text": [
      "n = 119,  E = -3.59266928 H\n"
     ]
    },
    {
     "name": "stderr",
     "output_type": "stream",
     "text": [
      "/Users/abdessamadoukermou/Downloads/Reply/.venv/lib/python3.11/site-packages/autograd/tracer.py:14: UserWarning: Output seems independent of input.\n",
      "  warnings.warn(\"Output seems independent of input.\")\n"
     ]
    },
    {
     "name": "stdout",
     "output_type": "stream",
     "text": [
      "n = 120,  E = -3.60575757 H\n"
     ]
    },
    {
     "name": "stderr",
     "output_type": "stream",
     "text": [
      "/Users/abdessamadoukermou/Downloads/Reply/.venv/lib/python3.11/site-packages/autograd/tracer.py:14: UserWarning: Output seems independent of input.\n",
      "  warnings.warn(\"Output seems independent of input.\")\n"
     ]
    },
    {
     "name": "stdout",
     "output_type": "stream",
     "text": [
      "n = 121,  E = -3.55575885 H\n"
     ]
    },
    {
     "name": "stderr",
     "output_type": "stream",
     "text": [
      "/Users/abdessamadoukermou/Downloads/Reply/.venv/lib/python3.11/site-packages/autograd/tracer.py:14: UserWarning: Output seems independent of input.\n",
      "  warnings.warn(\"Output seems independent of input.\")\n"
     ]
    },
    {
     "name": "stdout",
     "output_type": "stream",
     "text": [
      "n = 122,  E = -3.66081591 H\n"
     ]
    },
    {
     "name": "stderr",
     "output_type": "stream",
     "text": [
      "/Users/abdessamadoukermou/Downloads/Reply/.venv/lib/python3.11/site-packages/autograd/tracer.py:14: UserWarning: Output seems independent of input.\n",
      "  warnings.warn(\"Output seems independent of input.\")\n"
     ]
    },
    {
     "name": "stdout",
     "output_type": "stream",
     "text": [
      "n = 123,  E = -3.50193488 H\n"
     ]
    },
    {
     "name": "stderr",
     "output_type": "stream",
     "text": [
      "/Users/abdessamadoukermou/Downloads/Reply/.venv/lib/python3.11/site-packages/autograd/tracer.py:14: UserWarning: Output seems independent of input.\n",
      "  warnings.warn(\"Output seems independent of input.\")\n"
     ]
    },
    {
     "name": "stdout",
     "output_type": "stream",
     "text": [
      "n = 124,  E = -3.78799270 H\n"
     ]
    },
    {
     "name": "stderr",
     "output_type": "stream",
     "text": [
      "/Users/abdessamadoukermou/Downloads/Reply/.venv/lib/python3.11/site-packages/autograd/tracer.py:14: UserWarning: Output seems independent of input.\n",
      "  warnings.warn(\"Output seems independent of input.\")\n"
     ]
    },
    {
     "name": "stdout",
     "output_type": "stream",
     "text": [
      "n = 125,  E = -3.56827841 H\n"
     ]
    },
    {
     "name": "stderr",
     "output_type": "stream",
     "text": [
      "/Users/abdessamadoukermou/Downloads/Reply/.venv/lib/python3.11/site-packages/autograd/tracer.py:14: UserWarning: Output seems independent of input.\n",
      "  warnings.warn(\"Output seems independent of input.\")\n"
     ]
    },
    {
     "name": "stdout",
     "output_type": "stream",
     "text": [
      "n = 126,  E = -3.72331685 H\n"
     ]
    },
    {
     "name": "stderr",
     "output_type": "stream",
     "text": [
      "/Users/abdessamadoukermou/Downloads/Reply/.venv/lib/python3.11/site-packages/autograd/tracer.py:14: UserWarning: Output seems independent of input.\n",
      "  warnings.warn(\"Output seems independent of input.\")\n"
     ]
    },
    {
     "name": "stdout",
     "output_type": "stream",
     "text": [
      "n = 127,  E = -3.69205156 H\n"
     ]
    },
    {
     "name": "stderr",
     "output_type": "stream",
     "text": [
      "/Users/abdessamadoukermou/Downloads/Reply/.venv/lib/python3.11/site-packages/autograd/tracer.py:14: UserWarning: Output seems independent of input.\n",
      "  warnings.warn(\"Output seems independent of input.\")\n"
     ]
    },
    {
     "name": "stdout",
     "output_type": "stream",
     "text": [
      "n = 128,  E = -3.66015903 H\n"
     ]
    },
    {
     "name": "stderr",
     "output_type": "stream",
     "text": [
      "/Users/abdessamadoukermou/Downloads/Reply/.venv/lib/python3.11/site-packages/autograd/tracer.py:14: UserWarning: Output seems independent of input.\n",
      "  warnings.warn(\"Output seems independent of input.\")\n"
     ]
    },
    {
     "name": "stdout",
     "output_type": "stream",
     "text": [
      "n = 129,  E = -3.52734861 H\n"
     ]
    },
    {
     "name": "stderr",
     "output_type": "stream",
     "text": [
      "/Users/abdessamadoukermou/Downloads/Reply/.venv/lib/python3.11/site-packages/autograd/tracer.py:14: UserWarning: Output seems independent of input.\n",
      "  warnings.warn(\"Output seems independent of input.\")\n"
     ]
    },
    {
     "name": "stdout",
     "output_type": "stream",
     "text": [
      "n = 130,  E = -3.67462146 H\n"
     ]
    },
    {
     "name": "stderr",
     "output_type": "stream",
     "text": [
      "/Users/abdessamadoukermou/Downloads/Reply/.venv/lib/python3.11/site-packages/autograd/tracer.py:14: UserWarning: Output seems independent of input.\n",
      "  warnings.warn(\"Output seems independent of input.\")\n"
     ]
    },
    {
     "name": "stdout",
     "output_type": "stream",
     "text": [
      "n = 131,  E = -3.26097160 H\n"
     ]
    },
    {
     "name": "stderr",
     "output_type": "stream",
     "text": [
      "/Users/abdessamadoukermou/Downloads/Reply/.venv/lib/python3.11/site-packages/autograd/tracer.py:14: UserWarning: Output seems independent of input.\n",
      "  warnings.warn(\"Output seems independent of input.\")\n"
     ]
    },
    {
     "name": "stdout",
     "output_type": "stream",
     "text": [
      "n = 132,  E = -3.71245755 H\n"
     ]
    },
    {
     "name": "stderr",
     "output_type": "stream",
     "text": [
      "/Users/abdessamadoukermou/Downloads/Reply/.venv/lib/python3.11/site-packages/autograd/tracer.py:14: UserWarning: Output seems independent of input.\n",
      "  warnings.warn(\"Output seems independent of input.\")\n"
     ]
    },
    {
     "name": "stdout",
     "output_type": "stream",
     "text": [
      "n = 133,  E = -3.58777544 H\n"
     ]
    },
    {
     "name": "stderr",
     "output_type": "stream",
     "text": [
      "/Users/abdessamadoukermou/Downloads/Reply/.venv/lib/python3.11/site-packages/autograd/tracer.py:14: UserWarning: Output seems independent of input.\n",
      "  warnings.warn(\"Output seems independent of input.\")\n"
     ]
    },
    {
     "name": "stdout",
     "output_type": "stream",
     "text": [
      "n = 134,  E = -3.60165913 H\n"
     ]
    },
    {
     "name": "stderr",
     "output_type": "stream",
     "text": [
      "/Users/abdessamadoukermou/Downloads/Reply/.venv/lib/python3.11/site-packages/autograd/tracer.py:14: UserWarning: Output seems independent of input.\n",
      "  warnings.warn(\"Output seems independent of input.\")\n"
     ]
    },
    {
     "name": "stdout",
     "output_type": "stream",
     "text": [
      "n = 135,  E = -3.39611028 H\n"
     ]
    },
    {
     "name": "stderr",
     "output_type": "stream",
     "text": [
      "/Users/abdessamadoukermou/Downloads/Reply/.venv/lib/python3.11/site-packages/autograd/tracer.py:14: UserWarning: Output seems independent of input.\n",
      "  warnings.warn(\"Output seems independent of input.\")\n"
     ]
    },
    {
     "name": "stdout",
     "output_type": "stream",
     "text": [
      "n = 136,  E = -3.85963142 H\n"
     ]
    },
    {
     "name": "stderr",
     "output_type": "stream",
     "text": [
      "/Users/abdessamadoukermou/Downloads/Reply/.venv/lib/python3.11/site-packages/autograd/tracer.py:14: UserWarning: Output seems independent of input.\n",
      "  warnings.warn(\"Output seems independent of input.\")\n"
     ]
    },
    {
     "name": "stdout",
     "output_type": "stream",
     "text": [
      "n = 137,  E = -3.49902197 H\n"
     ]
    },
    {
     "name": "stderr",
     "output_type": "stream",
     "text": [
      "/Users/abdessamadoukermou/Downloads/Reply/.venv/lib/python3.11/site-packages/autograd/tracer.py:14: UserWarning: Output seems independent of input.\n",
      "  warnings.warn(\"Output seems independent of input.\")\n"
     ]
    },
    {
     "name": "stdout",
     "output_type": "stream",
     "text": [
      "n = 138,  E = -3.51419979 H\n"
     ]
    },
    {
     "name": "stderr",
     "output_type": "stream",
     "text": [
      "/Users/abdessamadoukermou/Downloads/Reply/.venv/lib/python3.11/site-packages/autograd/tracer.py:14: UserWarning: Output seems independent of input.\n",
      "  warnings.warn(\"Output seems independent of input.\")\n"
     ]
    },
    {
     "name": "stdout",
     "output_type": "stream",
     "text": [
      "n = 139,  E = -3.45448988 H\n"
     ]
    },
    {
     "name": "stderr",
     "output_type": "stream",
     "text": [
      "/Users/abdessamadoukermou/Downloads/Reply/.venv/lib/python3.11/site-packages/autograd/tracer.py:14: UserWarning: Output seems independent of input.\n",
      "  warnings.warn(\"Output seems independent of input.\")\n"
     ]
    },
    {
     "name": "stdout",
     "output_type": "stream",
     "text": [
      "n = 140,  E = -3.67162053 H\n"
     ]
    },
    {
     "name": "stderr",
     "output_type": "stream",
     "text": [
      "/Users/abdessamadoukermou/Downloads/Reply/.venv/lib/python3.11/site-packages/autograd/tracer.py:14: UserWarning: Output seems independent of input.\n",
      "  warnings.warn(\"Output seems independent of input.\")\n"
     ]
    },
    {
     "name": "stdout",
     "output_type": "stream",
     "text": [
      "n = 141,  E = -3.68574699 H\n"
     ]
    },
    {
     "name": "stderr",
     "output_type": "stream",
     "text": [
      "/Users/abdessamadoukermou/Downloads/Reply/.venv/lib/python3.11/site-packages/autograd/tracer.py:14: UserWarning: Output seems independent of input.\n",
      "  warnings.warn(\"Output seems independent of input.\")\n"
     ]
    },
    {
     "name": "stdout",
     "output_type": "stream",
     "text": [
      "n = 142,  E = -3.65585169 H\n"
     ]
    },
    {
     "name": "stderr",
     "output_type": "stream",
     "text": [
      "/Users/abdessamadoukermou/Downloads/Reply/.venv/lib/python3.11/site-packages/autograd/tracer.py:14: UserWarning: Output seems independent of input.\n",
      "  warnings.warn(\"Output seems independent of input.\")\n"
     ]
    },
    {
     "name": "stdout",
     "output_type": "stream",
     "text": [
      "n = 143,  E = -3.40571082 H\n"
     ]
    },
    {
     "name": "stderr",
     "output_type": "stream",
     "text": [
      "/Users/abdessamadoukermou/Downloads/Reply/.venv/lib/python3.11/site-packages/autograd/tracer.py:14: UserWarning: Output seems independent of input.\n",
      "  warnings.warn(\"Output seems independent of input.\")\n"
     ]
    },
    {
     "name": "stdout",
     "output_type": "stream",
     "text": [
      "n = 144,  E = -3.30254538 H\n"
     ]
    },
    {
     "name": "stderr",
     "output_type": "stream",
     "text": [
      "/Users/abdessamadoukermou/Downloads/Reply/.venv/lib/python3.11/site-packages/autograd/tracer.py:14: UserWarning: Output seems independent of input.\n",
      "  warnings.warn(\"Output seems independent of input.\")\n"
     ]
    },
    {
     "name": "stdout",
     "output_type": "stream",
     "text": [
      "n = 145,  E = -3.47505548 H\n"
     ]
    },
    {
     "name": "stderr",
     "output_type": "stream",
     "text": [
      "/Users/abdessamadoukermou/Downloads/Reply/.venv/lib/python3.11/site-packages/autograd/tracer.py:14: UserWarning: Output seems independent of input.\n",
      "  warnings.warn(\"Output seems independent of input.\")\n"
     ]
    },
    {
     "name": "stdout",
     "output_type": "stream",
     "text": [
      "n = 146,  E = -3.39204729 H\n"
     ]
    },
    {
     "name": "stderr",
     "output_type": "stream",
     "text": [
      "/Users/abdessamadoukermou/Downloads/Reply/.venv/lib/python3.11/site-packages/autograd/tracer.py:14: UserWarning: Output seems independent of input.\n",
      "  warnings.warn(\"Output seems independent of input.\")\n"
     ]
    },
    {
     "name": "stdout",
     "output_type": "stream",
     "text": [
      "n = 147,  E = -3.35831108 H\n"
     ]
    },
    {
     "name": "stderr",
     "output_type": "stream",
     "text": [
      "/Users/abdessamadoukermou/Downloads/Reply/.venv/lib/python3.11/site-packages/autograd/tracer.py:14: UserWarning: Output seems independent of input.\n",
      "  warnings.warn(\"Output seems independent of input.\")\n"
     ]
    },
    {
     "name": "stdout",
     "output_type": "stream",
     "text": [
      "n = 148,  E = -3.37008811 H\n"
     ]
    },
    {
     "name": "stderr",
     "output_type": "stream",
     "text": [
      "/Users/abdessamadoukermou/Downloads/Reply/.venv/lib/python3.11/site-packages/autograd/tracer.py:14: UserWarning: Output seems independent of input.\n",
      "  warnings.warn(\"Output seems independent of input.\")\n"
     ]
    },
    {
     "name": "stdout",
     "output_type": "stream",
     "text": [
      "n = 149,  E = -3.54891592 H\n"
     ]
    },
    {
     "name": "stderr",
     "output_type": "stream",
     "text": [
      "/Users/abdessamadoukermou/Downloads/Reply/.venv/lib/python3.11/site-packages/autograd/tracer.py:14: UserWarning: Output seems independent of input.\n",
      "  warnings.warn(\"Output seems independent of input.\")\n"
     ]
    },
    {
     "name": "stdout",
     "output_type": "stream",
     "text": [
      "n = 150,  E = -3.33825063 H\n"
     ]
    },
    {
     "name": "stderr",
     "output_type": "stream",
     "text": [
      "/Users/abdessamadoukermou/Downloads/Reply/.venv/lib/python3.11/site-packages/autograd/tracer.py:14: UserWarning: Output seems independent of input.\n",
      "  warnings.warn(\"Output seems independent of input.\")\n"
     ]
    },
    {
     "name": "stdout",
     "output_type": "stream",
     "text": [
      "n = 151,  E = -3.45776880 H\n"
     ]
    },
    {
     "name": "stderr",
     "output_type": "stream",
     "text": [
      "/Users/abdessamadoukermou/Downloads/Reply/.venv/lib/python3.11/site-packages/autograd/tracer.py:14: UserWarning: Output seems independent of input.\n",
      "  warnings.warn(\"Output seems independent of input.\")\n"
     ]
    },
    {
     "name": "stdout",
     "output_type": "stream",
     "text": [
      "n = 152,  E = -3.82068960 H\n"
     ]
    },
    {
     "name": "stderr",
     "output_type": "stream",
     "text": [
      "/Users/abdessamadoukermou/Downloads/Reply/.venv/lib/python3.11/site-packages/autograd/tracer.py:14: UserWarning: Output seems independent of input.\n",
      "  warnings.warn(\"Output seems independent of input.\")\n"
     ]
    },
    {
     "name": "stdout",
     "output_type": "stream",
     "text": [
      "n = 153,  E = -3.38411739 H\n"
     ]
    },
    {
     "name": "stderr",
     "output_type": "stream",
     "text": [
      "/Users/abdessamadoukermou/Downloads/Reply/.venv/lib/python3.11/site-packages/autograd/tracer.py:14: UserWarning: Output seems independent of input.\n",
      "  warnings.warn(\"Output seems independent of input.\")\n"
     ]
    },
    {
     "name": "stdout",
     "output_type": "stream",
     "text": [
      "n = 154,  E = -3.27900712 H\n"
     ]
    },
    {
     "name": "stderr",
     "output_type": "stream",
     "text": [
      "/Users/abdessamadoukermou/Downloads/Reply/.venv/lib/python3.11/site-packages/autograd/tracer.py:14: UserWarning: Output seems independent of input.\n",
      "  warnings.warn(\"Output seems independent of input.\")\n"
     ]
    },
    {
     "name": "stdout",
     "output_type": "stream",
     "text": [
      "n = 155,  E = -3.43823373 H\n"
     ]
    },
    {
     "name": "stderr",
     "output_type": "stream",
     "text": [
      "/Users/abdessamadoukermou/Downloads/Reply/.venv/lib/python3.11/site-packages/autograd/tracer.py:14: UserWarning: Output seems independent of input.\n",
      "  warnings.warn(\"Output seems independent of input.\")\n"
     ]
    },
    {
     "name": "stdout",
     "output_type": "stream",
     "text": [
      "n = 156,  E = -3.50196678 H\n"
     ]
    },
    {
     "name": "stderr",
     "output_type": "stream",
     "text": [
      "/Users/abdessamadoukermou/Downloads/Reply/.venv/lib/python3.11/site-packages/autograd/tracer.py:14: UserWarning: Output seems independent of input.\n",
      "  warnings.warn(\"Output seems independent of input.\")\n"
     ]
    },
    {
     "name": "stdout",
     "output_type": "stream",
     "text": [
      "n = 157,  E = -3.56647109 H\n"
     ]
    },
    {
     "name": "stderr",
     "output_type": "stream",
     "text": [
      "/Users/abdessamadoukermou/Downloads/Reply/.venv/lib/python3.11/site-packages/autograd/tracer.py:14: UserWarning: Output seems independent of input.\n",
      "  warnings.warn(\"Output seems independent of input.\")\n"
     ]
    },
    {
     "name": "stdout",
     "output_type": "stream",
     "text": [
      "n = 158,  E = -3.88565358 H\n"
     ]
    },
    {
     "name": "stderr",
     "output_type": "stream",
     "text": [
      "/Users/abdessamadoukermou/Downloads/Reply/.venv/lib/python3.11/site-packages/autograd/tracer.py:14: UserWarning: Output seems independent of input.\n",
      "  warnings.warn(\"Output seems independent of input.\")\n"
     ]
    },
    {
     "name": "stdout",
     "output_type": "stream",
     "text": [
      "n = 159,  E = -3.50406495 H\n"
     ]
    },
    {
     "name": "stderr",
     "output_type": "stream",
     "text": [
      "/Users/abdessamadoukermou/Downloads/Reply/.venv/lib/python3.11/site-packages/autograd/tracer.py:14: UserWarning: Output seems independent of input.\n",
      "  warnings.warn(\"Output seems independent of input.\")\n"
     ]
    },
    {
     "name": "stdout",
     "output_type": "stream",
     "text": [
      "n = 160,  E = -3.83800104 H\n"
     ]
    },
    {
     "name": "stderr",
     "output_type": "stream",
     "text": [
      "/Users/abdessamadoukermou/Downloads/Reply/.venv/lib/python3.11/site-packages/autograd/tracer.py:14: UserWarning: Output seems independent of input.\n",
      "  warnings.warn(\"Output seems independent of input.\")\n"
     ]
    },
    {
     "name": "stdout",
     "output_type": "stream",
     "text": [
      "n = 161,  E = -3.77872888 H\n"
     ]
    },
    {
     "name": "stderr",
     "output_type": "stream",
     "text": [
      "/Users/abdessamadoukermou/Downloads/Reply/.venv/lib/python3.11/site-packages/autograd/tracer.py:14: UserWarning: Output seems independent of input.\n",
      "  warnings.warn(\"Output seems independent of input.\")\n"
     ]
    },
    {
     "name": "stdout",
     "output_type": "stream",
     "text": [
      "n = 162,  E = -3.50300744 H\n"
     ]
    },
    {
     "name": "stderr",
     "output_type": "stream",
     "text": [
      "/Users/abdessamadoukermou/Downloads/Reply/.venv/lib/python3.11/site-packages/autograd/tracer.py:14: UserWarning: Output seems independent of input.\n",
      "  warnings.warn(\"Output seems independent of input.\")\n"
     ]
    },
    {
     "name": "stdout",
     "output_type": "stream",
     "text": [
      "n = 163,  E = -3.75995212 H\n"
     ]
    },
    {
     "name": "stderr",
     "output_type": "stream",
     "text": [
      "/Users/abdessamadoukermou/Downloads/Reply/.venv/lib/python3.11/site-packages/autograd/tracer.py:14: UserWarning: Output seems independent of input.\n",
      "  warnings.warn(\"Output seems independent of input.\")\n"
     ]
    },
    {
     "name": "stdout",
     "output_type": "stream",
     "text": [
      "n = 164,  E = -3.25122472 H\n"
     ]
    },
    {
     "name": "stderr",
     "output_type": "stream",
     "text": [
      "/Users/abdessamadoukermou/Downloads/Reply/.venv/lib/python3.11/site-packages/autograd/tracer.py:14: UserWarning: Output seems independent of input.\n",
      "  warnings.warn(\"Output seems independent of input.\")\n"
     ]
    },
    {
     "name": "stdout",
     "output_type": "stream",
     "text": [
      "n = 165,  E = -3.46376336 H\n"
     ]
    },
    {
     "name": "stderr",
     "output_type": "stream",
     "text": [
      "/Users/abdessamadoukermou/Downloads/Reply/.venv/lib/python3.11/site-packages/autograd/tracer.py:14: UserWarning: Output seems independent of input.\n",
      "  warnings.warn(\"Output seems independent of input.\")\n"
     ]
    },
    {
     "name": "stdout",
     "output_type": "stream",
     "text": [
      "n = 166,  E = -3.56049630 H\n"
     ]
    },
    {
     "name": "stderr",
     "output_type": "stream",
     "text": [
      "/Users/abdessamadoukermou/Downloads/Reply/.venv/lib/python3.11/site-packages/autograd/tracer.py:14: UserWarning: Output seems independent of input.\n",
      "  warnings.warn(\"Output seems independent of input.\")\n"
     ]
    },
    {
     "name": "stdout",
     "output_type": "stream",
     "text": [
      "n = 167,  E = -3.61573817 H\n"
     ]
    },
    {
     "name": "stderr",
     "output_type": "stream",
     "text": [
      "/Users/abdessamadoukermou/Downloads/Reply/.venv/lib/python3.11/site-packages/autograd/tracer.py:14: UserWarning: Output seems independent of input.\n",
      "  warnings.warn(\"Output seems independent of input.\")\n"
     ]
    },
    {
     "name": "stdout",
     "output_type": "stream",
     "text": [
      "n = 168,  E = -3.72425257 H\n"
     ]
    },
    {
     "name": "stderr",
     "output_type": "stream",
     "text": [
      "/Users/abdessamadoukermou/Downloads/Reply/.venv/lib/python3.11/site-packages/autograd/tracer.py:14: UserWarning: Output seems independent of input.\n",
      "  warnings.warn(\"Output seems independent of input.\")\n"
     ]
    },
    {
     "name": "stdout",
     "output_type": "stream",
     "text": [
      "n = 169,  E = -3.42763179 H\n"
     ]
    },
    {
     "name": "stderr",
     "output_type": "stream",
     "text": [
      "/Users/abdessamadoukermou/Downloads/Reply/.venv/lib/python3.11/site-packages/autograd/tracer.py:14: UserWarning: Output seems independent of input.\n",
      "  warnings.warn(\"Output seems independent of input.\")\n"
     ]
    },
    {
     "name": "stdout",
     "output_type": "stream",
     "text": [
      "n = 170,  E = -3.79154091 H\n"
     ]
    },
    {
     "name": "stderr",
     "output_type": "stream",
     "text": [
      "/Users/abdessamadoukermou/Downloads/Reply/.venv/lib/python3.11/site-packages/autograd/tracer.py:14: UserWarning: Output seems independent of input.\n",
      "  warnings.warn(\"Output seems independent of input.\")\n"
     ]
    },
    {
     "name": "stdout",
     "output_type": "stream",
     "text": [
      "n = 171,  E = -3.42902176 H\n"
     ]
    },
    {
     "name": "stderr",
     "output_type": "stream",
     "text": [
      "/Users/abdessamadoukermou/Downloads/Reply/.venv/lib/python3.11/site-packages/autograd/tracer.py:14: UserWarning: Output seems independent of input.\n",
      "  warnings.warn(\"Output seems independent of input.\")\n"
     ]
    },
    {
     "name": "stdout",
     "output_type": "stream",
     "text": [
      "n = 172,  E = -3.46495957 H\n"
     ]
    },
    {
     "name": "stderr",
     "output_type": "stream",
     "text": [
      "/Users/abdessamadoukermou/Downloads/Reply/.venv/lib/python3.11/site-packages/autograd/tracer.py:14: UserWarning: Output seems independent of input.\n",
      "  warnings.warn(\"Output seems independent of input.\")\n"
     ]
    },
    {
     "name": "stdout",
     "output_type": "stream",
     "text": [
      "n = 173,  E = -3.59608358 H\n"
     ]
    },
    {
     "name": "stderr",
     "output_type": "stream",
     "text": [
      "/Users/abdessamadoukermou/Downloads/Reply/.venv/lib/python3.11/site-packages/autograd/tracer.py:14: UserWarning: Output seems independent of input.\n",
      "  warnings.warn(\"Output seems independent of input.\")\n"
     ]
    },
    {
     "name": "stdout",
     "output_type": "stream",
     "text": [
      "n = 174,  E = -4.04600985 H\n"
     ]
    },
    {
     "name": "stderr",
     "output_type": "stream",
     "text": [
      "/Users/abdessamadoukermou/Downloads/Reply/.venv/lib/python3.11/site-packages/autograd/tracer.py:14: UserWarning: Output seems independent of input.\n",
      "  warnings.warn(\"Output seems independent of input.\")\n"
     ]
    },
    {
     "name": "stdout",
     "output_type": "stream",
     "text": [
      "n = 175,  E = -3.61096346 H\n"
     ]
    },
    {
     "name": "stderr",
     "output_type": "stream",
     "text": [
      "/Users/abdessamadoukermou/Downloads/Reply/.venv/lib/python3.11/site-packages/autograd/tracer.py:14: UserWarning: Output seems independent of input.\n",
      "  warnings.warn(\"Output seems independent of input.\")\n"
     ]
    },
    {
     "name": "stdout",
     "output_type": "stream",
     "text": [
      "n = 176,  E = -3.45782117 H\n"
     ]
    },
    {
     "name": "stderr",
     "output_type": "stream",
     "text": [
      "/Users/abdessamadoukermou/Downloads/Reply/.venv/lib/python3.11/site-packages/autograd/tracer.py:14: UserWarning: Output seems independent of input.\n",
      "  warnings.warn(\"Output seems independent of input.\")\n"
     ]
    },
    {
     "name": "stdout",
     "output_type": "stream",
     "text": [
      "n = 177,  E = -3.76227194 H\n"
     ]
    },
    {
     "name": "stderr",
     "output_type": "stream",
     "text": [
      "/Users/abdessamadoukermou/Downloads/Reply/.venv/lib/python3.11/site-packages/autograd/tracer.py:14: UserWarning: Output seems independent of input.\n",
      "  warnings.warn(\"Output seems independent of input.\")\n"
     ]
    },
    {
     "name": "stdout",
     "output_type": "stream",
     "text": [
      "n = 178,  E = -3.41302969 H\n"
     ]
    },
    {
     "name": "stderr",
     "output_type": "stream",
     "text": [
      "/Users/abdessamadoukermou/Downloads/Reply/.venv/lib/python3.11/site-packages/autograd/tracer.py:14: UserWarning: Output seems independent of input.\n",
      "  warnings.warn(\"Output seems independent of input.\")\n"
     ]
    },
    {
     "name": "stdout",
     "output_type": "stream",
     "text": [
      "n = 179,  E = -3.23020862 H\n"
     ]
    },
    {
     "name": "stderr",
     "output_type": "stream",
     "text": [
      "/Users/abdessamadoukermou/Downloads/Reply/.venv/lib/python3.11/site-packages/autograd/tracer.py:14: UserWarning: Output seems independent of input.\n",
      "  warnings.warn(\"Output seems independent of input.\")\n"
     ]
    },
    {
     "name": "stdout",
     "output_type": "stream",
     "text": [
      "n = 180,  E = -3.19059777 H\n"
     ]
    },
    {
     "name": "stderr",
     "output_type": "stream",
     "text": [
      "/Users/abdessamadoukermou/Downloads/Reply/.venv/lib/python3.11/site-packages/autograd/tracer.py:14: UserWarning: Output seems independent of input.\n",
      "  warnings.warn(\"Output seems independent of input.\")\n"
     ]
    },
    {
     "name": "stdout",
     "output_type": "stream",
     "text": [
      "n = 181,  E = -3.51501465 H\n"
     ]
    },
    {
     "name": "stderr",
     "output_type": "stream",
     "text": [
      "/Users/abdessamadoukermou/Downloads/Reply/.venv/lib/python3.11/site-packages/autograd/tracer.py:14: UserWarning: Output seems independent of input.\n",
      "  warnings.warn(\"Output seems independent of input.\")\n"
     ]
    },
    {
     "name": "stdout",
     "output_type": "stream",
     "text": [
      "n = 182,  E = -3.73152467 H\n"
     ]
    },
    {
     "name": "stderr",
     "output_type": "stream",
     "text": [
      "/Users/abdessamadoukermou/Downloads/Reply/.venv/lib/python3.11/site-packages/autograd/tracer.py:14: UserWarning: Output seems independent of input.\n",
      "  warnings.warn(\"Output seems independent of input.\")\n"
     ]
    },
    {
     "name": "stdout",
     "output_type": "stream",
     "text": [
      "n = 183,  E = -3.59872832 H\n"
     ]
    },
    {
     "name": "stderr",
     "output_type": "stream",
     "text": [
      "/Users/abdessamadoukermou/Downloads/Reply/.venv/lib/python3.11/site-packages/autograd/tracer.py:14: UserWarning: Output seems independent of input.\n",
      "  warnings.warn(\"Output seems independent of input.\")\n"
     ]
    },
    {
     "name": "stdout",
     "output_type": "stream",
     "text": [
      "n = 184,  E = -3.32302696 H\n"
     ]
    },
    {
     "name": "stderr",
     "output_type": "stream",
     "text": [
      "/Users/abdessamadoukermou/Downloads/Reply/.venv/lib/python3.11/site-packages/autograd/tracer.py:14: UserWarning: Output seems independent of input.\n",
      "  warnings.warn(\"Output seems independent of input.\")\n"
     ]
    },
    {
     "name": "stdout",
     "output_type": "stream",
     "text": [
      "n = 185,  E = -3.59535602 H\n"
     ]
    },
    {
     "name": "stderr",
     "output_type": "stream",
     "text": [
      "/Users/abdessamadoukermou/Downloads/Reply/.venv/lib/python3.11/site-packages/autograd/tracer.py:14: UserWarning: Output seems independent of input.\n",
      "  warnings.warn(\"Output seems independent of input.\")\n"
     ]
    },
    {
     "name": "stdout",
     "output_type": "stream",
     "text": [
      "n = 186,  E = -3.72033950 H\n"
     ]
    },
    {
     "name": "stderr",
     "output_type": "stream",
     "text": [
      "/Users/abdessamadoukermou/Downloads/Reply/.venv/lib/python3.11/site-packages/autograd/tracer.py:14: UserWarning: Output seems independent of input.\n",
      "  warnings.warn(\"Output seems independent of input.\")\n"
     ]
    },
    {
     "name": "stdout",
     "output_type": "stream",
     "text": [
      "n = 187,  E = -3.28601527 H\n"
     ]
    },
    {
     "name": "stderr",
     "output_type": "stream",
     "text": [
      "/Users/abdessamadoukermou/Downloads/Reply/.venv/lib/python3.11/site-packages/autograd/tracer.py:14: UserWarning: Output seems independent of input.\n",
      "  warnings.warn(\"Output seems independent of input.\")\n"
     ]
    },
    {
     "name": "stdout",
     "output_type": "stream",
     "text": [
      "n = 188,  E = -3.62165795 H\n"
     ]
    },
    {
     "name": "stderr",
     "output_type": "stream",
     "text": [
      "/Users/abdessamadoukermou/Downloads/Reply/.venv/lib/python3.11/site-packages/autograd/tracer.py:14: UserWarning: Output seems independent of input.\n",
      "  warnings.warn(\"Output seems independent of input.\")\n"
     ]
    },
    {
     "name": "stdout",
     "output_type": "stream",
     "text": [
      "n = 189,  E = -3.60870991 H\n"
     ]
    },
    {
     "name": "stderr",
     "output_type": "stream",
     "text": [
      "/Users/abdessamadoukermou/Downloads/Reply/.venv/lib/python3.11/site-packages/autograd/tracer.py:14: UserWarning: Output seems independent of input.\n",
      "  warnings.warn(\"Output seems independent of input.\")\n"
     ]
    },
    {
     "name": "stdout",
     "output_type": "stream",
     "text": [
      "n = 190,  E = -3.69799719 H\n"
     ]
    },
    {
     "name": "stderr",
     "output_type": "stream",
     "text": [
      "/Users/abdessamadoukermou/Downloads/Reply/.venv/lib/python3.11/site-packages/autograd/tracer.py:14: UserWarning: Output seems independent of input.\n",
      "  warnings.warn(\"Output seems independent of input.\")\n"
     ]
    },
    {
     "name": "stdout",
     "output_type": "stream",
     "text": [
      "n = 191,  E = -3.55476717 H\n"
     ]
    },
    {
     "name": "stderr",
     "output_type": "stream",
     "text": [
      "/Users/abdessamadoukermou/Downloads/Reply/.venv/lib/python3.11/site-packages/autograd/tracer.py:14: UserWarning: Output seems independent of input.\n",
      "  warnings.warn(\"Output seems independent of input.\")\n"
     ]
    },
    {
     "name": "stdout",
     "output_type": "stream",
     "text": [
      "n = 192,  E = -3.17893440 H\n"
     ]
    },
    {
     "name": "stderr",
     "output_type": "stream",
     "text": [
      "/Users/abdessamadoukermou/Downloads/Reply/.venv/lib/python3.11/site-packages/autograd/tracer.py:14: UserWarning: Output seems independent of input.\n",
      "  warnings.warn(\"Output seems independent of input.\")\n"
     ]
    },
    {
     "name": "stdout",
     "output_type": "stream",
     "text": [
      "n = 193,  E = -3.68763025 H\n"
     ]
    },
    {
     "name": "stderr",
     "output_type": "stream",
     "text": [
      "/Users/abdessamadoukermou/Downloads/Reply/.venv/lib/python3.11/site-packages/autograd/tracer.py:14: UserWarning: Output seems independent of input.\n",
      "  warnings.warn(\"Output seems independent of input.\")\n"
     ]
    },
    {
     "name": "stdout",
     "output_type": "stream",
     "text": [
      "n = 194,  E = -3.53456274 H\n"
     ]
    },
    {
     "name": "stderr",
     "output_type": "stream",
     "text": [
      "/Users/abdessamadoukermou/Downloads/Reply/.venv/lib/python3.11/site-packages/autograd/tracer.py:14: UserWarning: Output seems independent of input.\n",
      "  warnings.warn(\"Output seems independent of input.\")\n"
     ]
    },
    {
     "name": "stdout",
     "output_type": "stream",
     "text": [
      "n = 195,  E = -3.58896318 H\n"
     ]
    },
    {
     "name": "stderr",
     "output_type": "stream",
     "text": [
      "/Users/abdessamadoukermou/Downloads/Reply/.venv/lib/python3.11/site-packages/autograd/tracer.py:14: UserWarning: Output seems independent of input.\n",
      "  warnings.warn(\"Output seems independent of input.\")\n"
     ]
    },
    {
     "name": "stdout",
     "output_type": "stream",
     "text": [
      "n = 196,  E = -3.47493396 H\n"
     ]
    },
    {
     "name": "stderr",
     "output_type": "stream",
     "text": [
      "/Users/abdessamadoukermou/Downloads/Reply/.venv/lib/python3.11/site-packages/autograd/tracer.py:14: UserWarning: Output seems independent of input.\n",
      "  warnings.warn(\"Output seems independent of input.\")\n"
     ]
    },
    {
     "name": "stdout",
     "output_type": "stream",
     "text": [
      "n = 197,  E = -3.88651922 H\n"
     ]
    },
    {
     "name": "stderr",
     "output_type": "stream",
     "text": [
      "/Users/abdessamadoukermou/Downloads/Reply/.venv/lib/python3.11/site-packages/autograd/tracer.py:14: UserWarning: Output seems independent of input.\n",
      "  warnings.warn(\"Output seems independent of input.\")\n"
     ]
    },
    {
     "name": "stdout",
     "output_type": "stream",
     "text": [
      "n = 198,  E = -3.51695826 H\n"
     ]
    },
    {
     "name": "stderr",
     "output_type": "stream",
     "text": [
      "/Users/abdessamadoukermou/Downloads/Reply/.venv/lib/python3.11/site-packages/autograd/tracer.py:14: UserWarning: Output seems independent of input.\n",
      "  warnings.warn(\"Output seems independent of input.\")\n"
     ]
    },
    {
     "name": "stdout",
     "output_type": "stream",
     "text": [
      "n = 199,  E = -3.46463762 H\n"
     ]
    },
    {
     "name": "stderr",
     "output_type": "stream",
     "text": [
      "/Users/abdessamadoukermou/Downloads/Reply/.venv/lib/python3.11/site-packages/autograd/tracer.py:14: UserWarning: Output seems independent of input.\n",
      "  warnings.warn(\"Output seems independent of input.\")\n"
     ]
    },
    {
     "name": "stdout",
     "output_type": "stream",
     "text": [
      "n = 200,  E = -3.69296592 H\n"
     ]
    },
    {
     "name": "stderr",
     "output_type": "stream",
     "text": [
      "/Users/abdessamadoukermou/Downloads/Reply/.venv/lib/python3.11/site-packages/autograd/tracer.py:14: UserWarning: Output seems independent of input.\n",
      "  warnings.warn(\"Output seems independent of input.\")\n"
     ]
    },
    {
     "name": "stdout",
     "output_type": "stream",
     "text": [
      "n = 201,  E = -3.48763136 H\n"
     ]
    },
    {
     "name": "stderr",
     "output_type": "stream",
     "text": [
      "/Users/abdessamadoukermou/Downloads/Reply/.venv/lib/python3.11/site-packages/autograd/tracer.py:14: UserWarning: Output seems independent of input.\n",
      "  warnings.warn(\"Output seems independent of input.\")\n"
     ]
    },
    {
     "name": "stdout",
     "output_type": "stream",
     "text": [
      "n = 202,  E = -3.35560576 H\n"
     ]
    },
    {
     "name": "stderr",
     "output_type": "stream",
     "text": [
      "/Users/abdessamadoukermou/Downloads/Reply/.venv/lib/python3.11/site-packages/autograd/tracer.py:14: UserWarning: Output seems independent of input.\n",
      "  warnings.warn(\"Output seems independent of input.\")\n"
     ]
    },
    {
     "name": "stdout",
     "output_type": "stream",
     "text": [
      "n = 203,  E = -3.45060929 H\n"
     ]
    },
    {
     "name": "stderr",
     "output_type": "stream",
     "text": [
      "/Users/abdessamadoukermou/Downloads/Reply/.venv/lib/python3.11/site-packages/autograd/tracer.py:14: UserWarning: Output seems independent of input.\n",
      "  warnings.warn(\"Output seems independent of input.\")\n"
     ]
    },
    {
     "name": "stdout",
     "output_type": "stream",
     "text": [
      "n = 204,  E = -3.68212615 H\n"
     ]
    },
    {
     "name": "stderr",
     "output_type": "stream",
     "text": [
      "/Users/abdessamadoukermou/Downloads/Reply/.venv/lib/python3.11/site-packages/autograd/tracer.py:14: UserWarning: Output seems independent of input.\n",
      "  warnings.warn(\"Output seems independent of input.\")\n"
     ]
    },
    {
     "name": "stdout",
     "output_type": "stream",
     "text": [
      "n = 205,  E = -3.43677200 H\n"
     ]
    },
    {
     "name": "stderr",
     "output_type": "stream",
     "text": [
      "/Users/abdessamadoukermou/Downloads/Reply/.venv/lib/python3.11/site-packages/autograd/tracer.py:14: UserWarning: Output seems independent of input.\n",
      "  warnings.warn(\"Output seems independent of input.\")\n"
     ]
    },
    {
     "name": "stdout",
     "output_type": "stream",
     "text": [
      "n = 206,  E = -3.56037211 H\n"
     ]
    },
    {
     "name": "stderr",
     "output_type": "stream",
     "text": [
      "/Users/abdessamadoukermou/Downloads/Reply/.venv/lib/python3.11/site-packages/autograd/tracer.py:14: UserWarning: Output seems independent of input.\n",
      "  warnings.warn(\"Output seems independent of input.\")\n"
     ]
    },
    {
     "name": "stdout",
     "output_type": "stream",
     "text": [
      "n = 207,  E = -3.60077009 H\n"
     ]
    },
    {
     "name": "stderr",
     "output_type": "stream",
     "text": [
      "/Users/abdessamadoukermou/Downloads/Reply/.venv/lib/python3.11/site-packages/autograd/tracer.py:14: UserWarning: Output seems independent of input.\n",
      "  warnings.warn(\"Output seems independent of input.\")\n"
     ]
    },
    {
     "name": "stdout",
     "output_type": "stream",
     "text": [
      "n = 208,  E = -3.70610743 H\n"
     ]
    },
    {
     "name": "stderr",
     "output_type": "stream",
     "text": [
      "/Users/abdessamadoukermou/Downloads/Reply/.venv/lib/python3.11/site-packages/autograd/tracer.py:14: UserWarning: Output seems independent of input.\n",
      "  warnings.warn(\"Output seems independent of input.\")\n"
     ]
    },
    {
     "name": "stdout",
     "output_type": "stream",
     "text": [
      "n = 209,  E = -3.70431031 H\n"
     ]
    },
    {
     "name": "stderr",
     "output_type": "stream",
     "text": [
      "/Users/abdessamadoukermou/Downloads/Reply/.venv/lib/python3.11/site-packages/autograd/tracer.py:14: UserWarning: Output seems independent of input.\n",
      "  warnings.warn(\"Output seems independent of input.\")\n"
     ]
    },
    {
     "name": "stdout",
     "output_type": "stream",
     "text": [
      "n = 210,  E = -3.41282038 H\n"
     ]
    },
    {
     "name": "stderr",
     "output_type": "stream",
     "text": [
      "/Users/abdessamadoukermou/Downloads/Reply/.venv/lib/python3.11/site-packages/autograd/tracer.py:14: UserWarning: Output seems independent of input.\n",
      "  warnings.warn(\"Output seems independent of input.\")\n"
     ]
    },
    {
     "name": "stdout",
     "output_type": "stream",
     "text": [
      "n = 211,  E = -3.75551948 H\n"
     ]
    },
    {
     "name": "stderr",
     "output_type": "stream",
     "text": [
      "/Users/abdessamadoukermou/Downloads/Reply/.venv/lib/python3.11/site-packages/autograd/tracer.py:14: UserWarning: Output seems independent of input.\n",
      "  warnings.warn(\"Output seems independent of input.\")\n"
     ]
    },
    {
     "name": "stdout",
     "output_type": "stream",
     "text": [
      "n = 212,  E = -3.33922797 H\n"
     ]
    },
    {
     "name": "stderr",
     "output_type": "stream",
     "text": [
      "/Users/abdessamadoukermou/Downloads/Reply/.venv/lib/python3.11/site-packages/autograd/tracer.py:14: UserWarning: Output seems independent of input.\n",
      "  warnings.warn(\"Output seems independent of input.\")\n"
     ]
    },
    {
     "name": "stdout",
     "output_type": "stream",
     "text": [
      "n = 213,  E = -3.68067517 H\n"
     ]
    },
    {
     "name": "stderr",
     "output_type": "stream",
     "text": [
      "/Users/abdessamadoukermou/Downloads/Reply/.venv/lib/python3.11/site-packages/autograd/tracer.py:14: UserWarning: Output seems independent of input.\n",
      "  warnings.warn(\"Output seems independent of input.\")\n"
     ]
    },
    {
     "name": "stdout",
     "output_type": "stream",
     "text": [
      "n = 214,  E = -3.73622742 H\n"
     ]
    },
    {
     "name": "stderr",
     "output_type": "stream",
     "text": [
      "/Users/abdessamadoukermou/Downloads/Reply/.venv/lib/python3.11/site-packages/autograd/tracer.py:14: UserWarning: Output seems independent of input.\n",
      "  warnings.warn(\"Output seems independent of input.\")\n"
     ]
    },
    {
     "name": "stdout",
     "output_type": "stream",
     "text": [
      "n = 215,  E = -3.54860929 H\n"
     ]
    },
    {
     "name": "stderr",
     "output_type": "stream",
     "text": [
      "/Users/abdessamadoukermou/Downloads/Reply/.venv/lib/python3.11/site-packages/autograd/tracer.py:14: UserWarning: Output seems independent of input.\n",
      "  warnings.warn(\"Output seems independent of input.\")\n"
     ]
    },
    {
     "name": "stdout",
     "output_type": "stream",
     "text": [
      "n = 216,  E = -3.64332369 H\n"
     ]
    },
    {
     "name": "stderr",
     "output_type": "stream",
     "text": [
      "/Users/abdessamadoukermou/Downloads/Reply/.venv/lib/python3.11/site-packages/autograd/tracer.py:14: UserWarning: Output seems independent of input.\n",
      "  warnings.warn(\"Output seems independent of input.\")\n"
     ]
    },
    {
     "name": "stdout",
     "output_type": "stream",
     "text": [
      "n = 217,  E = -3.65808676 H\n"
     ]
    },
    {
     "name": "stderr",
     "output_type": "stream",
     "text": [
      "/Users/abdessamadoukermou/Downloads/Reply/.venv/lib/python3.11/site-packages/autograd/tracer.py:14: UserWarning: Output seems independent of input.\n",
      "  warnings.warn(\"Output seems independent of input.\")\n"
     ]
    },
    {
     "name": "stdout",
     "output_type": "stream",
     "text": [
      "n = 218,  E = -3.33821134 H\n"
     ]
    },
    {
     "name": "stderr",
     "output_type": "stream",
     "text": [
      "/Users/abdessamadoukermou/Downloads/Reply/.venv/lib/python3.11/site-packages/autograd/tracer.py:14: UserWarning: Output seems independent of input.\n",
      "  warnings.warn(\"Output seems independent of input.\")\n"
     ]
    },
    {
     "name": "stdout",
     "output_type": "stream",
     "text": [
      "n = 219,  E = -3.47136585 H\n"
     ]
    },
    {
     "name": "stderr",
     "output_type": "stream",
     "text": [
      "/Users/abdessamadoukermou/Downloads/Reply/.venv/lib/python3.11/site-packages/autograd/tracer.py:14: UserWarning: Output seems independent of input.\n",
      "  warnings.warn(\"Output seems independent of input.\")\n"
     ]
    },
    {
     "name": "stdout",
     "output_type": "stream",
     "text": [
      "n = 220,  E = -3.74999309 H\n"
     ]
    },
    {
     "name": "stderr",
     "output_type": "stream",
     "text": [
      "/Users/abdessamadoukermou/Downloads/Reply/.venv/lib/python3.11/site-packages/autograd/tracer.py:14: UserWarning: Output seems independent of input.\n",
      "  warnings.warn(\"Output seems independent of input.\")\n"
     ]
    },
    {
     "name": "stdout",
     "output_type": "stream",
     "text": [
      "n = 221,  E = -3.38990330 H\n"
     ]
    },
    {
     "name": "stderr",
     "output_type": "stream",
     "text": [
      "/Users/abdessamadoukermou/Downloads/Reply/.venv/lib/python3.11/site-packages/autograd/tracer.py:14: UserWarning: Output seems independent of input.\n",
      "  warnings.warn(\"Output seems independent of input.\")\n"
     ]
    },
    {
     "name": "stdout",
     "output_type": "stream",
     "text": [
      "n = 222,  E = -3.57526429 H\n"
     ]
    },
    {
     "name": "stderr",
     "output_type": "stream",
     "text": [
      "/Users/abdessamadoukermou/Downloads/Reply/.venv/lib/python3.11/site-packages/autograd/tracer.py:14: UserWarning: Output seems independent of input.\n",
      "  warnings.warn(\"Output seems independent of input.\")\n"
     ]
    },
    {
     "name": "stdout",
     "output_type": "stream",
     "text": [
      "n = 223,  E = -3.70496669 H\n"
     ]
    },
    {
     "name": "stderr",
     "output_type": "stream",
     "text": [
      "/Users/abdessamadoukermou/Downloads/Reply/.venv/lib/python3.11/site-packages/autograd/tracer.py:14: UserWarning: Output seems independent of input.\n",
      "  warnings.warn(\"Output seems independent of input.\")\n"
     ]
    },
    {
     "name": "stdout",
     "output_type": "stream",
     "text": [
      "n = 224,  E = -3.29485395 H\n"
     ]
    },
    {
     "name": "stderr",
     "output_type": "stream",
     "text": [
      "/Users/abdessamadoukermou/Downloads/Reply/.venv/lib/python3.11/site-packages/autograd/tracer.py:14: UserWarning: Output seems independent of input.\n",
      "  warnings.warn(\"Output seems independent of input.\")\n"
     ]
    },
    {
     "name": "stdout",
     "output_type": "stream",
     "text": [
      "n = 225,  E = -3.76118861 H\n"
     ]
    },
    {
     "name": "stderr",
     "output_type": "stream",
     "text": [
      "/Users/abdessamadoukermou/Downloads/Reply/.venv/lib/python3.11/site-packages/autograd/tracer.py:14: UserWarning: Output seems independent of input.\n",
      "  warnings.warn(\"Output seems independent of input.\")\n"
     ]
    },
    {
     "name": "stdout",
     "output_type": "stream",
     "text": [
      "n = 226,  E = -3.60365246 H\n"
     ]
    },
    {
     "name": "stderr",
     "output_type": "stream",
     "text": [
      "/Users/abdessamadoukermou/Downloads/Reply/.venv/lib/python3.11/site-packages/autograd/tracer.py:14: UserWarning: Output seems independent of input.\n",
      "  warnings.warn(\"Output seems independent of input.\")\n"
     ]
    },
    {
     "name": "stdout",
     "output_type": "stream",
     "text": [
      "n = 227,  E = -3.68029730 H\n"
     ]
    },
    {
     "name": "stderr",
     "output_type": "stream",
     "text": [
      "/Users/abdessamadoukermou/Downloads/Reply/.venv/lib/python3.11/site-packages/autograd/tracer.py:14: UserWarning: Output seems independent of input.\n",
      "  warnings.warn(\"Output seems independent of input.\")\n"
     ]
    },
    {
     "name": "stdout",
     "output_type": "stream",
     "text": [
      "n = 228,  E = -3.32981557 H\n"
     ]
    },
    {
     "name": "stderr",
     "output_type": "stream",
     "text": [
      "/Users/abdessamadoukermou/Downloads/Reply/.venv/lib/python3.11/site-packages/autograd/tracer.py:14: UserWarning: Output seems independent of input.\n",
      "  warnings.warn(\"Output seems independent of input.\")\n"
     ]
    },
    {
     "name": "stdout",
     "output_type": "stream",
     "text": [
      "n = 229,  E = -3.64801258 H\n"
     ]
    },
    {
     "name": "stderr",
     "output_type": "stream",
     "text": [
      "/Users/abdessamadoukermou/Downloads/Reply/.venv/lib/python3.11/site-packages/autograd/tracer.py:14: UserWarning: Output seems independent of input.\n",
      "  warnings.warn(\"Output seems independent of input.\")\n"
     ]
    },
    {
     "name": "stdout",
     "output_type": "stream",
     "text": [
      "n = 230,  E = -3.38232582 H\n"
     ]
    },
    {
     "name": "stderr",
     "output_type": "stream",
     "text": [
      "/Users/abdessamadoukermou/Downloads/Reply/.venv/lib/python3.11/site-packages/autograd/tracer.py:14: UserWarning: Output seems independent of input.\n",
      "  warnings.warn(\"Output seems independent of input.\")\n"
     ]
    },
    {
     "name": "stdout",
     "output_type": "stream",
     "text": [
      "n = 231,  E = -3.29548259 H\n"
     ]
    },
    {
     "name": "stderr",
     "output_type": "stream",
     "text": [
      "/Users/abdessamadoukermou/Downloads/Reply/.venv/lib/python3.11/site-packages/autograd/tracer.py:14: UserWarning: Output seems independent of input.\n",
      "  warnings.warn(\"Output seems independent of input.\")\n"
     ]
    },
    {
     "name": "stdout",
     "output_type": "stream",
     "text": [
      "n = 232,  E = -3.85431926 H\n"
     ]
    },
    {
     "name": "stderr",
     "output_type": "stream",
     "text": [
      "/Users/abdessamadoukermou/Downloads/Reply/.venv/lib/python3.11/site-packages/autograd/tracer.py:14: UserWarning: Output seems independent of input.\n",
      "  warnings.warn(\"Output seems independent of input.\")\n"
     ]
    },
    {
     "name": "stdout",
     "output_type": "stream",
     "text": [
      "n = 233,  E = -3.68316431 H\n"
     ]
    },
    {
     "name": "stderr",
     "output_type": "stream",
     "text": [
      "/Users/abdessamadoukermou/Downloads/Reply/.venv/lib/python3.11/site-packages/autograd/tracer.py:14: UserWarning: Output seems independent of input.\n",
      "  warnings.warn(\"Output seems independent of input.\")\n"
     ]
    },
    {
     "name": "stdout",
     "output_type": "stream",
     "text": [
      "n = 234,  E = -3.64448062 H\n"
     ]
    },
    {
     "name": "stderr",
     "output_type": "stream",
     "text": [
      "/Users/abdessamadoukermou/Downloads/Reply/.venv/lib/python3.11/site-packages/autograd/tracer.py:14: UserWarning: Output seems independent of input.\n",
      "  warnings.warn(\"Output seems independent of input.\")\n"
     ]
    },
    {
     "name": "stdout",
     "output_type": "stream",
     "text": [
      "n = 235,  E = -3.30545543 H\n"
     ]
    },
    {
     "name": "stderr",
     "output_type": "stream",
     "text": [
      "/Users/abdessamadoukermou/Downloads/Reply/.venv/lib/python3.11/site-packages/autograd/tracer.py:14: UserWarning: Output seems independent of input.\n",
      "  warnings.warn(\"Output seems independent of input.\")\n"
     ]
    },
    {
     "name": "stdout",
     "output_type": "stream",
     "text": [
      "n = 236,  E = -3.65679760 H\n"
     ]
    },
    {
     "name": "stderr",
     "output_type": "stream",
     "text": [
      "/Users/abdessamadoukermou/Downloads/Reply/.venv/lib/python3.11/site-packages/autograd/tracer.py:14: UserWarning: Output seems independent of input.\n",
      "  warnings.warn(\"Output seems independent of input.\")\n"
     ]
    },
    {
     "name": "stdout",
     "output_type": "stream",
     "text": [
      "n = 237,  E = -3.42425693 H\n"
     ]
    },
    {
     "name": "stderr",
     "output_type": "stream",
     "text": [
      "/Users/abdessamadoukermou/Downloads/Reply/.venv/lib/python3.11/site-packages/autograd/tracer.py:14: UserWarning: Output seems independent of input.\n",
      "  warnings.warn(\"Output seems independent of input.\")\n"
     ]
    },
    {
     "name": "stdout",
     "output_type": "stream",
     "text": [
      "n = 238,  E = -3.48035148 H\n"
     ]
    },
    {
     "name": "stderr",
     "output_type": "stream",
     "text": [
      "/Users/abdessamadoukermou/Downloads/Reply/.venv/lib/python3.11/site-packages/autograd/tracer.py:14: UserWarning: Output seems independent of input.\n",
      "  warnings.warn(\"Output seems independent of input.\")\n"
     ]
    },
    {
     "name": "stdout",
     "output_type": "stream",
     "text": [
      "n = 239,  E = -3.20926730 H\n"
     ]
    },
    {
     "name": "stderr",
     "output_type": "stream",
     "text": [
      "/Users/abdessamadoukermou/Downloads/Reply/.venv/lib/python3.11/site-packages/autograd/tracer.py:14: UserWarning: Output seems independent of input.\n",
      "  warnings.warn(\"Output seems independent of input.\")\n"
     ]
    },
    {
     "name": "stdout",
     "output_type": "stream",
     "text": [
      "n = 240,  E = -3.76941545 H\n"
     ]
    },
    {
     "name": "stderr",
     "output_type": "stream",
     "text": [
      "/Users/abdessamadoukermou/Downloads/Reply/.venv/lib/python3.11/site-packages/autograd/tracer.py:14: UserWarning: Output seems independent of input.\n",
      "  warnings.warn(\"Output seems independent of input.\")\n"
     ]
    },
    {
     "name": "stdout",
     "output_type": "stream",
     "text": [
      "n = 241,  E = -3.74207198 H\n"
     ]
    },
    {
     "name": "stderr",
     "output_type": "stream",
     "text": [
      "/Users/abdessamadoukermou/Downloads/Reply/.venv/lib/python3.11/site-packages/autograd/tracer.py:14: UserWarning: Output seems independent of input.\n",
      "  warnings.warn(\"Output seems independent of input.\")\n"
     ]
    },
    {
     "name": "stdout",
     "output_type": "stream",
     "text": [
      "n = 242,  E = -3.30822074 H\n"
     ]
    },
    {
     "name": "stderr",
     "output_type": "stream",
     "text": [
      "/Users/abdessamadoukermou/Downloads/Reply/.venv/lib/python3.11/site-packages/autograd/tracer.py:14: UserWarning: Output seems independent of input.\n",
      "  warnings.warn(\"Output seems independent of input.\")\n"
     ]
    },
    {
     "name": "stdout",
     "output_type": "stream",
     "text": [
      "n = 243,  E = -3.36967503 H\n"
     ]
    },
    {
     "name": "stderr",
     "output_type": "stream",
     "text": [
      "/Users/abdessamadoukermou/Downloads/Reply/.venv/lib/python3.11/site-packages/autograd/tracer.py:14: UserWarning: Output seems independent of input.\n",
      "  warnings.warn(\"Output seems independent of input.\")\n"
     ]
    },
    {
     "name": "stdout",
     "output_type": "stream",
     "text": [
      "n = 244,  E = -3.46895257 H\n"
     ]
    },
    {
     "name": "stderr",
     "output_type": "stream",
     "text": [
      "/Users/abdessamadoukermou/Downloads/Reply/.venv/lib/python3.11/site-packages/autograd/tracer.py:14: UserWarning: Output seems independent of input.\n",
      "  warnings.warn(\"Output seems independent of input.\")\n"
     ]
    },
    {
     "name": "stdout",
     "output_type": "stream",
     "text": [
      "n = 245,  E = -3.62534229 H\n"
     ]
    },
    {
     "name": "stderr",
     "output_type": "stream",
     "text": [
      "/Users/abdessamadoukermou/Downloads/Reply/.venv/lib/python3.11/site-packages/autograd/tracer.py:14: UserWarning: Output seems independent of input.\n",
      "  warnings.warn(\"Output seems independent of input.\")\n"
     ]
    },
    {
     "name": "stdout",
     "output_type": "stream",
     "text": [
      "n = 246,  E = -3.67904126 H\n"
     ]
    },
    {
     "name": "stderr",
     "output_type": "stream",
     "text": [
      "/Users/abdessamadoukermou/Downloads/Reply/.venv/lib/python3.11/site-packages/autograd/tracer.py:14: UserWarning: Output seems independent of input.\n",
      "  warnings.warn(\"Output seems independent of input.\")\n"
     ]
    },
    {
     "name": "stdout",
     "output_type": "stream",
     "text": [
      "n = 247,  E = -3.75166252 H\n"
     ]
    },
    {
     "name": "stderr",
     "output_type": "stream",
     "text": [
      "/Users/abdessamadoukermou/Downloads/Reply/.venv/lib/python3.11/site-packages/autograd/tracer.py:14: UserWarning: Output seems independent of input.\n",
      "  warnings.warn(\"Output seems independent of input.\")\n"
     ]
    },
    {
     "name": "stdout",
     "output_type": "stream",
     "text": [
      "n = 248,  E = -3.33369940 H\n"
     ]
    },
    {
     "name": "stderr",
     "output_type": "stream",
     "text": [
      "/Users/abdessamadoukermou/Downloads/Reply/.venv/lib/python3.11/site-packages/autograd/tracer.py:14: UserWarning: Output seems independent of input.\n",
      "  warnings.warn(\"Output seems independent of input.\")\n"
     ]
    },
    {
     "name": "stdout",
     "output_type": "stream",
     "text": [
      "n = 249,  E = -3.81768198 H\n"
     ]
    },
    {
     "name": "stderr",
     "output_type": "stream",
     "text": [
      "/Users/abdessamadoukermou/Downloads/Reply/.venv/lib/python3.11/site-packages/autograd/tracer.py:14: UserWarning: Output seems independent of input.\n",
      "  warnings.warn(\"Output seems independent of input.\")\n"
     ]
    },
    {
     "name": "stdout",
     "output_type": "stream",
     "text": [
      "n = 250,  E = -3.59823838 H\n"
     ]
    },
    {
     "name": "stderr",
     "output_type": "stream",
     "text": [
      "/Users/abdessamadoukermou/Downloads/Reply/.venv/lib/python3.11/site-packages/autograd/tracer.py:14: UserWarning: Output seems independent of input.\n",
      "  warnings.warn(\"Output seems independent of input.\")\n"
     ]
    },
    {
     "name": "stdout",
     "output_type": "stream",
     "text": [
      "n = 251,  E = -3.48023597 H\n"
     ]
    },
    {
     "name": "stderr",
     "output_type": "stream",
     "text": [
      "/Users/abdessamadoukermou/Downloads/Reply/.venv/lib/python3.11/site-packages/autograd/tracer.py:14: UserWarning: Output seems independent of input.\n",
      "  warnings.warn(\"Output seems independent of input.\")\n"
     ]
    },
    {
     "name": "stdout",
     "output_type": "stream",
     "text": [
      "n = 252,  E = -3.84447578 H\n"
     ]
    },
    {
     "name": "stderr",
     "output_type": "stream",
     "text": [
      "/Users/abdessamadoukermou/Downloads/Reply/.venv/lib/python3.11/site-packages/autograd/tracer.py:14: UserWarning: Output seems independent of input.\n",
      "  warnings.warn(\"Output seems independent of input.\")\n"
     ]
    },
    {
     "name": "stdout",
     "output_type": "stream",
     "text": [
      "n = 253,  E = -3.40162860 H\n"
     ]
    },
    {
     "name": "stderr",
     "output_type": "stream",
     "text": [
      "/Users/abdessamadoukermou/Downloads/Reply/.venv/lib/python3.11/site-packages/autograd/tracer.py:14: UserWarning: Output seems independent of input.\n",
      "  warnings.warn(\"Output seems independent of input.\")\n"
     ]
    },
    {
     "name": "stdout",
     "output_type": "stream",
     "text": [
      "n = 254,  E = -3.60606621 H\n"
     ]
    },
    {
     "name": "stderr",
     "output_type": "stream",
     "text": [
      "/Users/abdessamadoukermou/Downloads/Reply/.venv/lib/python3.11/site-packages/autograd/tracer.py:14: UserWarning: Output seems independent of input.\n",
      "  warnings.warn(\"Output seems independent of input.\")\n"
     ]
    },
    {
     "name": "stdout",
     "output_type": "stream",
     "text": [
      "n = 255,  E = -3.82033686 H\n"
     ]
    },
    {
     "ename": "KeyboardInterrupt",
     "evalue": "",
     "output_type": "error",
     "traceback": [
      "\u001b[0;31m---------------------------------------------------------------------------\u001b[0m",
      "\u001b[0;31mKeyboardInterrupt\u001b[0m                         Traceback (most recent call last)",
      "Cell \u001b[0;32mIn[41], line 28\u001b[0m\n\u001b[1;32m     25\u001b[0m conv_tol \u001b[38;5;241m=\u001b[39m \u001b[38;5;241m1.0e-6\u001b[39m\n\u001b[1;32m     26\u001b[0m \u001b[38;5;28;01mfor\u001b[39;00m n \u001b[38;5;129;01min\u001b[39;00m \u001b[38;5;28mrange\u001b[39m(\u001b[38;5;241m300\u001b[39m):\n\u001b[0;32m---> 28\u001b[0m     params, energy \u001b[38;5;241m=\u001b[39m \u001b[43mopt\u001b[49m\u001b[38;5;241;43m.\u001b[39;49m\u001b[43mstep_and_cost\u001b[49m\u001b[43m(\u001b[49m\u001b[43mqnode_mitigated\u001b[49m\u001b[43m,\u001b[49m\u001b[43m \u001b[49m\u001b[43mparams\u001b[49m\u001b[43m)\u001b[49m\n\u001b[1;32m     29\u001b[0m     energies_mitigated\u001b[38;5;241m.\u001b[39mappend(energy)\n\u001b[1;32m     30\u001b[0m     \u001b[38;5;28mprint\u001b[39m(\u001b[38;5;124m\"\u001b[39m\u001b[38;5;124mn = \u001b[39m\u001b[38;5;132;01m{:}\u001b[39;00m\u001b[38;5;124m,  E = \u001b[39m\u001b[38;5;132;01m{:.8f}\u001b[39;00m\u001b[38;5;124m H\u001b[39m\u001b[38;5;124m\"\u001b[39m\u001b[38;5;241m.\u001b[39mformat(n, energy))\n",
      "File \u001b[0;32m~/Downloads/Reply/.venv/lib/python3.11/site-packages/pennylane/optimize/gradient_descent.py:64\u001b[0m, in \u001b[0;36mGradientDescentOptimizer.step_and_cost\u001b[0;34m(self, objective_fn, grad_fn, *args, **kwargs)\u001b[0m\n\u001b[1;32m     44\u001b[0m \u001b[38;5;28;01mdef\u001b[39;00m \u001b[38;5;21mstep_and_cost\u001b[39m(\u001b[38;5;28mself\u001b[39m, objective_fn, \u001b[38;5;241m*\u001b[39margs, grad_fn\u001b[38;5;241m=\u001b[39m\u001b[38;5;28;01mNone\u001b[39;00m, \u001b[38;5;241m*\u001b[39m\u001b[38;5;241m*\u001b[39mkwargs):\n\u001b[1;32m     45\u001b[0m \u001b[38;5;250m    \u001b[39m\u001b[38;5;124;03m\"\"\"Update trainable arguments with one step of the optimizer and return the corresponding\u001b[39;00m\n\u001b[1;32m     46\u001b[0m \u001b[38;5;124;03m    objective function value prior to the step.\u001b[39;00m\n\u001b[1;32m     47\u001b[0m \n\u001b[0;32m   (...)\u001b[0m\n\u001b[1;32m     61\u001b[0m \u001b[38;5;124;03m        If single arg is provided, list [array] is replaced by array.\u001b[39;00m\n\u001b[1;32m     62\u001b[0m \u001b[38;5;124;03m    \"\"\"\u001b[39;00m\n\u001b[0;32m---> 64\u001b[0m     g, forward \u001b[38;5;241m=\u001b[39m \u001b[38;5;28;43mself\u001b[39;49m\u001b[38;5;241;43m.\u001b[39;49m\u001b[43mcompute_grad\u001b[49m\u001b[43m(\u001b[49m\u001b[43mobjective_fn\u001b[49m\u001b[43m,\u001b[49m\u001b[43m \u001b[49m\u001b[43margs\u001b[49m\u001b[43m,\u001b[49m\u001b[43m \u001b[49m\u001b[43mkwargs\u001b[49m\u001b[43m,\u001b[49m\u001b[43m \u001b[49m\u001b[43mgrad_fn\u001b[49m\u001b[38;5;241;43m=\u001b[39;49m\u001b[43mgrad_fn\u001b[49m\u001b[43m)\u001b[49m\n\u001b[1;32m     65\u001b[0m     new_args \u001b[38;5;241m=\u001b[39m \u001b[38;5;28mself\u001b[39m\u001b[38;5;241m.\u001b[39mapply_grad(g, args)\n\u001b[1;32m     67\u001b[0m     \u001b[38;5;28;01mif\u001b[39;00m forward \u001b[38;5;129;01mis\u001b[39;00m \u001b[38;5;28;01mNone\u001b[39;00m:\n",
      "File \u001b[0;32m~/Downloads/Reply/.venv/lib/python3.11/site-packages/pennylane/optimize/gradient_descent.py:122\u001b[0m, in \u001b[0;36mGradientDescentOptimizer.compute_grad\u001b[0;34m(objective_fn, args, kwargs, grad_fn)\u001b[0m\n\u001b[1;32m    104\u001b[0m \u001b[38;5;250m\u001b[39m\u001b[38;5;124mr\u001b[39m\u001b[38;5;124;03m\"\"\"Compute gradient of the objective function at the given point and return it along with\u001b[39;00m\n\u001b[1;32m    105\u001b[0m \u001b[38;5;124;03mthe objective function forward pass (if available).\u001b[39;00m\n\u001b[1;32m    106\u001b[0m \n\u001b[0;32m   (...)\u001b[0m\n\u001b[1;32m    119\u001b[0m \u001b[38;5;124;03m    will not be evaluted and instead ``None`` will be returned.\u001b[39;00m\n\u001b[1;32m    120\u001b[0m \u001b[38;5;124;03m\"\"\"\u001b[39;00m\n\u001b[1;32m    121\u001b[0m g \u001b[38;5;241m=\u001b[39m get_gradient(objective_fn) \u001b[38;5;28;01mif\u001b[39;00m grad_fn \u001b[38;5;129;01mis\u001b[39;00m \u001b[38;5;28;01mNone\u001b[39;00m \u001b[38;5;28;01melse\u001b[39;00m grad_fn\n\u001b[0;32m--> 122\u001b[0m grad \u001b[38;5;241m=\u001b[39m \u001b[43mg\u001b[49m\u001b[43m(\u001b[49m\u001b[38;5;241;43m*\u001b[39;49m\u001b[43margs\u001b[49m\u001b[43m,\u001b[49m\u001b[43m \u001b[49m\u001b[38;5;241;43m*\u001b[39;49m\u001b[38;5;241;43m*\u001b[39;49m\u001b[43mkwargs\u001b[49m\u001b[43m)\u001b[49m\n\u001b[1;32m    123\u001b[0m forward \u001b[38;5;241m=\u001b[39m \u001b[38;5;28mgetattr\u001b[39m(g, \u001b[38;5;124m\"\u001b[39m\u001b[38;5;124mforward\u001b[39m\u001b[38;5;124m\"\u001b[39m, \u001b[38;5;28;01mNone\u001b[39;00m)\n\u001b[1;32m    125\u001b[0m num_trainable_args \u001b[38;5;241m=\u001b[39m \u001b[38;5;28msum\u001b[39m(\u001b[38;5;28mgetattr\u001b[39m(arg, \u001b[38;5;124m\"\u001b[39m\u001b[38;5;124mrequires_grad\u001b[39m\u001b[38;5;124m\"\u001b[39m, \u001b[38;5;28;01mFalse\u001b[39;00m) \u001b[38;5;28;01mfor\u001b[39;00m arg \u001b[38;5;129;01min\u001b[39;00m args)\n",
      "File \u001b[0;32m~/Downloads/Reply/.venv/lib/python3.11/site-packages/pennylane/_grad.py:165\u001b[0m, in \u001b[0;36mgrad.__call__\u001b[0;34m(self, *args, **kwargs)\u001b[0m\n\u001b[1;32m    162\u001b[0m     \u001b[38;5;28mself\u001b[39m\u001b[38;5;241m.\u001b[39m_forward \u001b[38;5;241m=\u001b[39m \u001b[38;5;28mself\u001b[39m\u001b[38;5;241m.\u001b[39m_fun(\u001b[38;5;241m*\u001b[39margs, \u001b[38;5;241m*\u001b[39m\u001b[38;5;241m*\u001b[39mkwargs)\n\u001b[1;32m    163\u001b[0m     \u001b[38;5;28;01mreturn\u001b[39;00m ()\n\u001b[0;32m--> 165\u001b[0m grad_value, ans \u001b[38;5;241m=\u001b[39m \u001b[43mgrad_fn\u001b[49m\u001b[43m(\u001b[49m\u001b[38;5;241;43m*\u001b[39;49m\u001b[43margs\u001b[49m\u001b[43m,\u001b[49m\u001b[43m \u001b[49m\u001b[38;5;241;43m*\u001b[39;49m\u001b[38;5;241;43m*\u001b[39;49m\u001b[43mkwargs\u001b[49m\u001b[43m)\u001b[49m  \u001b[38;5;66;03m# pylint: disable=not-callable\u001b[39;00m\n\u001b[1;32m    166\u001b[0m \u001b[38;5;28mself\u001b[39m\u001b[38;5;241m.\u001b[39m_forward \u001b[38;5;241m=\u001b[39m ans\n\u001b[1;32m    168\u001b[0m \u001b[38;5;28;01mreturn\u001b[39;00m grad_value\n",
      "File \u001b[0;32m~/Downloads/Reply/.venv/lib/python3.11/site-packages/autograd/wrap_util.py:20\u001b[0m, in \u001b[0;36munary_to_nary.<locals>.nary_operator.<locals>.nary_f\u001b[0;34m(*args, **kwargs)\u001b[0m\n\u001b[1;32m     18\u001b[0m \u001b[38;5;28;01melse\u001b[39;00m:\n\u001b[1;32m     19\u001b[0m     x \u001b[38;5;241m=\u001b[39m \u001b[38;5;28mtuple\u001b[39m(args[i] \u001b[38;5;28;01mfor\u001b[39;00m i \u001b[38;5;129;01min\u001b[39;00m argnum)\n\u001b[0;32m---> 20\u001b[0m \u001b[38;5;28;01mreturn\u001b[39;00m \u001b[43munary_operator\u001b[49m\u001b[43m(\u001b[49m\u001b[43munary_f\u001b[49m\u001b[43m,\u001b[49m\u001b[43m \u001b[49m\u001b[43mx\u001b[49m\u001b[43m,\u001b[49m\u001b[43m \u001b[49m\u001b[38;5;241;43m*\u001b[39;49m\u001b[43mnary_op_args\u001b[49m\u001b[43m,\u001b[49m\u001b[43m \u001b[49m\u001b[38;5;241;43m*\u001b[39;49m\u001b[38;5;241;43m*\u001b[39;49m\u001b[43mnary_op_kwargs\u001b[49m\u001b[43m)\u001b[49m\n",
      "File \u001b[0;32m~/Downloads/Reply/.venv/lib/python3.11/site-packages/pennylane/_grad.py:183\u001b[0m, in \u001b[0;36mgrad._grad_with_forward\u001b[0;34m(fun, x)\u001b[0m\n\u001b[1;32m    177\u001b[0m \u001b[38;5;129m@staticmethod\u001b[39m\n\u001b[1;32m    178\u001b[0m \u001b[38;5;129m@unary_to_nary\u001b[39m\n\u001b[1;32m    179\u001b[0m \u001b[38;5;28;01mdef\u001b[39;00m \u001b[38;5;21m_grad_with_forward\u001b[39m(fun, x):\n\u001b[1;32m    180\u001b[0m \u001b[38;5;250m    \u001b[39m\u001b[38;5;124;03m\"\"\"This function is a replica of ``autograd.grad``, with the only\u001b[39;00m\n\u001b[1;32m    181\u001b[0m \u001b[38;5;124;03m    difference being that it returns both the gradient *and* the forward pass\u001b[39;00m\n\u001b[1;32m    182\u001b[0m \u001b[38;5;124;03m    value.\"\"\"\u001b[39;00m\n\u001b[0;32m--> 183\u001b[0m     vjp, ans \u001b[38;5;241m=\u001b[39m \u001b[43m_make_vjp\u001b[49m\u001b[43m(\u001b[49m\u001b[43mfun\u001b[49m\u001b[43m,\u001b[49m\u001b[43m \u001b[49m\u001b[43mx\u001b[49m\u001b[43m)\u001b[49m  \u001b[38;5;66;03m# pylint: disable=redefined-outer-name\u001b[39;00m\n\u001b[1;32m    185\u001b[0m     \u001b[38;5;28;01mif\u001b[39;00m vspace(ans)\u001b[38;5;241m.\u001b[39msize \u001b[38;5;241m!=\u001b[39m \u001b[38;5;241m1\u001b[39m:\n\u001b[1;32m    186\u001b[0m         \u001b[38;5;28;01mraise\u001b[39;00m \u001b[38;5;167;01mTypeError\u001b[39;00m(\n\u001b[1;32m    187\u001b[0m             \u001b[38;5;124m\"\u001b[39m\u001b[38;5;124mGrad only applies to real scalar-output functions. \u001b[39m\u001b[38;5;124m\"\u001b[39m\n\u001b[1;32m    188\u001b[0m             \u001b[38;5;124m\"\u001b[39m\u001b[38;5;124mTry jacobian, elementwise_grad or holomorphic_grad.\u001b[39m\u001b[38;5;124m\"\u001b[39m\n\u001b[1;32m    189\u001b[0m         )\n",
      "File \u001b[0;32m~/Downloads/Reply/.venv/lib/python3.11/site-packages/autograd/core.py:10\u001b[0m, in \u001b[0;36mmake_vjp\u001b[0;34m(fun, x)\u001b[0m\n\u001b[1;32m      8\u001b[0m \u001b[38;5;28;01mdef\u001b[39;00m \u001b[38;5;21mmake_vjp\u001b[39m(fun, x):\n\u001b[1;32m      9\u001b[0m     start_node \u001b[38;5;241m=\u001b[39m VJPNode\u001b[38;5;241m.\u001b[39mnew_root()\n\u001b[0;32m---> 10\u001b[0m     end_value, end_node \u001b[38;5;241m=\u001b[39m  \u001b[43mtrace\u001b[49m\u001b[43m(\u001b[49m\u001b[43mstart_node\u001b[49m\u001b[43m,\u001b[49m\u001b[43m \u001b[49m\u001b[43mfun\u001b[49m\u001b[43m,\u001b[49m\u001b[43m \u001b[49m\u001b[43mx\u001b[49m\u001b[43m)\u001b[49m\n\u001b[1;32m     11\u001b[0m     \u001b[38;5;28;01mif\u001b[39;00m end_node \u001b[38;5;129;01mis\u001b[39;00m \u001b[38;5;28;01mNone\u001b[39;00m:\n\u001b[1;32m     12\u001b[0m         \u001b[38;5;28;01mdef\u001b[39;00m \u001b[38;5;21mvjp\u001b[39m(g): \u001b[38;5;28;01mreturn\u001b[39;00m vspace(x)\u001b[38;5;241m.\u001b[39mzeros()\n",
      "File \u001b[0;32m~/Downloads/Reply/.venv/lib/python3.11/site-packages/autograd/tracer.py:10\u001b[0m, in \u001b[0;36mtrace\u001b[0;34m(start_node, fun, x)\u001b[0m\n\u001b[1;32m      8\u001b[0m \u001b[38;5;28;01mwith\u001b[39;00m trace_stack\u001b[38;5;241m.\u001b[39mnew_trace() \u001b[38;5;28;01mas\u001b[39;00m t:\n\u001b[1;32m      9\u001b[0m     start_box \u001b[38;5;241m=\u001b[39m new_box(x, t, start_node)\n\u001b[0;32m---> 10\u001b[0m     end_box \u001b[38;5;241m=\u001b[39m \u001b[43mfun\u001b[49m\u001b[43m(\u001b[49m\u001b[43mstart_box\u001b[49m\u001b[43m)\u001b[49m\n\u001b[1;32m     11\u001b[0m     \u001b[38;5;28;01mif\u001b[39;00m isbox(end_box) \u001b[38;5;129;01mand\u001b[39;00m end_box\u001b[38;5;241m.\u001b[39m_trace \u001b[38;5;241m==\u001b[39m start_box\u001b[38;5;241m.\u001b[39m_trace:\n\u001b[1;32m     12\u001b[0m         \u001b[38;5;28;01mreturn\u001b[39;00m end_box\u001b[38;5;241m.\u001b[39m_value, end_box\u001b[38;5;241m.\u001b[39m_node\n",
      "File \u001b[0;32m~/Downloads/Reply/.venv/lib/python3.11/site-packages/autograd/wrap_util.py:15\u001b[0m, in \u001b[0;36munary_to_nary.<locals>.nary_operator.<locals>.nary_f.<locals>.unary_f\u001b[0;34m(x)\u001b[0m\n\u001b[1;32m     13\u001b[0m \u001b[38;5;28;01melse\u001b[39;00m:\n\u001b[1;32m     14\u001b[0m     subargs \u001b[38;5;241m=\u001b[39m subvals(args, \u001b[38;5;28mzip\u001b[39m(argnum, x))\n\u001b[0;32m---> 15\u001b[0m \u001b[38;5;28;01mreturn\u001b[39;00m \u001b[43mfun\u001b[49m\u001b[43m(\u001b[49m\u001b[38;5;241;43m*\u001b[39;49m\u001b[43msubargs\u001b[49m\u001b[43m,\u001b[49m\u001b[43m \u001b[49m\u001b[38;5;241;43m*\u001b[39;49m\u001b[38;5;241;43m*\u001b[39;49m\u001b[43mkwargs\u001b[49m\u001b[43m)\u001b[49m\n",
      "File \u001b[0;32m~/Downloads/Reply/.venv/lib/python3.11/site-packages/pennylane/qnode.py:1039\u001b[0m, in \u001b[0;36mQNode.__call__\u001b[0;34m(self, *args, **kwargs)\u001b[0m\n\u001b[1;32m   1034\u001b[0m         full_transform_program\u001b[38;5;241m.\u001b[39m_set_all_argnums(\n\u001b[1;32m   1035\u001b[0m             \u001b[38;5;28mself\u001b[39m, args, kwargs, argnums\n\u001b[1;32m   1036\u001b[0m         )  \u001b[38;5;66;03m# pylint: disable=protected-access\u001b[39;00m\n\u001b[1;32m   1038\u001b[0m \u001b[38;5;66;03m# pylint: disable=unexpected-keyword-arg\u001b[39;00m\n\u001b[0;32m-> 1039\u001b[0m res \u001b[38;5;241m=\u001b[39m \u001b[43mqml\u001b[49m\u001b[38;5;241;43m.\u001b[39;49m\u001b[43mexecute\u001b[49m\u001b[43m(\u001b[49m\n\u001b[1;32m   1040\u001b[0m \u001b[43m    \u001b[49m\u001b[43m(\u001b[49m\u001b[38;5;28;43mself\u001b[39;49m\u001b[38;5;241;43m.\u001b[39;49m\u001b[43m_tape\u001b[49m\u001b[43m,\u001b[49m\u001b[43m)\u001b[49m\u001b[43m,\u001b[49m\n\u001b[1;32m   1041\u001b[0m \u001b[43m    \u001b[49m\u001b[43mdevice\u001b[49m\u001b[38;5;241;43m=\u001b[39;49m\u001b[38;5;28;43mself\u001b[39;49m\u001b[38;5;241;43m.\u001b[39;49m\u001b[43mdevice\u001b[49m\u001b[43m,\u001b[49m\n\u001b[1;32m   1042\u001b[0m \u001b[43m    \u001b[49m\u001b[43mgradient_fn\u001b[49m\u001b[38;5;241;43m=\u001b[39;49m\u001b[38;5;28;43mself\u001b[39;49m\u001b[38;5;241;43m.\u001b[39;49m\u001b[43mgradient_fn\u001b[49m\u001b[43m,\u001b[49m\n\u001b[1;32m   1043\u001b[0m \u001b[43m    \u001b[49m\u001b[43minterface\u001b[49m\u001b[38;5;241;43m=\u001b[39;49m\u001b[38;5;28;43mself\u001b[39;49m\u001b[38;5;241;43m.\u001b[39;49m\u001b[43minterface\u001b[49m\u001b[43m,\u001b[49m\n\u001b[1;32m   1044\u001b[0m \u001b[43m    \u001b[49m\u001b[43mtransform_program\u001b[49m\u001b[38;5;241;43m=\u001b[39;49m\u001b[43mfull_transform_program\u001b[49m\u001b[43m,\u001b[49m\n\u001b[1;32m   1045\u001b[0m \u001b[43m    \u001b[49m\u001b[43mconfig\u001b[49m\u001b[38;5;241;43m=\u001b[39;49m\u001b[43mconfig\u001b[49m\u001b[43m,\u001b[49m\n\u001b[1;32m   1046\u001b[0m \u001b[43m    \u001b[49m\u001b[43mgradient_kwargs\u001b[49m\u001b[38;5;241;43m=\u001b[39;49m\u001b[38;5;28;43mself\u001b[39;49m\u001b[38;5;241;43m.\u001b[39;49m\u001b[43mgradient_kwargs\u001b[49m\u001b[43m,\u001b[49m\n\u001b[1;32m   1047\u001b[0m \u001b[43m    \u001b[49m\u001b[43moverride_shots\u001b[49m\u001b[38;5;241;43m=\u001b[39;49m\u001b[43moverride_shots\u001b[49m\u001b[43m,\u001b[49m\n\u001b[1;32m   1048\u001b[0m \u001b[43m    \u001b[49m\u001b[38;5;241;43m*\u001b[39;49m\u001b[38;5;241;43m*\u001b[39;49m\u001b[38;5;28;43mself\u001b[39;49m\u001b[38;5;241;43m.\u001b[39;49m\u001b[43mexecute_kwargs\u001b[49m\u001b[43m,\u001b[49m\n\u001b[1;32m   1049\u001b[0m \u001b[43m\u001b[49m\u001b[43m)\u001b[49m\n\u001b[1;32m   1051\u001b[0m res \u001b[38;5;241m=\u001b[39m res[\u001b[38;5;241m0\u001b[39m]\n\u001b[1;32m   1053\u001b[0m \u001b[38;5;66;03m# convert result to the interface in case the qfunc has no parameters\u001b[39;00m\n",
      "File \u001b[0;32m~/Downloads/Reply/.venv/lib/python3.11/site-packages/pennylane/interfaces/execution.py:808\u001b[0m, in \u001b[0;36mexecute\u001b[0;34m(tapes, device, gradient_fn, interface, transform_program, config, grad_on_execution, gradient_kwargs, cache, cachesize, max_diff, override_shots, expand_fn, max_expansion, device_batch_transform, device_vjp)\u001b[0m\n\u001b[1;32m    803\u001b[0m ml_boundary_execute \u001b[38;5;241m=\u001b[39m _get_ml_boundary_execute(\n\u001b[1;32m    804\u001b[0m     interface, _grad_on_execution, config\u001b[38;5;241m.\u001b[39muse_device_jacobian_product\n\u001b[1;32m    805\u001b[0m )\n\u001b[1;32m    807\u001b[0m \u001b[38;5;28;01mif\u001b[39;00m interface \u001b[38;5;129;01min\u001b[39;00m jpc_interfaces:\n\u001b[0;32m--> 808\u001b[0m     results \u001b[38;5;241m=\u001b[39m \u001b[43mml_boundary_execute\u001b[49m\u001b[43m(\u001b[49m\u001b[43mtapes\u001b[49m\u001b[43m,\u001b[49m\u001b[43m \u001b[49m\u001b[43mexecute_fn\u001b[49m\u001b[43m,\u001b[49m\u001b[43m \u001b[49m\u001b[43mjpc\u001b[49m\u001b[43m,\u001b[49m\u001b[43m \u001b[49m\u001b[43mdevice\u001b[49m\u001b[38;5;241;43m=\u001b[39;49m\u001b[43mdevice\u001b[49m\u001b[43m)\u001b[49m\n\u001b[1;32m    809\u001b[0m \u001b[38;5;28;01melse\u001b[39;00m:\n\u001b[1;32m    810\u001b[0m     results \u001b[38;5;241m=\u001b[39m ml_boundary_execute(\n\u001b[1;32m    811\u001b[0m         tapes, device, execute_fn, gradient_fn, gradient_kwargs, _n\u001b[38;5;241m=\u001b[39m\u001b[38;5;241m1\u001b[39m, max_diff\u001b[38;5;241m=\u001b[39mmax_diff\n\u001b[1;32m    812\u001b[0m     )\n",
      "File \u001b[0;32m~/Downloads/Reply/.venv/lib/python3.11/site-packages/pennylane/interfaces/autograd.py:147\u001b[0m, in \u001b[0;36mautograd_execute\u001b[0;34m(tapes, execute_fn, jpc, device)\u001b[0m\n\u001b[1;32m    142\u001b[0m \u001b[38;5;66;03m# pylint misidentifies autograd.builtins as a dict\u001b[39;00m\n\u001b[1;32m    143\u001b[0m \u001b[38;5;66;03m# pylint: disable=no-member\u001b[39;00m\n\u001b[1;32m    144\u001b[0m parameters \u001b[38;5;241m=\u001b[39m autograd\u001b[38;5;241m.\u001b[39mbuiltins\u001b[38;5;241m.\u001b[39mtuple(\n\u001b[1;32m    145\u001b[0m     [autograd\u001b[38;5;241m.\u001b[39mbuiltins\u001b[38;5;241m.\u001b[39mlist(t\u001b[38;5;241m.\u001b[39mget_parameters()) \u001b[38;5;28;01mfor\u001b[39;00m t \u001b[38;5;129;01min\u001b[39;00m tapes]\n\u001b[1;32m    146\u001b[0m )\n\u001b[0;32m--> 147\u001b[0m \u001b[38;5;28;01mreturn\u001b[39;00m \u001b[43m_execute\u001b[49m\u001b[43m(\u001b[49m\u001b[43mparameters\u001b[49m\u001b[43m,\u001b[49m\u001b[43m \u001b[49m\u001b[38;5;28;43mtuple\u001b[39;49m\u001b[43m(\u001b[49m\u001b[43mtapes\u001b[49m\u001b[43m)\u001b[49m\u001b[43m,\u001b[49m\u001b[43m \u001b[49m\u001b[43mexecute_fn\u001b[49m\u001b[43m,\u001b[49m\u001b[43m \u001b[49m\u001b[43mjpc\u001b[49m\u001b[43m)\u001b[49m\n",
      "File \u001b[0;32m~/Downloads/Reply/.venv/lib/python3.11/site-packages/autograd/tracer.py:48\u001b[0m, in \u001b[0;36mprimitive.<locals>.f_wrapped\u001b[0;34m(*args, **kwargs)\u001b[0m\n\u001b[1;32m     46\u001b[0m     \u001b[38;5;28;01mreturn\u001b[39;00m new_box(ans, trace, node)\n\u001b[1;32m     47\u001b[0m \u001b[38;5;28;01melse\u001b[39;00m:\n\u001b[0;32m---> 48\u001b[0m     \u001b[38;5;28;01mreturn\u001b[39;00m \u001b[43mf_raw\u001b[49m\u001b[43m(\u001b[49m\u001b[38;5;241;43m*\u001b[39;49m\u001b[43margs\u001b[49m\u001b[43m,\u001b[49m\u001b[43m \u001b[49m\u001b[38;5;241;43m*\u001b[39;49m\u001b[38;5;241;43m*\u001b[39;49m\u001b[43mkwargs\u001b[49m\u001b[43m)\u001b[49m\n",
      "File \u001b[0;32m~/Downloads/Reply/.venv/lib/python3.11/site-packages/pennylane/interfaces/autograd.py:168\u001b[0m, in \u001b[0;36m_execute\u001b[0;34m(parameters, tapes, execute_fn, jpc)\u001b[0m\n\u001b[1;32m    150\u001b[0m \u001b[38;5;129m@autograd\u001b[39m\u001b[38;5;241m.\u001b[39mextend\u001b[38;5;241m.\u001b[39mprimitive\n\u001b[1;32m    151\u001b[0m \u001b[38;5;28;01mdef\u001b[39;00m \u001b[38;5;21m_execute\u001b[39m(\n\u001b[1;32m    152\u001b[0m     parameters,\n\u001b[0;32m   (...)\u001b[0m\n\u001b[1;32m    155\u001b[0m     jpc,\n\u001b[1;32m    156\u001b[0m ):  \u001b[38;5;66;03m# pylint: disable=unused-argument\u001b[39;00m\n\u001b[1;32m    157\u001b[0m \u001b[38;5;250m    \u001b[39m\u001b[38;5;124;03m\"\"\"Autodifferentiable wrapper around a way of executing tapes.\u001b[39;00m\n\u001b[1;32m    158\u001b[0m \n\u001b[1;32m    159\u001b[0m \u001b[38;5;124;03m    Args:\u001b[39;00m\n\u001b[0;32m   (...)\u001b[0m\n\u001b[1;32m    166\u001b[0m \n\u001b[1;32m    167\u001b[0m \u001b[38;5;124;03m    \"\"\"\u001b[39;00m\n\u001b[0;32m--> 168\u001b[0m     \u001b[38;5;28;01mreturn\u001b[39;00m \u001b[43mexecute_fn\u001b[49m\u001b[43m(\u001b[49m\u001b[43mtapes\u001b[49m\u001b[43m)\u001b[49m\n",
      "File \u001b[0;32m~/Downloads/Reply/.venv/lib/python3.11/site-packages/pennylane/interfaces/execution.py:261\u001b[0m, in \u001b[0;36m_make_inner_execute.<locals>.inner_execute\u001b[0;34m(tapes, **_)\u001b[0m\n\u001b[1;32m    259\u001b[0m \u001b[38;5;28;01mif\u001b[39;00m numpy_only:\n\u001b[1;32m    260\u001b[0m     tapes \u001b[38;5;241m=\u001b[39m \u001b[38;5;28mtuple\u001b[39m(qml\u001b[38;5;241m.\u001b[39mtransforms\u001b[38;5;241m.\u001b[39mconvert_to_numpy_parameters(t) \u001b[38;5;28;01mfor\u001b[39;00m t \u001b[38;5;129;01min\u001b[39;00m tapes)\n\u001b[0;32m--> 261\u001b[0m \u001b[38;5;28;01mreturn\u001b[39;00m \u001b[43mcached_device_execution\u001b[49m\u001b[43m(\u001b[49m\u001b[43mtapes\u001b[49m\u001b[43m)\u001b[49m\n",
      "File \u001b[0;32m~/Downloads/Reply/.venv/lib/python3.11/site-packages/pennylane/interfaces/execution.py:383\u001b[0m, in \u001b[0;36mcache_execute.<locals>.wrapper\u001b[0;34m(tapes, **kwargs)\u001b[0m\n\u001b[1;32m    378\u001b[0m         \u001b[38;5;28;01mreturn\u001b[39;00m (res, []) \u001b[38;5;28;01mif\u001b[39;00m return_tuple \u001b[38;5;28;01melse\u001b[39;00m res\n\u001b[1;32m    380\u001b[0m \u001b[38;5;28;01melse\u001b[39;00m:\n\u001b[1;32m    381\u001b[0m     \u001b[38;5;66;03m# execute all unique tapes that do not exist in the cache\u001b[39;00m\n\u001b[1;32m    382\u001b[0m     \u001b[38;5;66;03m# convert to list as new device interface returns a tuple\u001b[39;00m\n\u001b[0;32m--> 383\u001b[0m     res \u001b[38;5;241m=\u001b[39m \u001b[38;5;28mlist\u001b[39m(\u001b[43mfn\u001b[49m\u001b[43m(\u001b[49m\u001b[38;5;28;43mtuple\u001b[39;49m\u001b[43m(\u001b[49m\u001b[43mexecution_tapes\u001b[49m\u001b[38;5;241;43m.\u001b[39;49m\u001b[43mvalues\u001b[49m\u001b[43m(\u001b[49m\u001b[43m)\u001b[49m\u001b[43m)\u001b[49m\u001b[43m,\u001b[49m\u001b[43m \u001b[49m\u001b[38;5;241;43m*\u001b[39;49m\u001b[38;5;241;43m*\u001b[39;49m\u001b[43mkwargs\u001b[49m\u001b[43m)\u001b[49m)\n\u001b[1;32m    385\u001b[0m final_res \u001b[38;5;241m=\u001b[39m []\n\u001b[1;32m    387\u001b[0m \u001b[38;5;28;01mfor\u001b[39;00m i, tape \u001b[38;5;129;01min\u001b[39;00m \u001b[38;5;28menumerate\u001b[39m(tapes):\n",
      "File \u001b[0;32m/Applications/Anaconda/anaconda3/lib/python3.11/contextlib.py:81\u001b[0m, in \u001b[0;36mContextDecorator.__call__.<locals>.inner\u001b[0;34m(*args, **kwds)\u001b[0m\n\u001b[1;32m     78\u001b[0m \u001b[38;5;129m@wraps\u001b[39m(func)\n\u001b[1;32m     79\u001b[0m \u001b[38;5;28;01mdef\u001b[39;00m \u001b[38;5;21minner\u001b[39m(\u001b[38;5;241m*\u001b[39margs, \u001b[38;5;241m*\u001b[39m\u001b[38;5;241m*\u001b[39mkwds):\n\u001b[1;32m     80\u001b[0m     \u001b[38;5;28;01mwith\u001b[39;00m \u001b[38;5;28mself\u001b[39m\u001b[38;5;241m.\u001b[39m_recreate_cm():\n\u001b[0;32m---> 81\u001b[0m         \u001b[38;5;28;01mreturn\u001b[39;00m \u001b[43mfunc\u001b[49m\u001b[43m(\u001b[49m\u001b[38;5;241;43m*\u001b[39;49m\u001b[43margs\u001b[49m\u001b[43m,\u001b[49m\u001b[43m \u001b[49m\u001b[38;5;241;43m*\u001b[39;49m\u001b[38;5;241;43m*\u001b[39;49m\u001b[43mkwds\u001b[49m\u001b[43m)\u001b[49m\n",
      "File \u001b[0;32m~/Downloads/Reply/.venv/lib/python3.11/site-packages/pennylane/_qubit_device.py:459\u001b[0m, in \u001b[0;36mQubitDevice.batch_execute\u001b[0;34m(self, circuits)\u001b[0m\n\u001b[1;32m    454\u001b[0m \u001b[38;5;28;01mfor\u001b[39;00m circuit \u001b[38;5;129;01min\u001b[39;00m circuits:\n\u001b[1;32m    455\u001b[0m     \u001b[38;5;66;03m# we need to reset the device here, else it will\u001b[39;00m\n\u001b[1;32m    456\u001b[0m     \u001b[38;5;66;03m# not start the next computation in the zero state\u001b[39;00m\n\u001b[1;32m    457\u001b[0m     \u001b[38;5;28mself\u001b[39m\u001b[38;5;241m.\u001b[39mreset()\n\u001b[0;32m--> 459\u001b[0m     res \u001b[38;5;241m=\u001b[39m \u001b[38;5;28;43mself\u001b[39;49m\u001b[38;5;241;43m.\u001b[39;49m\u001b[43mexecute\u001b[49m\u001b[43m(\u001b[49m\u001b[43mcircuit\u001b[49m\u001b[43m)\u001b[49m\n\u001b[1;32m    460\u001b[0m     results\u001b[38;5;241m.\u001b[39mappend(res)\n\u001b[1;32m    462\u001b[0m \u001b[38;5;28;01mif\u001b[39;00m \u001b[38;5;28mself\u001b[39m\u001b[38;5;241m.\u001b[39mtracker\u001b[38;5;241m.\u001b[39mactive:\n",
      "File \u001b[0;32m~/Downloads/Reply/.venv/lib/python3.11/site-packages/pennylane/devices/default_mixed.py:685\u001b[0m, in \u001b[0;36mDefaultMixed.execute\u001b[0;34m(self, circuit, **kwargs)\u001b[0m\n\u001b[1;32m    683\u001b[0m         wires_list\u001b[38;5;241m.\u001b[39mappend(m\u001b[38;5;241m.\u001b[39mwires)\n\u001b[1;32m    684\u001b[0m     \u001b[38;5;28mself\u001b[39m\u001b[38;5;241m.\u001b[39mmeasured_wires \u001b[38;5;241m=\u001b[39m qml\u001b[38;5;241m.\u001b[39mwires\u001b[38;5;241m.\u001b[39mWires\u001b[38;5;241m.\u001b[39mall_wires(wires_list)\n\u001b[0;32m--> 685\u001b[0m \u001b[38;5;28;01mreturn\u001b[39;00m \u001b[38;5;28;43msuper\u001b[39;49m\u001b[43m(\u001b[49m\u001b[43m)\u001b[49m\u001b[38;5;241;43m.\u001b[39;49m\u001b[43mexecute\u001b[49m\u001b[43m(\u001b[49m\u001b[43mcircuit\u001b[49m\u001b[43m,\u001b[49m\u001b[43m \u001b[49m\u001b[38;5;241;43m*\u001b[39;49m\u001b[38;5;241;43m*\u001b[39;49m\u001b[43mkwargs\u001b[49m\u001b[43m)\u001b[49m\n",
      "File \u001b[0;32m~/Downloads/Reply/.venv/lib/python3.11/site-packages/pennylane/_qubit_device.py:277\u001b[0m, in \u001b[0;36mQubitDevice.execute\u001b[0;34m(self, circuit, **kwargs)\u001b[0m\n\u001b[1;32m    274\u001b[0m \u001b[38;5;28mself\u001b[39m\u001b[38;5;241m.\u001b[39mcheck_validity(circuit\u001b[38;5;241m.\u001b[39moperations, circuit\u001b[38;5;241m.\u001b[39mobservables)\n\u001b[1;32m    276\u001b[0m \u001b[38;5;66;03m# apply all circuit operations\u001b[39;00m\n\u001b[0;32m--> 277\u001b[0m \u001b[38;5;28;43mself\u001b[39;49m\u001b[38;5;241;43m.\u001b[39;49m\u001b[43mapply\u001b[49m\u001b[43m(\u001b[49m\u001b[43mcircuit\u001b[49m\u001b[38;5;241;43m.\u001b[39;49m\u001b[43moperations\u001b[49m\u001b[43m,\u001b[49m\u001b[43m \u001b[49m\u001b[43mrotations\u001b[49m\u001b[38;5;241;43m=\u001b[39;49m\u001b[38;5;28;43mself\u001b[39;49m\u001b[38;5;241;43m.\u001b[39;49m\u001b[43m_get_diagonalizing_gates\u001b[49m\u001b[43m(\u001b[49m\u001b[43mcircuit\u001b[49m\u001b[43m)\u001b[49m\u001b[43m,\u001b[49m\u001b[43m \u001b[49m\u001b[38;5;241;43m*\u001b[39;49m\u001b[38;5;241;43m*\u001b[39;49m\u001b[43mkwargs\u001b[49m\u001b[43m)\u001b[49m\n\u001b[1;32m    279\u001b[0m \u001b[38;5;66;03m# generate computational basis samples\u001b[39;00m\n\u001b[1;32m    280\u001b[0m sample_type \u001b[38;5;241m=\u001b[39m (SampleMP, CountsMP, ClassicalShadowMP, ShadowExpvalMP)\n",
      "File \u001b[0;32m~/Downloads/Reply/.venv/lib/python3.11/site-packages/pennylane/devices/default_mixed.py:699\u001b[0m, in \u001b[0;36mDefaultMixed.apply\u001b[0;34m(self, operations, rotations, **kwargs)\u001b[0m\n\u001b[1;32m    693\u001b[0m         \u001b[38;5;28;01mraise\u001b[39;00m DeviceError(\n\u001b[1;32m    694\u001b[0m             \u001b[38;5;124mf\u001b[39m\u001b[38;5;124m\"\u001b[39m\u001b[38;5;124mOperation \u001b[39m\u001b[38;5;132;01m{\u001b[39;00moperation\u001b[38;5;241m.\u001b[39mname\u001b[38;5;132;01m}\u001b[39;00m\u001b[38;5;124m cannot be used after other Operations have already been applied \u001b[39m\u001b[38;5;124m\"\u001b[39m\n\u001b[1;32m    695\u001b[0m             \u001b[38;5;124mf\u001b[39m\u001b[38;5;124m\"\u001b[39m\u001b[38;5;124mon a \u001b[39m\u001b[38;5;132;01m{\u001b[39;00m\u001b[38;5;28mself\u001b[39m\u001b[38;5;241m.\u001b[39mshort_name\u001b[38;5;132;01m}\u001b[39;00m\u001b[38;5;124m device.\u001b[39m\u001b[38;5;124m\"\u001b[39m\n\u001b[1;32m    696\u001b[0m         )\n\u001b[1;32m    698\u001b[0m \u001b[38;5;28;01mfor\u001b[39;00m operation \u001b[38;5;129;01min\u001b[39;00m operations:\n\u001b[0;32m--> 699\u001b[0m     \u001b[38;5;28;43mself\u001b[39;49m\u001b[38;5;241;43m.\u001b[39;49m\u001b[43m_apply_operation\u001b[49m\u001b[43m(\u001b[49m\u001b[43moperation\u001b[49m\u001b[43m)\u001b[49m\n\u001b[1;32m    701\u001b[0m \u001b[38;5;66;03m# store the pre-rotated state\u001b[39;00m\n\u001b[1;32m    702\u001b[0m \u001b[38;5;28mself\u001b[39m\u001b[38;5;241m.\u001b[39m_pre_rotated_state \u001b[38;5;241m=\u001b[39m \u001b[38;5;28mself\u001b[39m\u001b[38;5;241m.\u001b[39m_state\n",
      "File \u001b[0;32m~/Downloads/Reply/.venv/lib/python3.11/site-packages/pennylane/devices/default_mixed.py:629\u001b[0m, in \u001b[0;36mDefaultMixed._apply_operation\u001b[0;34m(self, operation)\u001b[0m\n\u001b[1;32m    627\u001b[0m     \u001b[38;5;28mself\u001b[39m\u001b[38;5;241m.\u001b[39m_apply_channel_tensordot(matrices, wires)\n\u001b[1;32m    628\u001b[0m \u001b[38;5;28;01melse\u001b[39;00m:\n\u001b[0;32m--> 629\u001b[0m     \u001b[38;5;28;43mself\u001b[39;49m\u001b[38;5;241;43m.\u001b[39;49m\u001b[43m_apply_channel\u001b[49m\u001b[43m(\u001b[49m\u001b[43mmatrices\u001b[49m\u001b[43m,\u001b[49m\u001b[43m \u001b[49m\u001b[43mwires\u001b[49m\u001b[43m)\u001b[49m\n",
      "File \u001b[0;32m~/Downloads/Reply/.venv/lib/python3.11/site-packages/pennylane/devices/default_mixed.py:325\u001b[0m, in \u001b[0;36mDefaultMixed._apply_channel\u001b[0;34m(self, kraus, wires)\u001b[0m\n\u001b[1;32m    322\u001b[0m \u001b[38;5;66;03m# Computes K^\\dagger, needed for the transformation K \\rho K^\\dagger\u001b[39;00m\n\u001b[1;32m    323\u001b[0m kraus_dagger \u001b[38;5;241m=\u001b[39m [qnp\u001b[38;5;241m.\u001b[39mconj(qnp\u001b[38;5;241m.\u001b[39mtranspose(k)) \u001b[38;5;28;01mfor\u001b[39;00m k \u001b[38;5;129;01min\u001b[39;00m kraus]\n\u001b[0;32m--> 325\u001b[0m kraus \u001b[38;5;241m=\u001b[39m \u001b[43mqnp\u001b[49m\u001b[38;5;241;43m.\u001b[39;49m\u001b[43mstack\u001b[49m\u001b[43m(\u001b[49m\u001b[43mkraus\u001b[49m\u001b[43m)\u001b[49m\n\u001b[1;32m    326\u001b[0m kraus_dagger \u001b[38;5;241m=\u001b[39m qnp\u001b[38;5;241m.\u001b[39mstack(kraus_dagger)\n\u001b[1;32m    328\u001b[0m \u001b[38;5;66;03m# Shape kraus operators\u001b[39;00m\n",
      "File \u001b[0;32m~/Downloads/Reply/.venv/lib/python3.11/site-packages/pennylane/math/multi_dispatch.py:134\u001b[0m, in \u001b[0;36mmulti_dispatch.<locals>.decorator.<locals>.wrapper\u001b[0;34m(*args, **kwargs)\u001b[0m\n\u001b[1;32m    132\u001b[0m \u001b[38;5;28;01mif\u001b[39;00m \u001b[38;5;129;01mnot\u001b[39;00m \u001b[38;5;28misinstance\u001b[39m(argnums, Sequence):\n\u001b[1;32m    133\u001b[0m     argnums \u001b[38;5;241m=\u001b[39m [argnums]\n\u001b[0;32m--> 134\u001b[0m \u001b[38;5;28;01mif\u001b[39;00m \u001b[38;5;129;01mnot\u001b[39;00m \u001b[38;5;28misinstance\u001b[39m(tensor_lists, Sequence):\n\u001b[1;32m    135\u001b[0m     tensor_lists \u001b[38;5;241m=\u001b[39m [tensor_lists]\n\u001b[1;32m    137\u001b[0m dispatch_args \u001b[38;5;241m=\u001b[39m []\n",
      "File \u001b[0;32m<frozen abc>:119\u001b[0m, in \u001b[0;36m__instancecheck__\u001b[0;34m(cls, instance)\u001b[0m\n",
      "\u001b[0;31mKeyboardInterrupt\u001b[0m: "
     ]
    }
   ],
   "source": [
    "import time\n",
    "import pennylane as qml\n",
    "from mitiq.zne.scaling import fold_gates_from_left\n",
    "from mitiq.zne.inference import ExpFactory, RichardsonFactory, PolyFactory\n",
    "\n",
    "\n",
    "opt = qml.GradientDescentOptimizer(stepsize=0.5)\n",
    "\n",
    "\n",
    "qnode_noisy = qml.QNode(circuit_noisy, dev_noisy)\n",
    "scale_factors = [1, 2, 5]\n",
    "#order = 2\n",
    "extrapolate = RichardsonFactory.extrapolate\n",
    "#extrapolate = PolyFactory.extrapolate\n",
    "#factory = zne.inference.PolyFactory(scale_factors=[1, 1.5, 2, 2.5, 3], order=2)\n",
    "qnode_mitigated = qml.transforms.mitigate_with_zne(circuit_noisy,\n",
    "    scale_factors,\n",
    "    fold_gates_from_left,\n",
    "    extrapolate,\n",
    "    #PolyFactory.extrapolate,\n",
    "    #extrapolate_kwargs = {\"order\" : 2}\n",
    ")\n",
    "params = np.zeros(len(doubles+ singles), requires_grad=True)\n",
    "\n",
    "energies_mitigated = [0]\n",
    "conv_tol = 1.0e-6\n",
    "for n in range(300):\n",
    "    \n",
    "    params, energy = opt.step_and_cost(qnode_mitigated, params)\n",
    "    energies_mitigated.append(energy)\n",
    "    print(\"n = {:},  E = {:.8f} H\".format(n, energy))"
   ]
  },
  {
   "cell_type": "code",
   "execution_count": 42,
   "metadata": {},
   "outputs": [
    {
     "name": "stderr",
     "output_type": "stream",
     "text": [
      "/Users/abdessamadoukermou/Downloads/Reply/.venv/lib/python3.11/site-packages/pennylane/ops/functions/eigvals.py:116: UserWarning: For Hamiltonians, the eigenvalues will be computed numerically. This may be computationally intensive for a large number of wires. Consider using a sparse representation of the Hamiltonian with qml.SparseHamiltonian.\n",
      "  warnings.warn(\n"
     ]
    },
    {
     "data": {
      "image/png": "[encoded data removed]",
      "text/plain": [
       "<Figure size 640x480 with 1 Axes>"
      ]
     },
     "metadata": {},
     "output_type": "display_data"
    }
   ],
   "source": [
    "import matplotlib.pyplot as plt\n",
    "energies_mitigated.pop(0)\n",
    "E = np.min(qml.eigvals(H))\n",
    "plt.plot(range(len(energies_mitigated)),energies_mitigated,\"go\",ls=\"dashed\")\n",
    "plt.plot(range(len(energies_mitigated)), np.full(len(energies_mitigated), E), color=\"red\")\n",
    "plt.text(0, E, r\"$E_\\mathrm{exact}$\", fontsize=15)\n",
    "plt.xlabel(\"Optimization step\", fontsize=13)\n",
    "plt.ylabel(\"Energy\", fontsize=13)\n",
    "plt.xticks(fontsize=12)\n",
    "plt.yticks(fontsize=12)\n",
    "plt.show()"
   ]
  },
  {
   "cell_type": "markdown",
   "metadata": {},
   "source": [
    "## MITIQ"
   ]
  },
  {
   "cell_type": "code",
   "execution_count": 38,
   "metadata": {},
   "outputs": [],
   "source": [
    "import pennylane as qml\n",
    "from pennylane import numpy as np\n",
    "import matplotlib.pyplot as plt\n",
    "from mitiq.zne import mitigate_executor\n",
    "from mitiq.zne.inference import ExpFactory\n",
    "from mitiq.zne.scaling import fold_global as folding"
   ]
  },
  {
   "cell_type": "code",
   "execution_count": 40,
   "metadata": {},
   "outputs": [
    {
     "name": "stderr",
     "output_type": "stream",
     "text": [
      "/Users/abdessamadoukermou/Downloads/Reply/.venv/lib/python3.11/site-packages/pennylane/transforms/core/transform_dispatcher.py:130: PennyLaneDeprecationWarning: Decorating a QNode with @transform_fn(**transform_kwargs) has been deprecated and will be removed in a future version. Please decorate with @functools.partial(transform_fn, **transform_kwargs) instead, or call the transform directly using qnode = transform_fn(qnode, **transform_kwargs). Visit the deprecations page for more details: https://docs.pennylane.ai/en/stable/development/deprecations.html\n",
      "  warnings.warn(\n"
     ]
    }
   ],
   "source": [
    "extrapolate = ExpFactory.extrapolate\n",
    "scale_factors = [1, 2, 3]\n",
    "@qml.transforms.mitigate_with_zne(scale_factors, folding, extrapolate)\n",
    "@qml.qnode(dev_noisy)#using noisy simulator with mitigation\n",
    "def circuit_mitigated(params):\n",
    "    qml.BasisState(hf, wires=range(n_qubits))\n",
    "    i=0\n",
    "    for d in  doubles_select:\n",
    "        full_double_excitation_decomposition(params[i], wires= d)\n",
    "        #qml.DoubleExcitation(params[i], wires=d)\n",
    "        i+=1\n",
    "    for s in singles_select:\n",
    "        #qml.SingleExcitation(params[i], wires=s)\n",
    "        full_single_excitation_decomposition(params[i], wires = s)\n",
    "        i+=1\n",
    "    return qml.expval(H)"
   ]
  },
  {
   "cell_type": "code",
   "execution_count": 43,
   "metadata": {},
   "outputs": [
    {
     "name": "stdout",
     "output_type": "stream",
     "text": [
      "n = 0,  E = -2.55744016 H\n",
      "n = 1,  E = -2.81593272 H\n",
      "n = 2,  E = -2.73708162 H\n",
      "n = 3,  E = -2.87221885 H\n",
      "n = 4,  E = -2.88420754 H\n",
      "n = 5,  E = -2.81552420 H\n",
      "n = 6,  E = -2.91084727 H\n",
      "n = 7,  E = -2.82181871 H\n",
      "n = 8,  E = -2.83163732 H\n",
      "n = 9,  E = -2.90555213 H\n",
      "n = 10,  E = -2.77536725 H\n",
      "n = 11,  E = -2.88294504 H\n",
      "n = 12,  E = -2.85659869 H\n",
      "n = 13,  E = -2.89701277 H\n",
      "n = 14,  E = -2.85759557 H\n",
      "n = 15,  E = -2.80405584 H\n",
      "n = 16,  E = -2.82556729 H\n",
      "n = 17,  E = -2.82474858 H\n",
      "n = 18,  E = -2.79011376 H\n",
      "n = 19,  E = -2.89513883 H\n",
      "n = 20,  E = -2.83736095 H\n",
      "n = 21,  E = -2.82146594 H\n",
      "n = 22,  E = -2.86240994 H\n",
      "n = 23,  E = -2.84427037 H\n",
      "n = 24,  E = -2.87065610 H\n",
      "n = 25,  E = -2.83502451 H\n",
      "n = 26,  E = -2.89598811 H\n",
      "n = 27,  E = -2.90745271 H\n",
      "n = 28,  E = -2.77177064 H\n",
      "n = 29,  E = -2.79432300 H\n",
      "n = 30,  E = -2.90270774 H\n",
      "n = 31,  E = -2.84756058 H\n",
      "n = 32,  E = -2.83560402 H\n",
      "n = 33,  E = -2.84970472 H\n",
      "n = 34,  E = -2.77524128 H\n",
      "n = 35,  E = -2.85099029 H\n",
      "n = 36,  E = -2.77941969 H\n",
      "n = 37,  E = -2.81648752 H\n",
      "n = 38,  E = -2.90357785 H\n",
      "n = 39,  E = -2.84174557 H\n",
      "n = 40,  E = -2.90792345 H\n",
      "n = 41,  E = -2.86026042 H\n",
      "n = 42,  E = -2.84253938 H\n",
      "n = 43,  E = -2.82099130 H\n",
      "n = 44,  E = -2.88516998 H\n",
      "n = 45,  E = -2.80524091 H\n",
      "n = 46,  E = -2.91848190 H\n",
      "n = 47,  E = -2.81629796 H\n",
      "n = 48,  E = -2.80963193 H\n",
      "n = 49,  E = -2.82584656 H\n",
      "n = 50,  E = -2.84605497 H\n",
      "n = 51,  E = -2.95351725 H\n",
      "n = 52,  E = -2.92838150 H\n",
      "n = 53,  E = -2.89261369 H\n",
      "n = 54,  E = -2.89619072 H\n",
      "n = 55,  E = -2.84657171 H\n",
      "n = 56,  E = -2.92624988 H\n",
      "n = 57,  E = -2.81562781 H\n",
      "n = 58,  E = -2.84878788 H\n",
      "n = 59,  E = -2.92228151 H\n",
      "n = 60,  E = -2.89715692 H\n",
      "n = 61,  E = -2.84493125 H\n",
      "n = 62,  E = -2.92560294 H\n",
      "n = 63,  E = -2.84243120 H\n",
      "n = 64,  E = -2.88285361 H\n",
      "n = 65,  E = -2.85627492 H\n",
      "n = 66,  E = -2.89447668 H\n",
      "n = 67,  E = -2.88736044 H\n",
      "n = 68,  E = -2.86787646 H\n",
      "n = 69,  E = -2.87412133 H\n",
      "n = 70,  E = -2.80721347 H\n",
      "n = 71,  E = -2.89174529 H\n",
      "n = 72,  E = -2.82785882 H\n",
      "n = 73,  E = -2.87719234 H\n",
      "n = 74,  E = -2.83306911 H\n",
      "n = 75,  E = -2.83270712 H\n",
      "n = 76,  E = -2.85119748 H\n",
      "n = 77,  E = -2.85970012 H\n",
      "n = 78,  E = -2.91151413 H\n",
      "n = 79,  E = -2.90101885 H\n",
      "n = 80,  E = -2.83951404 H\n",
      "n = 81,  E = -2.79784274 H\n",
      "n = 82,  E = -2.84096672 H\n",
      "n = 83,  E = -2.83021663 H\n",
      "n = 84,  E = -2.77943027 H\n",
      "n = 85,  E = -2.83380804 H\n",
      "n = 86,  E = -2.78950048 H\n",
      "n = 87,  E = -2.85037617 H\n",
      "n = 88,  E = -2.86287115 H\n",
      "n = 89,  E = -2.82138589 H\n",
      "n = 90,  E = -2.79006040 H\n",
      "n = 91,  E = -2.78151897 H\n",
      "n = 92,  E = -2.84152872 H\n",
      "n = 93,  E = -2.84422157 H\n",
      "n = 94,  E = -2.81240370 H\n",
      "n = 95,  E = -2.77532143 H\n",
      "n = 96,  E = -2.83974701 H\n",
      "n = 97,  E = -2.88851013 H\n",
      "n = 98,  E = -2.80941889 H\n",
      "n = 99,  E = -2.87090211 H\n",
      "n = 100,  E = -2.86178050 H\n",
      "n = 101,  E = -2.85768823 H\n",
      "n = 102,  E = -2.89483652 H\n",
      "n = 103,  E = -2.90653259 H\n",
      "n = 104,  E = -2.87781179 H\n",
      "n = 105,  E = -2.85335142 H\n",
      "n = 106,  E = -2.86655372 H\n",
      "n = 107,  E = -2.85383469 H\n",
      "n = 108,  E = -2.84401958 H\n",
      "n = 109,  E = -2.84168897 H\n",
      "n = 110,  E = -2.83047728 H\n",
      "n = 111,  E = -2.84096861 H\n",
      "n = 112,  E = -2.89344672 H\n",
      "n = 113,  E = -2.83078533 H\n",
      "n = 114,  E = -2.88409090 H\n",
      "n = 115,  E = -2.89422453 H\n",
      "n = 116,  E = -2.85432878 H\n",
      "n = 117,  E = -2.82753115 H\n",
      "n = 118,  E = -2.86757494 H\n",
      "n = 119,  E = -2.89642210 H\n",
      "n = 120,  E = -2.84512193 H\n",
      "n = 121,  E = -2.87106283 H\n",
      "n = 122,  E = -2.80411097 H\n",
      "n = 123,  E = -2.85095884 H\n",
      "n = 124,  E = -2.83686392 H\n",
      "n = 125,  E = -2.78316515 H\n",
      "n = 126,  E = -2.87388312 H\n",
      "n = 127,  E = -2.83456620 H\n",
      "n = 128,  E = -2.80914377 H\n",
      "n = 129,  E = -2.81309243 H\n",
      "n = 130,  E = -2.78275496 H\n",
      "n = 131,  E = -2.84284052 H\n",
      "n = 132,  E = -2.77928428 H\n",
      "n = 133,  E = -2.90040851 H\n",
      "n = 134,  E = -2.84368227 H\n",
      "n = 135,  E = -2.88537362 H\n",
      "n = 136,  E = -2.82903735 H\n",
      "n = 137,  E = -2.87736492 H\n",
      "n = 138,  E = -2.82579682 H\n",
      "n = 139,  E = -2.80525894 H\n",
      "n = 140,  E = -2.85397680 H\n",
      "n = 141,  E = -2.82961237 H\n",
      "n = 142,  E = -2.84297664 H\n",
      "n = 143,  E = -2.80084547 H\n",
      "n = 144,  E = -2.91685754 H\n",
      "n = 145,  E = -2.83795436 H\n",
      "n = 146,  E = -2.87801898 H\n",
      "n = 147,  E = -2.87420603 H\n",
      "n = 148,  E = -2.85386787 H\n",
      "n = 149,  E = -2.87794197 H\n",
      "n = 150,  E = -2.79571800 H\n",
      "n = 151,  E = -2.80963619 H\n",
      "n = 152,  E = -2.83951794 H\n",
      "n = 153,  E = -2.80491728 H\n",
      "n = 154,  E = -2.82043949 H\n",
      "n = 155,  E = -2.84798186 H\n",
      "n = 156,  E = -2.81036307 H\n",
      "n = 157,  E = -2.89042070 H\n",
      "n = 158,  E = -2.84367643 H\n",
      "n = 159,  E = -2.88548813 H\n",
      "n = 160,  E = -2.84304168 H\n",
      "n = 161,  E = -2.82109813 H\n",
      "n = 162,  E = -2.84334612 H\n",
      "n = 163,  E = -2.88765715 H\n",
      "n = 164,  E = -2.83634067 H\n",
      "n = 165,  E = -2.90024479 H\n",
      "n = 166,  E = -2.76506835 H\n",
      "n = 167,  E = -2.76627529 H\n",
      "n = 168,  E = -2.87544550 H\n",
      "n = 169,  E = -2.85697661 H\n",
      "n = 170,  E = -2.82948897 H\n",
      "n = 171,  E = -2.85946364 H\n",
      "n = 172,  E = -2.83394645 H\n",
      "n = 173,  E = -2.86439431 H\n",
      "n = 174,  E = -2.81215276 H\n",
      "n = 175,  E = -2.82972628 H\n",
      "n = 176,  E = -2.85255875 H\n",
      "n = 177,  E = -2.84083866 H\n",
      "n = 178,  E = -2.81873122 H\n",
      "n = 179,  E = -2.75335958 H\n",
      "n = 180,  E = -2.89467410 H\n",
      "n = 181,  E = -2.80386554 H\n",
      "n = 182,  E = -2.83841758 H\n",
      "n = 183,  E = -2.81353495 H\n",
      "n = 184,  E = -2.83814990 H\n",
      "n = 185,  E = -2.80899425 H\n",
      "n = 186,  E = -2.89024668 H\n",
      "n = 187,  E = -2.90045189 H\n",
      "n = 188,  E = -2.77272953 H\n",
      "n = 189,  E = -2.85030082 H\n",
      "n = 190,  E = -2.78188741 H\n",
      "n = 191,  E = -2.83700373 H\n",
      "n = 192,  E = -2.85663429 H\n",
      "n = 193,  E = -2.88809972 H\n",
      "n = 194,  E = -2.85643947 H\n",
      "n = 195,  E = -2.82113456 H\n",
      "n = 196,  E = -2.87096984 H\n",
      "n = 197,  E = -2.82726752 H\n",
      "n = 198,  E = -2.87689039 H\n",
      "n = 199,  E = -2.77653268 H\n"
     ]
    }
   ],
   "source": [
    "import time\n",
    "opt = qml.GradientDescentOptimizer(stepsize=0.5)\n",
    "scale_factors = [1.0, 2.0,  3.0]\n",
    " \n",
    "qnode_mitigated = qml.QNode(circuit_mitigated, dev_noisy)\n",
    "params = np.zeros(len(doubles_select + singles_select), requires_grad=True)\n",
    " \n",
    "gates_select = doubles_select + singles_select\n",
    "energies_mitigated_exp = [0]\n",
    "conv_tol = 1.0e-10\n",
    "for n in range(200):\n",
    "    params, energy = opt.step_and_cost(qnode_mitigated, params)\n",
    "    energies_mitigated_exp.append(energy)\n",
    "    conv = np.abs(energies_mitigated_exp[-1] - energies_mitigated_exp[-2])\n",
    "    print(\"n = {:},  E = {:.8f} H\".format(n, energy))"
   ]
  },
  {
   "cell_type": "code",
   "execution_count": 44,
   "metadata": {},
   "outputs": [
    {
     "name": "stderr",
     "output_type": "stream",
     "text": [
      "/Users/abdessamadoukermou/Downloads/Reply/.venv/lib/python3.11/site-packages/pennylane/ops/functions/eigvals.py:116: UserWarning: For Hamiltonians, the eigenvalues will be computed numerically. This may be computationally intensive for a large number of wires. Consider using a sparse representation of the Hamiltonian with qml.SparseHamiltonian.\n",
      "  warnings.warn(\n"
     ]
    },
    {
     "data": {
      "image/png": "[encoded data removed]",
      "text/plain": [
       "<Figure size 640x480 with 1 Axes>"
      ]
     },
     "metadata": {},
     "output_type": "display_data"
    }
   ],
   "source": [
    "import matplotlib.pyplot as plt\n",
    "energies_mitigated_exp.pop(0)\n",
    "E = np.min(qml.eigvals(H))\n",
    "plt.plot(range(len(energies_mitigated_exp)),energies_mitigated_exp,\"go\",ls=\"dashed\")\n",
    "plt.plot(range(len(energies_mitigated_exp)), np.full(len(energies_mitigated_exp), E), color=\"red\")\n",
    "plt.text(0, E, r\"$E_\\mathrm{exact}$\", fontsize=15)\n",
    "plt.xlabel(\"Optimization step\", fontsize=13)\n",
    "plt.ylabel(\"Energy\", fontsize=13)\n",
    "plt.xticks(fontsize=12)\n",
    "plt.yticks(fontsize=12)\n",
    "plt.show()"
   ]
  },
  {
   "cell_type": "markdown",
   "metadata": {},
   "source": [
    "## ZNE with local folding"
   ]
  },
  {
   "cell_type": "code",
   "execution_count": null,
   "metadata": {},
   "outputs": [],
   "source": [
    "import pennylane as qml\n",
    "from pennylane import numpy as np\n",
    "import matplotlib.pyplot as plt\n",
    "from mitiq.zne import mitigate_executor\n",
    "from mitiq.zne.inference import RichardsonFactory\n",
    "from mitiq.zne.scaling import fold_gates_from_left as folding\n",
    "import pennylane_qiskit"
   ]
  },
  {
   "cell_type": "code",
   "execution_count": null,
   "metadata": {},
   "outputs": [
    {
     "name": "stderr",
     "output_type": "stream",
     "text": [
      "/Users/abdessamadoukermou/Downloads/Reply/.venv/lib/python3.11/site-packages/pennylane/transforms/core/transform_dispatcher.py:130: PennyLaneDeprecationWarning: Decorating a QNode with @transform_fn(**transform_kwargs) has been deprecated and will be removed in a future version. Please decorate with @functools.partial(transform_fn, **transform_kwargs) instead, or call the transform directly using qnode = transform_fn(qnode, **transform_kwargs). Visit the deprecations page for more details: https://docs.pennylane.ai/en/stable/development/deprecations.html\n",
      "  warnings.warn(\n"
     ]
    }
   ],
   "source": [
    "extrapolate = RichardsonFactory.extrapolate\n",
    "scale_factors = [1, 2, 3]\n",
    "@qml.transforms.mitigate_with_zne(scale_factors, folding, extrapolate)\n",
    "@qml.qnode(dev_noisy)#using noisy simulator with mitigation\n",
    "def circuit_local_folding(params) :\n",
    "    qml.BasisState(hf, wires=range(n_qubits))\n",
    "    for s in singles_select:\n",
    "        qml.SingleExcitation(params, wires=s)\n",
    "    for d in doubles_select:\n",
    "        qml.DoubleExcitation(params, wires=d)\n",
    "    return qml.expval(H)"
   ]
  },
  {
   "cell_type": "markdown",
   "metadata": {},
   "source": [
    "## Evaluate noise-scaled expectation values\n",
    "\n"
   ]
  },
  {
   "cell_type": "markdown",
   "metadata": {},
   "source": [
    "RichardsonFactory"
   ]
  },
  {
   "cell_type": "code",
   "execution_count": null,
   "metadata": {},
   "outputs": [
    {
     "name": "stderr",
     "output_type": "stream",
     "text": [
      "/Users/abdessamadoukermou/Downloads/Reply/.venv/lib/python3.11/site-packages/numpy/linalg/linalg.py:2180: RuntimeWarning: divide by zero encountered in det\n",
      "  r = _umath_linalg.det(a, signature=signature)\n",
      "/Users/abdessamadoukermou/Downloads/Reply/.venv/lib/python3.11/site-packages/numpy/linalg/linalg.py:2180: RuntimeWarning: invalid value encountered in det\n",
      "  r = _umath_linalg.det(a, signature=signature)\n"
     ]
    },
    {
     "data": {
      "text/plain": [
       "-3.4489560500481433"
      ]
     },
     "execution_count": 171,
     "metadata": {},
     "output_type": "execute_result"
    }
   ],
   "source": [
    "from mitiq import zne\n",
    "\n",
    "# Choose a list of scale factors\n",
    "scale_factors = [1.0, 2.0, 3.0]\n",
    "# Generate a list of folded circuits\n",
    "extrapolate = RichardsonFactory.extrapolate\n",
    "scale_factors = [1, 2, 3]\n",
    "@qml.qnode(dev_noisy)#using noisy simulator with mitigation\n",
    "def circuit(params, wires=range(n_qubits)):\n",
    "    qml.BasisState(hf, wires=range(n_qubits))\n",
    "    for d in  doubles_select:\n",
    "        full_double_excitation_decomposition(params, wires= d)\n",
    "    for s in  singles_select:\n",
    "        full_single_excitation_decomposition(params, wires = s)\n",
    "    return qml.expval(H)\n",
    "\n",
    "expectation_values = [qml.transforms.fold_global(circuit, s)(7) for s in scale_factors]\n",
    " \n",
    "# Initialize a factory\n",
    "fac = zne.inference.RichardsonFactory(scale_factors)\n",
    "\n",
    "# Load data:\n",
    "for s, e in zip(scale_factors, expectation_values):\n",
    "    fac.push({\"scale_factor\": s}, e)\n",
    "\n",
    "# Evaluate the extrapolation\n",
    "fac.reduce()\n"
   ]
  },
  {
   "cell_type": "code",
   "execution_count": null,
   "metadata": {},
   "outputs": [
    {
     "data": {
      "image/png": "[encoded data removed]",
      "text/plain": [
       "<Figure size 700x500 with 1 Axes>"
      ]
     },
     "metadata": {},
     "output_type": "display_data"
    }
   ],
   "source": [
    "_ = fac.plot_fit()"
   ]
  },
  {
   "cell_type": "markdown",
   "metadata": {},
   "source": [
    "ExpFactory"
   ]
  },
  {
   "cell_type": "code",
   "execution_count": null,
   "metadata": {},
   "outputs": [
    {
     "name": "stderr",
     "output_type": "stream",
     "text": [
      "/Users/abdessamadoukermou/Downloads/Reply/.venv/lib/python3.11/site-packages/numpy/linalg/linalg.py:2180: RuntimeWarning: divide by zero encountered in det\n",
      "  r = _umath_linalg.det(a, signature=signature)\n",
      "/Users/abdessamadoukermou/Downloads/Reply/.venv/lib/python3.11/site-packages/numpy/linalg/linalg.py:2180: RuntimeWarning: invalid value encountered in det\n",
      "  r = _umath_linalg.det(a, signature=signature)\n"
     ]
    },
    {
     "name": "stdout",
     "output_type": "stream",
     "text": [
      "[array(-3.46860882), array(-3.47540276), array(-3.46264258)]\n"
     ]
    },
    {
     "data": {
      "text/plain": [
       "-3.4748573710447803"
      ]
     },
     "execution_count": 173,
     "metadata": {},
     "output_type": "execute_result"
    }
   ],
   "source": [
    "from mitiq import zne\n",
    "\n",
    "# Choose a list of scale factors\n",
    "scale_factors = [1, 2, 3]\n",
    "@qml.qnode(dev_noisy)#using noisy simulator with mitigation\n",
    "def circuit(params, wires=range(n_qubits)):\n",
    "    qml.BasisState(hf, wires=range(n_qubits))\n",
    "    for d in  doubles_select:\n",
    "        full_double_excitation_decomposition(params, wires= d)\n",
    "    for s in  singles_select:\n",
    "        full_single_excitation_decomposition(params, wires = s)\n",
    "    return qml.expval(H)\n",
    "\n",
    "noise_scaled_circuits = [qml.transforms.fold_global(circuit, s) for s in scale_factors]\n",
    "expectation_values = [qml.transforms.fold_global(circuit, s)(7) for s in scale_factors]\n",
    "print(expectation_values)\n",
    "# Initialize a factory\n",
    "fac = zne.inference.ExpFactory(scale_factors, asymptote=0.5)\n",
    "# Load data:\n",
    "for s, e in zip(scale_factors, expectation_values):\n",
    "    fac.push({\"scale_factor\": s}, e)\n",
    "\n",
    "# Evaluate the extrapolation\n",
    "fac.reduce()"
   ]
  },
  {
   "cell_type": "code",
   "execution_count": null,
   "metadata": {},
   "outputs": [],
   "source": []
  }
 ],
 "metadata": {
  "kernelspec": {
   "display_name": "Python 3 (ipykernel)",
   "language": "python",
   "name": "python3"
  },
  "language_info": {
   "codemirror_mode": {
    "name": "ipython",
    "version": 3
   },
   "file_extension": ".py",
   "mimetype": "text/x-python",
   "name": "python",
   "nbconvert_exporter": "python",
   "pygments_lexer": "ipython3",
   "version": "3.11.7"
  }
 },
 "nbformat": 4,
 "nbformat_minor": 4
}
