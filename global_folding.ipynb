{
 "cells": [
  {
   "cell_type": "code",
   "execution_count": 40,
   "metadata": {},
   "outputs": [],
   "source": [
    "# Since the Python Code Interpreter does not support Qiskit, the code will be written as if it does.\n",
    "# Please run this code in your local environment where Qiskit is installed.\n",
    " \n",
    "from qiskit import QuantumCircuit, QuantumRegister\n",
    " \n",
    "def global_folding(circuit, scale_factor):\n",
    " \n",
    "    if scale_factor < 1:\n",
    "        raise ValueError(\"Scale factor must be >= 1.\")\n",
    "    \n",
    "    # The number of additional full sequences to add is scale_factor - 1\n",
    "    additional_sequences = int(scale_factor)- 2\n",
    "    \n",
    "    # Copy the original circuit\n",
    "    folded_circuit = circuit.copy()\n",
    "    \n",
    "    # Add the additional sequences\n",
    "    for _ in range(additional_sequences):\n",
    "        # Add the inverse of the original circuit\n",
    "        folded_circuit.compose(circuit.inverse(), inplace=True)\n",
    "        folded_circuit.compose(circuit, inplace=True)\n",
    "    \n",
    "    \n",
    "    # Return the folded circuit\n",
    "    return folded_circuit\n",
    " \n",
    " \n",
    "# Function to create a simple quantum circuit for demonstration\n",
    "def create_simple_circuit():\n",
    "    qc = QuantumCircuit(2)\n",
    "    qc.h(0)  \n",
    "    qc.cx(0, 1)  \n",
    "    return qc\n",
    " \n",
    "# Create the simple circuit\n",
    "original_circuit = create_simple_circuit()\n",
    " \n",
    "# Now we'll use the global folding function to fold the original circuit\n",
    "# with a scale factor of 3 (for demonstration purposes)\n",
    "scale_factor = 3\n",
    "folded_circuit = global_folding(original_circuit, scale_factor)\n",
    " \n",
    "# Draw the original and folded circuits"
   ]
  },
  {
   "cell_type": "code",
   "execution_count": 41,
   "metadata": {},
   "outputs": [
    {
     "name": "stderr",
     "output_type": "stream",
     "text": [
      "c:\\Users\\MAMLOUK MOHAMED\\anaconda3\\Lib\\site-packages\\qiskit\\visualization\\circuit\\matplotlib.py:266: FutureWarning: The default matplotlib drawer scheme will be changed to \"iqp\" in a following release. To silence this warning, specify the current default explicitly as style=\"clifford\", or the new default as style=\"iqp\".\n",
      "  self._style, def_font_ratio = load_style(self._style)\n"
     ]
    },
    {
     "data": {
      "image/png": "[encoded data removed]",
      "text/plain": [
       "<Figure size 287.294x200.667 with 1 Axes>"
      ]
     },
     "execution_count": 41,
     "metadata": {},
     "output_type": "execute_result"
    }
   ],
   "source": [
    "original_circuit.draw('mpl')\n"
   ]
  },
  {
   "cell_type": "code",
   "execution_count": 42,
   "metadata": {},
   "outputs": [
    {
     "data": {
      "image/png": "[encoded data removed]",
      "text/plain": [
       "<Figure size 621.739x200.667 with 1 Axes>"
      ]
     },
     "execution_count": 42,
     "metadata": {},
     "output_type": "execute_result"
    }
   ],
   "source": [
    "folded_circuit.draw('mpl')"
   ]
  },
  {
   "cell_type": "code",
   "execution_count": 43,
   "metadata": {},
   "outputs": [
    {
     "data": {
      "image/png": "[encoded data removed]",
      "text/plain": [
       "<Figure size 621.739x200.667 with 1 Axes>"
      ]
     },
     "execution_count": 43,
     "metadata": {},
     "output_type": "execute_result"
    }
   ],
   "source": [
    "from mitiq.zne.scaling import fold_global\n",
    "scaled_circuit = fold_global(original_circuit, scale_factor = 3)\n",
    "scaled_circuit.draw('mpl')"
   ]
  },
  {
   "cell_type": "code",
   "execution_count": 50,
   "metadata": {},
   "outputs": [],
   "source": [
    "from qiskit import QuantumCircuit, QuantumRegister\n",
    "import qiskit.circuit.library.standard_gates as gates\n",
    "\n",
    "def local_folding(circuit, start_index, end_index, scale_factor):\n",
    "    if scale_factor < 1:\n",
    "        raise ValueError(\"Scale factor must be >= 1.\")\n",
    "    \n",
    "    # The number of additional sequences to add is scale_factor - 1\n",
    "    additional_sequences = scale_factor - 2\n",
    "    \n",
    "    # Copy the original circuit\n",
    "    folded_circuit = circuit.copy()\n",
    "    \n",
    "    # Extract the instructions to fold\n",
    "    instructions_to_fold = circuit.data[start_index:end_index + 1]\n",
    "    \n",
    "    # Perform the local folding\n",
    "    for _ in range(additional_sequences):\n",
    "        for inst in instructions_to_fold:\n",
    "            folded_circuit.data.insert(start_index, inst)\n",
    "        for inst in reversed(instructions_to_fold):\n",
    "            # Inverting the gate if necessary\n",
    "            gate = inst[0]\n",
    "            qubits = inst[1]\n",
    "            clbits = inst[2]\n",
    "            if isinstance(gate, gates.HGate):\n",
    "                # Hadamard gate is self-inverse\n",
    "                inverse_gate = gate\n",
    "            elif isinstance(gate, gates.CXGate):\n",
    "                # CNOT gate is self-inverse\n",
    "                inverse_gate = gate\n",
    "            else:\n",
    "                raise NotImplementedError(f\"Inverse for gate {gate.name} is not implemented.\")\n",
    "            # Insert the inverse gate\n",
    "            folded_circuit.data.insert(start_index, (inverse_gate, qubits, clbits))\n",
    "    \n",
    "    return folded_circuit\n",
    "\n",
    "# Create a simple circuit for demonstration\n",
    "qr = QuantumRegister(2, name=\"q\")\n",
    "original_circuit = QuantumCircuit(qr)\n",
    "original_circuit.h(qr[0])\n",
    "original_circuit.cx(qr[0], qr[1])\n",
    "\n",
    "# Apply local folding to the entire sequence of the circuit\n",
    "start_index = 0\n",
    "end_index = 1  # This includes both the H and the CX gate in the folding\n",
    "scale_factor = 3\n",
    "folded_circuit = local_folding(original_circuit, start_index, end_index, scale_factor)"
   ]
  },
  {
   "cell_type": "code",
   "execution_count": 51,
   "metadata": {},
   "outputs": [
    {
     "data": {
      "image/png": "[encoded data removed]",
      "text/plain": [
       "<Figure size 287.294x200.667 with 1 Axes>"
      ]
     },
     "execution_count": 51,
     "metadata": {},
     "output_type": "execute_result"
    }
   ],
   "source": [
    "original_circuit.draw('mpl')\n",
    "\n",
    "\n",
    "\n"
   ]
  },
  {
   "cell_type": "code",
   "execution_count": 52,
   "metadata": {},
   "outputs": [
    {
     "data": {
      "image/png": "[encoded data removed]",
      "text/plain": [
       "<Figure size 621.739x200.667 with 1 Axes>"
      ]
     },
     "execution_count": 52,
     "metadata": {},
     "output_type": "execute_result"
    }
   ],
   "source": [
    "folded_circuit.draw('mpl')"
   ]
  },
  {
   "cell_type": "code",
   "execution_count": null,
   "metadata": {},
   "outputs": [],
   "source": []
  }
 ],
 "metadata": {
  "kernelspec": {
   "display_name": "base",
   "language": "python",
   "name": "python3"
  },
  "language_info": {
   "codemirror_mode": {
    "name": "ipython",
    "version": 3
   },
   "file_extension": ".py",
   "mimetype": "text/x-python",
   "name": "python",
   "nbconvert_exporter": "python",
   "pygments_lexer": "ipython3",
   "version": "3.11.5"
  }
 },
 "nbformat": 4,
 "nbformat_minor": 2
}
