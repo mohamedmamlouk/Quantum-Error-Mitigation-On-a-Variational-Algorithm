{
 "cells": [
  {
   "cell_type": "markdown",
   "metadata": {},
   "source": [
    "## import the necessary python packages"
   ]
  },
  {
   "cell_type": "code",
   "execution_count": 1,
   "metadata": {},
   "outputs": [],
   "source": [
    "import matplotlib.pyplot as plt\n",
    "import numpy as np\n",
    "\n",
    "import qiskit\n",
    "from qiskit import QuantumCircuit\n",
    "from qiskit_aer import Aer, AerSimulator\n",
    "from qiskit_aer.noise import NoiseModel\n",
    "from qiskit_aer.noise.errors.standard_errors import (\n",
    "    depolarizing_error,\n",
    ")\n",
    "\n",
    "from mitiq.zne import mitigate_executor\n",
    "from mitiq.zne.inference import RichardsonFactory"
   ]
  },
  {
   "cell_type": "markdown",
   "metadata": {},
   "source": [
    "define the hamiltonian and the ansatz circuit "
   ]
  },
  {
   "cell_type": "code",
   "execution_count": 2,
   "metadata": {},
   "outputs": [],
   "source": [
    "from qiskit.quantum_info import SparsePauliOp\n",
    "import numpy as np\n",
    " \n",
    "def to_qiskit(H):\n",
    "    coeff_list = []\n",
    "    op_list = []\n",
    "    for coeff, op in zip(H.coeffs, H.ops):\n",
    "        coeff_list.append(coeff.real)\n",
    "        op_list.append(str(qml.pauli.pauli_word_to_string(op, wire_map=[0,1,2,3])))\n",
    "    return SparsePauliOp(op_list, coeffs=np.array(coeff_list))\n",
    "\n",
    "import pennylane as qml\n",
    "\n",
    "from openfermion import *\n",
    "from openfermion.transforms import jordan_wigner\n",
    "from openfermion.utils import load_operator\n",
    "n_site = 2\n",
    "n_qubits = 2 * n_site\n",
    "H_openfermion = load_operator(\n",
    "    file_name=f\"{n_qubits}_qubits_H\",\n",
    "    data_directory=\"./hamiltonian\",\n",
    "    plain_text=False,\n",
    ")\n",
    "H_openfermion_jw = jordan_wigner(H_openfermion)\n",
    "H_qiskit= transforms.qubit_operator_to_pauli_sum(H_openfermion_jw)\n",
    "H_pennylane = qml.import_operator(H_openfermion_jw)\n",
    "H = to_qiskit(H_pennylane)\n",
    "singles =[[0, 2]]\n",
    "doubles = [[0, 1, 2, 3]]\n",
    "\n",
    "\n",
    "from qiskit import QuantumCircuit, QuantumRegister\n",
    "\n",
    "def full_double_excitation_decomposition(params, wires):\n",
    "    qr = QuantumRegister(4, name=\"q\")\n",
    "    qc = QuantumCircuit(qr)\n",
    "\n",
    "    qc.cx(wires[2], wires[3])\n",
    "    qc.cx(wires[0], wires[2])\n",
    "    qc.h(wires[0])\n",
    "    qc.h(wires[3])\n",
    "    qc.cx(wires[0], wires[1])\n",
    "    qc.cx(wires[2], wires[3])\n",
    "    qc.ry(-params / 8, wires[0])\n",
    "    qc.ry(params / 8, wires[1])\n",
    "    qc.cx(wires[0], wires[3])\n",
    "    qc.h(wires[3])\n",
    "    qc.cx(wires[3], wires[1])\n",
    "    qc.ry(-params / 8, wires[0])\n",
    "    qc.ry(params / 8, wires[1])\n",
    "    qc.cx(wires[2], wires[1])\n",
    "    qc.cx(wires[2], wires[0])\n",
    "    qc.ry(params / 8, wires[0])\n",
    "    qc.ry(-params / 8, wires[1])\n",
    "    qc.cx(wires[3], wires[1])\n",
    "    qc.h(wires[3])\n",
    "    qc.cx(wires[0], wires[3])\n",
    "    qc.ry(params / 8, wires[0])\n",
    "    qc.ry(-params / 8, wires[1])\n",
    "    qc.cx(wires[0], wires[1])\n",
    "    qc.cx(wires[2], wires[0])\n",
    "    qc.h(wires[0])\n",
    "    qc.h(wires[3])\n",
    "    qc.cx(wires[0], wires[2])\n",
    "    qc.cx(wires[2], wires[3])\n",
    "\n",
    "    return qc\n",
    "\n",
    "def full_single_excitation_decomposition(params, wires):\n",
    "    qr = QuantumRegister(4, name=\"q\")\n",
    "    qc = QuantumCircuit(qr)\n",
    "\n",
    "    qc.cx(wires[0], wires[1])\n",
    "    qc.ry(params / 2, wires[0])\n",
    "    qc.cx(wires[1], wires[0])\n",
    "    qc.ry(-params / 2, wires[0])\n",
    "    qc.cx(wires[1], wires[0])\n",
    "    qc.cx(wires[0], wires[1])\n",
    "\n",
    "    return qc\n",
    "def circuit(params):\n",
    "    qr = QuantumRegister(n_qubits, name=\"q\")\n",
    "    qc = QuantumCircuit(qr)\n",
    "    # Define the qubits with the given initial state\n",
    "    initial_state = [1, 1, 0, 0]\n",
    "    # Apply X-gates to initialize the qubits\n",
    "    for i, bit in enumerate(initial_state):\n",
    "        if bit == 1:\n",
    "            qc.x(qr[i])\n",
    "    i = 0\n",
    "    for excitation in doubles:\n",
    "        qc.compose(full_double_excitation_decomposition(params[i], excitation), inplace=True)\n",
    "        i += 1\n",
    "    for excitation in singles:\n",
    "        qc.compose(full_single_excitation_decomposition(params[i], excitation), inplace=True)\n",
    "        i += 1\n",
    "    return qc"
   ]
  },
  {
   "cell_type": "markdown",
   "metadata": {},
   "source": [
    "define the noisy estimator of the expectation value and the noise model"
   ]
  },
  {
   "cell_type": "code",
   "execution_count": 3,
   "metadata": {},
   "outputs": [],
   "source": [
    "# observable to measure\n",
    "hamiltonian = H.to_matrix()\n",
    "\n",
    "# strength of noise channel\n",
    "# strength of noise channel\n",
    "noise_level = 0.01\n",
    "\n",
    "def executor_with_noise(circuit: QuantumCircuit) -> float:\n",
    "    \"\"\"Simulates the execution of a circuit with depolarizing noise.\n",
    "\n",
    "    Args:\n",
    "        circuit: The input circuit.\n",
    "\n",
    "    Returns:\n",
    "        The expectation value of the hamiltonian.\n",
    "    \"\"\"\n",
    "    # avoid mutating the input circuit\n",
    "    circ = circuit.copy()\n",
    "    circ.save_density_matrix()\n",
    "    \n",
    "    # Initialize qiskit noise model. In this case a depolarizing\n",
    "    # noise model with the same noise strength on all gates\n",
    "    noise_model = NoiseModel()\n",
    "    noise_model.add_all_qubit_quantum_error(\n",
    "        depolarizing_error(noise_level, 1), [\"rx\"]\n",
    "    )\n",
    "    noise_model.add_all_qubit_quantum_error(\n",
    "        depolarizing_error(noise_level, 2), [\"cx\"]\n",
    "    ) \n",
    "    from qiskit_ibm_runtime.fake_provider import FakeLima\n",
    "    #from qiskit_aer.noise import NoiseModel\n",
    "\n",
    "    #device = FakeLima()\n",
    "    #noise_model = NoiseModel.from_backend(device)\n",
    "    # execute experiment with depolarizing noise\n",
    "    job = qiskit.execute(\n",
    "        experiments=circ,\n",
    "        backend=AerSimulator(method=\"density_matrix\",noise_model=noise_model, shots = 1000 ),\n",
    "        #noise_model=noise_model,\n",
    "        basis_gates=noise_model.basis_gates + [\"save_density_matrix\"],\n",
    "        # we want all gates to be actually applied,\n",
    "        # so we skip any circuit optimization \n",
    "        optimization_level=0,\n",
    "        #shots = 10,\n",
    "        approximation = False,\n",
    "    )\n",
    "    rho = job.result().data()[\"density_matrix\"]\n",
    "    expectation = np.real(np.trace(rho @ hamiltonian))\n",
    "    return expectation "
   ]
  },
  {
   "cell_type": "code",
   "execution_count": 4,
   "metadata": {},
   "outputs": [
    {
     "ename": "NameError",
     "evalue": "name 'noiseless_executor' is not defined",
     "output_type": "error",
     "traceback": [
      "\u001b[1;31m---------------------------------------------------------------------------\u001b[0m",
      "\u001b[1;31mNameError\u001b[0m                                 Traceback (most recent call last)",
      "Cell \u001b[1;32mIn[4], line 2\u001b[0m\n\u001b[0;32m      1\u001b[0m params \u001b[38;5;241m=\u001b[39m [\u001b[38;5;241m9\u001b[39m, \u001b[38;5;241m1\u001b[39m]\n\u001b[1;32m----> 2\u001b[0m \u001b[38;5;28mprint\u001b[39m(noiseless_executor(circuit(params)))\n\u001b[0;32m      3\u001b[0m \u001b[38;5;28mprint\u001b[39m(executor_with_noise(circuit(params)))\n",
      "\u001b[1;31mNameError\u001b[0m: name 'noiseless_executor' is not defined"
     ]
    }
   ],
   "source": [
    "params = [9, 1]\n",
    "print(noiseless_executor(circuit(params)))\n",
    "print(executor_with_noise(circuit(params)))"
   ]
  },
  {
   "cell_type": "code",
   "execution_count": 5,
   "metadata": {},
   "outputs": [
    {
     "name": "stdout",
     "output_type": "stream",
     "text": [
      "-3.3772014114504545\n"
     ]
    }
   ],
   "source": [
    "from mitiq import zne\n",
    "from mitiq.zne.scaling import fold_global\n",
    "\n",
    "fac = RichardsonFactory(scale_factors=[1.0, 2.0, 3.0])\n",
    "mitigated = zne.execute_with_zne(circuit(params), executor_with_noise, factory=fac, scale_noise = fold_global)\n",
    "print(mitigated)\n"
   ]
  },
  {
   "cell_type": "code",
   "execution_count": 6,
   "metadata": {},
   "outputs": [],
   "source": [
    "# define callback\n",
    "# note: Re-run this cell to restart lists before training\n",
    "counts_mitigated = []\n",
    "values_mitigated = []\n",
    "\n",
    "\n",
    "def store_intermediate_result_mitigated(eval_count, parameters, mean, std):\n",
    "    counts_mitigated.append(eval_count)\n",
    "    values_mitigated.append(mean)"
   ]
  },
  {
   "cell_type": "markdown",
   "metadata": {},
   "source": [
    "define the mitigation technique and to the VQE optimization"
   ]
  },
  {
   "cell_type": "code",
   "execution_count": 7,
   "metadata": {},
   "outputs": [],
   "source": [
    "mitigated_energies = []\n",
    "def callback_mitigated(params):\n",
    "    # Evaluate the current mitigated energy and append it to the list\n",
    "    energy = objective_function_mitigated(params)\n",
    "    mitigated_energies.append(energy)\n",
    "    print(f\"Current parameters: {params}, mitigated Energy: {energy}\")"
   ]
  },
  {
   "cell_type": "code",
   "execution_count": 8,
   "metadata": {},
   "outputs": [
    {
     "name": "stdout",
     "output_type": "stream",
     "text": [
      "Current parameters: [1. 0.], mitigated Energy: -1.715592946877706\n",
      "Current parameters: [1. 1.], mitigated Energy: -1.9702129883281139\n",
      "Current parameters: [1.99307154 1.11751138], mitigated Energy: -3.37868968043001\n",
      "Current parameters: [2.97666282 1.29792254], mitigated Energy: -2.836558110417356\n",
      "Current parameters: [2.48486718 1.20771696], mitigated Energy: -3.3574109085218033\n",
      "Current parameters: [1.94796875 1.3634092 ], mitigated Energy: -3.267247174527757\n",
      "Current parameters: [2.03612974 0.61936884], mitigated Energy: -3.5673475966637085\n",
      "Current parameters: [2.07029895 0.12053774], mitigated Energy: -3.6782528290631467\n",
      "Current parameters: [ 1.7854424  -0.29038408], mitigated Energy: -3.3263115161271957\n",
      "Current parameters: [2.56835305 0.07646832], mitigated Energy: -3.8435336332669516\n",
      "Current parameters: [ 2.9896093  -0.19287008], mitigated Energy: -3.5081261570442765\n",
      "Current parameters: [2.62911089 0.31897293], mitigated Energy: -3.7820549329657176\n",
      "Current parameters: [2.44355127 0.06943167], mitigated Energy: -3.8587197850326467\n",
      "Current parameters: [ 2.38932268 -0.04319275], mitigated Energy: -3.854467500109602\n",
      "Current parameters: [2.34490108 0.14619847], mitigated Energy: -3.8380878179287445\n",
      "Current parameters: [2.50398241 0.05348405], mitigated Energy: -3.8570424239188354\n",
      "Current parameters: [2.43391511 0.03970446], mitigated Energy: -3.8595069434582747\n",
      "Current parameters: [2.4190515  0.04452254], mitigated Energy: -3.8582458707162997\n",
      "Current parameters: [2.45942151 0.02164938], mitigated Energy: -3.8605919894707172\n",
      "Current parameters: [2.48248471 0.04273614], mitigated Energy: -3.859315762425241\n",
      "Current parameters: [ 2.45933343 -0.0096005 ], mitigated Energy: -3.8607361507716886\n",
      "Current parameters: [ 2.47484619 -0.01146997], mitigated Energy: -3.8603643497844167\n",
      "Current parameters: [ 2.44397013 -0.01244822], mitigated Energy: -3.860491748384527\n",
      "Current parameters: [ 2.45883963e+00 -1.80361681e-03], mitigated Energy: -3.8607718779136304\n",
      "Current parameters: [ 2.46250173e+00 -4.44267523e-04], mitigated Energy: -3.860745850128641\n",
      "Current parameters: [ 2.45530318e+00 -1.44604703e-04], mitigated Energy: -3.860768573982955\n",
      "Current parameters: [ 2.45815948 -0.00363449], mitigated Energy: -3.860769557925307\n",
      "Current parameters: [ 2.45967634e+00 -1.30002647e-03], mitigated Energy: -3.8607691209186203\n",
      "Current parameters: [ 2.45800740e+00 -1.29266948e-03], mitigated Energy: -3.8607741370600483\n",
      "Current parameters: [ 2.45704292e+00 -1.44577624e-03], mitigated Energy: -3.8607737991190607\n",
      "Current parameters: [ 2.45797311e+00 -8.05594106e-04], mitigated Energy: -3.860774559147366\n",
      "Current parameters: [ 2.45808652e+00 -3.30665539e-04], mitigated Energy: -3.860774647505289\n",
      "Current parameters: [ 2.45762191e+00 -1.80450756e-04], mitigated Energy: -3.860774960656315\n",
      "Current parameters: [2.45719684e+00 5.98245105e-05], mitigated Energy: -3.8607747738971345\n",
      "Current parameters: [ 2.45740938e+00 -6.03131228e-05], mitigated Energy: -3.860774927428621\n",
      "Current parameters: [ 2.45768198e+00 -7.41827060e-05], mitigated Energy: -3.860774963672522\n",
      "Current parameters: [ 2.45791256e+00 -1.54423257e-04], mitigated Energy: -3.8607748475690054\n",
      "Current parameters: [ 2.45759753e+00 -2.06335274e-05], mitigated Energy: -3.8607749733836347\n",
      "Current parameters: [2.45752549e+00 4.87237603e-05], mitigated Energy: -3.8607749656341976\n",
      "Current parameters: [2.45752549e+00 4.87237603e-05], mitigated Energy: -3.8607749656341976\n",
      "Found minimum [2.45752549e+00 4.87237603e-05] at a value of -3.8607749656341976 using 40 evaluations.\n"
     ]
    }
   ],
   "source": [
    "from mitiq import zne\n",
    "from mitiq.zne.scaling import fold_global\n",
    "from scipy.optimize import minimize\n",
    "\n",
    "def objective_function_mitigated(params):\n",
    "\n",
    "\n",
    "    # Evaluate the extrapolation\n",
    "    expectation_value_mitigated = zne.execute_with_zne(circuit(params), executor_with_noise, factory=fac, scale_noise= fold_global)\n",
    "    return expectation_value_mitigated\n",
    " \n",
    "# Gradient descent optimizer setup, optimization execution remains unchanged\n",
    "params = np.zeros(len(doubles + singles))  # Initial parameter setup\n",
    "#from qiskit.algorithms.optimizers import GradientDescent\n",
    "#optimizer = GradientDescent(maxiter=100, learning_rate=0.1, callback=store_intermediate_result_mitigated)\n",
    "# Execute VQE optimization\n",
    "\n",
    "#GRADIENT OF QISKIT\n",
    "#from qiskit_algorithms.optimizers import GradientDescent\n",
    "#optimizer = GradientDescent(maxiter=100, learning_rate=0.5, callback=store_intermediate_result_mitigated)\n",
    "#result = optimizer.minimize(fun=objective_function, x0=params)\n",
    "#print(f\"Found minimum {result.x} at a value of {result.fun} using {result.nfev} evaluations.\")\n",
    "\n",
    "#GRADIENT OF SCIPY\n",
    "result_mitigated = minimize(fun=objective_function_mitigated, x0=params, method='COBYLA', options={'maxiter': 300}, callback=callback_mitigated)\n",
    "print(f\"Found minimum {result_mitigated.x} at a value of {result_mitigated.fun} using {result_mitigated.nfev} evaluations.\")\n",
    "\n",
    "\n"
   ]
  },
  {
   "cell_type": "markdown",
   "metadata": {},
   "source": [
    "ideal simulation"
   ]
  },
  {
   "cell_type": "code",
   "execution_count": 9,
   "metadata": {},
   "outputs": [],
   "source": [
    "def noiseless_executor(circuit: QuantumCircuit) -> float:\n",
    "    \"\"\"Simulates the execution of a circuit without noise.\n",
    "\n",
    "    Args:\n",
    "        circuit: The input circuit.\n",
    "\n",
    "    Returns:\n",
    "        The expectation value of the  observable.\n",
    "    \"\"\"\n",
    "    # avoid mutating the input circuit\n",
    "    circ = circuit.copy()\n",
    "    circ.save_density_matrix()\n",
    "\n",
    "    # execute experiment without noise\n",
    "    job = qiskit.execute_function.execute(\n",
    "        experiments=circ,\n",
    "        backend=AerSimulator(method=\"density_matrix\"),\n",
    "        noise_model=None,\n",
    "        # we want all gates to be actually applied,\n",
    "        # so we skip any circuit optimization \n",
    "        optimization_level=0,\n",
    "        shots=1000,\n",
    "    )\n",
    "    rho = job.result().data()[\"density_matrix\"]\n",
    "\n",
    "    expectation = np.real(np.trace(rho @ hamiltonian))\n",
    "    return expectation "
   ]
  },
  {
   "cell_type": "code",
   "execution_count": 10,
   "metadata": {},
   "outputs": [],
   "source": [
    "free_energies = []\n",
    "def callback_free(params):\n",
    "    # Evaluate the current mitigated energy and append it to the list\n",
    "    energy = objective_function_free(params)\n",
    "    free_energies.append(energy)\n",
    "    print(f\"Current parameters: {params},' free Energy: {energy}\")"
   ]
  },
  {
   "cell_type": "code",
   "execution_count": 11,
   "metadata": {},
   "outputs": [
    {
     "name": "stdout",
     "output_type": "stream",
     "text": [
      "Current parameters: [1. 0.],' free Energy: -1.6815967695203453\n",
      "Current parameters: [1. 1.],' free Energy: -1.9315673370597315\n",
      "Current parameters: [1.99349948 1.11383663],' free Energy: -3.4602741964780472\n",
      "Current parameters: [2.98007369 1.27715023],' free Energy: -3.0269357830370476\n",
      "Current parameters: [2.48678659 1.19549343],' free Energy: -3.5028292066689346\n",
      "Current parameters: [2.44595819 1.44213698],' free Energy: -3.3342959623131985\n",
      "Current parameters: [2.62958784 0.71631935],' free Energy: -3.7669020111788423\n",
      "Current parameters: [2.78961944 0.24262125],' free Energy: -3.8674396412193\n",
      "Current parameters: [3.28469886 0.17264722],' free Energy: -3.2512861864352494\n",
      "Current parameters: [2.34176359 0.02030361],' free Energy: -3.9693674304188606\n",
      "Current parameters: [ 2.14706456 -0.44023117],' free Energy: -3.7959277205932853\n",
      "Current parameters: [2.17695309 0.20828633],' free Energy: -3.859957625135449\n",
      "Current parameters: [2.46628506 0.03123078],' free Energy: -3.998355144444285\n",
      "Current parameters: [ 2.54135688 -0.06871532],' free Energy: -3.995732105984758\n",
      "Current parameters: [2.5604741 0.11341  ],' free Energy: -3.9898276693336983\n",
      "Current parameters: [2.40763317 0.00963898],' free Energy: -3.9897403605407282\n",
      "Current parameters: [2.48843446 0.05327542],' free Energy: -3.998765161306254\n",
      "Current parameters: [2.49945678 0.04220072],' free Energy: -3.9992888747867688\n",
      "Current parameters: [2.52805854 0.02961096],' free Energy: -3.998519720068417\n",
      "Current parameters: [2.49099474 0.02906549],' free Energy: -3.9996009311995655\n",
      "Current parameters: [2.49722617 0.01473685],' free Energy: -3.9999095630622494\n",
      "Current parameters: [ 2.49580074e+00 -8.22993314e-04],' free Energy: -3.9999895280737556\n",
      "Current parameters: [ 2.51093545 -0.00470646],' free Energy: -3.999781379044362\n",
      "Current parameters: [ 2.48066893 -0.00471772],' free Energy: -3.9996081667508436\n",
      "Current parameters: [ 2.48823484 -0.00277036],' free Energy: -3.9998718622390315\n",
      "Current parameters: [2.49586081 0.00308279],' free Energy: -3.999986381721229\n",
      "Current parameters: [ 2.49969844e+00 -1.08138540e-03],' free Energy: -3.999992683375577\n",
      "Current parameters: [ 2.50102418 -0.00251564],' free Energy: -3.999983121081983\n",
      "Current parameters: [2.50002347e+00 8.44503325e-04],' free Energy: -3.9999914277704804\n",
      "Current parameters: [ 2.49872435e+00 -1.01183508e-03],' free Energy: -3.9999954636719184\n",
      "Current parameters: [ 2.49774947e+00 -1.06904699e-03],' free Energy: -3.9999957664389\n",
      "Current parameters: [ 2.49765855e+00 -2.04136776e-03],' free Energy: -3.999994481831371\n",
      "Current parameters: [ 2.49747969e+00 -1.30486798e-04],' free Energy: -3.9999958887436367\n",
      "Current parameters: [ 2.49699542e+00 -6.80261727e-05],' free Energy: -3.999994857401913\n",
      "Current parameters: [2.49794115e+00 2.91281385e-05],' free Energy: -3.999996337056877\n",
      "Current parameters: [ 2.49823267e+00 -3.62577516e-04],' free Energy: -3.999996290168284\n",
      "Current parameters: [2.49830299e+00 3.56982000e-04],' free Energy: -3.9999962611080484\n",
      "Current parameters: [2.49769860e+00 1.31319028e-06],' free Energy: -3.9999961714810843\n",
      "Current parameters: [2.49801407e+00 9.75596085e-05],' free Energy: -3.9999963547508752\n",
      "Current parameters: [2.49809530e+00 3.92368051e-05],' free Energy: -3.9999963657865645\n",
      "Current parameters: [2.49818957e+00 7.26046886e-05],' free Energy: -3.999996352774046\n",
      "Current parameters: [2.49818957e+00 7.26046886e-05],' free Energy: -3.999996352774046\n",
      "Found minimum [2.49818957e+00 7.26046886e-05] at a value of -3.999996352774046 using 42 evaluations.\n"
     ]
    }
   ],
   "source": [
    "def objective_function_free(params):\n",
    "    # Evaluate the extrapolation\n",
    "    expectation_value = noiseless_executor(circuit(params))\n",
    "    return expectation_value\n",
    "params = np.zeros(len(doubles + singles))  # Initial parameter setup\n",
    " \n",
    "# Execute VQE optimization\n",
    "from qiskit_algorithms.optimizers import GradientDescent\n",
    "#optimizer = GradientDescent(maxiter=100, learning_rate=0.5, callback=store_intermediate_result_noisy)\n",
    "#GRADIENT OF SCIPY\n",
    "result_noisy = minimize(fun=objective_function_free, x0=params, method='COBYLA', options={'maxiter': 300}, callback=callback_free)\n",
    "#\n",
    "print(f\"Found minimum {result_noisy.x} at a value of {result_noisy.fun} using {result_noisy.nfev} evaluations.\")"
   ]
  },
  {
   "cell_type": "markdown",
   "metadata": {},
   "source": [
    "execute the noisy simulation within the noisy device"
   ]
  },
  {
   "cell_type": "code",
   "execution_count": 12,
   "metadata": {},
   "outputs": [],
   "source": [
    "noisy_energies = []\n",
    "def callback_noisy(params):\n",
    "    # Evaluate the current mitigated energy and append it to the list\n",
    "    energy = objective_function_noisy(params)\n",
    "    noisy_energies.append(energy)\n",
    "    print(f\"Current parameters: {params},' unmitigated Energy: {energy}\")"
   ]
  },
  {
   "cell_type": "code",
   "execution_count": 13,
   "metadata": {},
   "outputs": [
    {
     "name": "stdout",
     "output_type": "stream",
     "text": [
      "Current parameters: [1. 0.],' unmitigated Energy: -1.55108133628327\n",
      "Current parameters: [1. 1.],' unmitigated Energy: -1.7346529415029437\n",
      "Current parameters: [1.99358199 1.1131142 ],' unmitigated Energy: -2.9065393158665724\n",
      "Current parameters: [2.98126057 1.26961031],' unmitigated Energy: -2.6342434332036904\n",
      "Current parameters: [2.48742128 1.19136225],' unmitigated Energy: -2.964502095571495\n",
      "Current parameters: [2.44829725 1.4382819 ],' unmitigated Energy: -2.839389512867502\n",
      "Current parameters: [2.67509419 0.72791983],' unmitigated Energy: -3.1405929834261026\n",
      "Current parameters: [2.91067627 0.28689706],' unmitigated Energy: -3.156525371926077\n",
      "Current parameters: [3.13813464 0.39064044],' unmitigated Energy: -2.92638903634648\n",
      "Current parameters: [2.69435391 0.16157892],' unmitigated Energy: -3.288987102237215\n",
      "Current parameters: [2.48132296 0.03074386],' unmitigated Energy: -3.324000737484751\n",
      "Current parameters: [ 2.47811371 -0.21923554],' unmitigated Energy: -3.310430258603429\n",
      "Current parameters: [2.24091332 0.0993238 ],' unmitigated Energy: -3.2510049631546645\n",
      "Current parameters: [2.60479324 0.05023975],' unmitigated Energy: -3.318231079346537\n",
      "Current parameters: [2.4369628  0.07477142],' unmitigated Energy: -3.3176692285737674\n",
      "Current parameters: [ 2.47351939 -0.03126706],' unmitigated Energy: -3.323368378101687\n",
      "Current parameters: [2.51253272 0.02915861],' unmitigated Energy: -3.3253833728383198\n",
      "Current parameters: [2.54361783 0.03236467],' unmitigated Energy: -3.324865213635129\n",
      "Current parameters: [2.51332535 0.04476349],' unmitigated Energy: -3.3250579003781855\n",
      "Current parameters: [2.54009435 0.01443043],' unmitigated Energy: -3.3252573863946258\n",
      "Current parameters: [2.52631354 0.02179452],' unmitigated Energy: -3.325512926426029\n",
      "Current parameters: [2.52504019 0.00622149],' unmitigated Energy: -3.325654175926153\n",
      "Current parameters: [ 2.53160364 -0.00795813],' unmitigated Energy: -3.325547946717287\n",
      "Current parameters: [2.51740461 0.0045683 ],' unmitigated Energy: -3.325673172271192\n",
      "Current parameters: [2.51527981 0.00784611],' unmitigated Energy: -3.3256457351197724\n",
      "Current parameters: [2.51714089e+00 6.70967577e-04],' unmitigated Energy: -3.3256776686590057\n",
      "Current parameters: [ 2.52098393e+00 -2.89054202e-05],' unmitigated Energy: -3.3256864129374826\n",
      "Current parameters: [ 2.52428423e+00 -2.11859434e-03],' unmitigated Energy: -3.3256704542194178\n",
      "Current parameters: [2.52159004e+00 1.82779139e-03],' unmitigated Energy: -3.325684271244974\n",
      "Current parameters: [2.52001020e+00 4.54552502e-05],' unmitigated Energy: -3.3256868419128063\n",
      "Current parameters: [ 2.51997302e+00 -4.41408388e-04],' unmitigated Energy: -3.3256867667108505\n",
      "Current parameters: [2.51911592e+00 4.37799976e-04],' unmitigated Energy: -3.3256856191926247\n",
      "Current parameters: [2.51956306e+00 2.41627613e-04],' unmitigated Energy: -3.325686428701767\n",
      "Current parameters: [2.52025347e+00 6.60302891e-05],' unmitigated Energy: -3.325686900082084\n",
      "Current parameters: [2.52046259e+00 1.92029057e-04],' unmitigated Energy: -3.325686852706565\n",
      "Current parameters: [ 2.52033424e+00 -1.64365058e-04],' unmitigated Energy: -3.3256868885166795\n",
      "Current parameters: [2.52015411e+00 5.47255480e-05],' unmitigated Energy: -3.325686889815712\n",
      "Current parameters: [2.52025913e+00 1.63508093e-05],' unmitigated Energy: -3.3256869013329777\n",
      "Current parameters: [2.52035834e+00 3.80999736e-06],' unmitigated Energy: -3.3256868925942884\n",
      "Current parameters: [2.52035834e+00 3.80999736e-06],' unmitigated Energy: -3.3256868925942884\n",
      "Found minimum [2.52035834e+00 3.80999736e-06] at a value of -3.3256868925942884 using 40 evaluations.\n"
     ]
    }
   ],
   "source": [
    "from mitiq import zne\n",
    "from mitiq.zne.scaling import fold_global\n",
    "from scipy.optimize import minimize\n",
    "\n",
    "def objective_function_noisy(params):\n",
    "    # Evaluate the extrapolation\n",
    "    expectation_value = executor_with_noise(circuit(params))\n",
    "    return expectation_value\n",
    "params = np.zeros(len(doubles + singles))  # Initial parameter setup\n",
    " \n",
    "# Execute VQE optimization\n",
    "from qiskit_algorithms.optimizers import GradientDescent\n",
    "#optimizer = GradientDescent(maxiter=100, learning_rate=0.5, callback=store_intermediate_result_noisy)\n",
    "#GRADIENT OF SCIPY\n",
    "result_noisy = minimize(fun=objective_function_noisy, x0=params, method='COBYLA', options={'maxiter': 300}, callback=callback_noisy)\n",
    "#\n",
    "print(f\"Found minimum {result_noisy.x} at a value of {result_noisy.fun} using {result_noisy.nfev} evaluations.\")\n",
    "## GRADIENT OF QISKIT\n",
    "#result = optimizer.minimize(fun=objective_function, x0=params) \n",
    "#print(f\"Found minimum {result.x} at a value of {result.fun} using {result.nfev} evaluations.\")"
   ]
  },
  {
   "cell_type": "code",
   "execution_count": 14,
   "metadata": {},
   "outputs": [
    {
     "name": "stdout",
     "output_type": "stream",
     "text": [
      "-3.3256869013329777\n"
     ]
    }
   ],
   "source": [
    "print(min(noisy_energies))"
   ]
  },
  {
   "cell_type": "code",
   "execution_count": 16,
   "metadata": {},
   "outputs": [
    {
     "data": {
      "image/png": "[encoded data removed]",
      "text/plain": [
       "<Figure size 640x480 with 1 Axes>"
      ]
     },
     "metadata": {},
     "output_type": "display_data"
    }
   ],
   "source": [
    "import matplotlib.pyplot as plt\n",
    "plt.plot(range(len(mitigated_energies)),mitigated_energies, label ='Mitigated', )\n",
    "plt.plot(range(len(noisy_energies)),noisy_energies, label ='Unmitigated', color = 'green')\n",
    "plt.plot(range(len(free_energies)),free_energies, label ='Ideal', color = 'orange')\n",
    "plt.xlabel(\"Optimization step\", fontsize=13)\n",
    "plt.ylabel(\"Energy\", fontsize=13)\n",
    "plt.legend()\n",
    "plt.xticks(fontsize=12)\n",
    "plt.yticks(fontsize=12)\n",
    "plt.show()"
   ]
  },
  {
   "cell_type": "code",
   "execution_count": 29,
   "metadata": {},
   "outputs": [
    {
     "data": {
      "text/plain": [
       "'import pylab\\n\\npylab.rcParams[\"figure.figsize\"] = (12, 4)\\n#pylab.plot(range(len(values)), values)\\n#pylab.plot(counts_mitigated, values_mitigated)\\n#pylab.plot(counts_noiseless, values_noiseless, label =\\'Noiseless\\')\\npylab.plot(counts_noisy, values_noisy,label =\\'Noisy\\')\\npylab.legend()\\npylab.xlabel(\"Eval count\")\\npylab.ylabel(\"Energy\")'"
      ]
     },
     "execution_count": 29,
     "metadata": {},
     "output_type": "execute_result"
    }
   ],
   "source": [
    "'''import pylab\n",
    "\n",
    "pylab.rcParams[\"figure.figsize\"] = (12, 4)\n",
    "#pylab.plot(range(len(values)), values)\n",
    "#pylab.plot(counts_mitigated, values_mitigated)\n",
    "#pylab.plot(counts_noiseless, values_noiseless, label ='Noiseless')\n",
    "pylab.plot(counts_noisy, values_noisy,label ='Noisy')\n",
    "pylab.legend()\n",
    "pylab.xlabel(\"Eval count\")\n",
    "pylab.ylabel(\"Energy\")'''"
   ]
  },
  {
   "cell_type": "code",
   "execution_count": null,
   "metadata": {},
   "outputs": [],
   "source": []
  }
 ],
 "metadata": {
  "kernelspec": {
   "display_name": ".venv",
   "language": "python",
   "name": "python3"
  },
  "language_info": {
   "codemirror_mode": {
    "name": "ipython",
    "version": 3
   },
   "file_extension": ".py",
   "mimetype": "text/x-python",
   "name": "python",
   "nbconvert_exporter": "python",
   "pygments_lexer": "ipython3",
   "version": "3.11.5"
  }
 },
 "nbformat": 4,
 "nbformat_minor": 2
}
