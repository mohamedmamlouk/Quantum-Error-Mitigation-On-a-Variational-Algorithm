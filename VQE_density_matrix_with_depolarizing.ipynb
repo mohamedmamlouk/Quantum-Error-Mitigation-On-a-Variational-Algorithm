{
 "cells": [
  {
   "cell_type": "markdown",
   "metadata": {},
   "source": [
    "## import the necessary python packages"
   ]
  },
  {
   "cell_type": "code",
   "execution_count": 1,
   "metadata": {},
   "outputs": [],
   "source": [
    "import matplotlib.pyplot as plt\n",
    "import numpy as np\n",
    "\n",
    "import qiskit\n",
    "from qiskit import QuantumCircuit\n",
    "from qiskit_aer import Aer, AerSimulator\n",
    "from qiskit_aer.noise import NoiseModel\n",
    "from qiskit_aer.noise.errors.standard_errors import (\n",
    "    depolarizing_error,\n",
    ")\n",
    "\n",
    "from mitiq.zne import mitigate_executor\n",
    "from mitiq.zne.inference import RichardsonFactory"
   ]
  },
  {
   "cell_type": "markdown",
   "metadata": {},
   "source": [
    "define the hamiltonian and the ansatz circuit "
   ]
  },
  {
   "cell_type": "code",
   "execution_count": 2,
   "metadata": {},
   "outputs": [],
   "source": [
    "from qiskit.quantum_info import SparsePauliOp\n",
    "import numpy as np\n",
    " \n",
    "def to_qiskit(H):\n",
    "    coeff_list = []\n",
    "    op_list = []\n",
    "    for coeff, op in zip(H.coeffs, H.ops):\n",
    "        coeff_list.append(coeff.real)\n",
    "        op_list.append(str(qml.pauli.pauli_word_to_string(op, wire_map=[0,1,2,3])))\n",
    "    return SparsePauliOp(op_list, coeffs=np.array(coeff_list))\n",
    "\n",
    "import pennylane as qml\n",
    "\n",
    "from openfermion import *\n",
    "from openfermion.transforms import jordan_wigner\n",
    "from openfermion.utils import load_operator\n",
    "n_site = 2\n",
    "n_qubits = 2 * n_site\n",
    "H_openfermion = load_operator(\n",
    "    file_name=f\"{n_qubits}_qubits_H\",\n",
    "    data_directory=\"./hamiltonian\",\n",
    "    plain_text=False,\n",
    ")\n",
    "H_openfermion_jw = jordan_wigner(H_openfermion)\n",
    "H_qiskit= transforms.qubit_operator_to_pauli_sum(H_openfermion_jw)\n",
    "H_pennylane = qml.import_operator(H_openfermion_jw)\n",
    "H = to_qiskit(H_pennylane)\n",
    "singles =[[0, 2]]\n",
    "doubles = [[0, 1, 2, 3]]\n",
    "\n",
    "\n",
    "from qiskit import QuantumCircuit, QuantumRegister\n",
    "\n",
    "def full_double_excitation_decomposition(params, wires):\n",
    "    qr = QuantumRegister(4, name=\"q\")\n",
    "    qc = QuantumCircuit(qr)\n",
    "\n",
    "    qc.cx(wires[2], wires[3])\n",
    "    qc.cx(wires[0], wires[2])\n",
    "    qc.h(wires[0])\n",
    "    qc.h(wires[3])\n",
    "    qc.cx(wires[0], wires[1])\n",
    "    qc.cx(wires[2], wires[3])\n",
    "    qc.ry(-params / 8, wires[0])\n",
    "    qc.ry(params / 8, wires[1])\n",
    "    qc.cx(wires[0], wires[3])\n",
    "    qc.h(wires[3])\n",
    "    qc.cx(wires[3], wires[1])\n",
    "    qc.ry(-params / 8, wires[0])\n",
    "    qc.ry(params / 8, wires[1])\n",
    "    qc.cx(wires[2], wires[1])\n",
    "    qc.cx(wires[2], wires[0])\n",
    "    qc.ry(params / 8, wires[0])\n",
    "    qc.ry(-params / 8, wires[1])\n",
    "    qc.cx(wires[3], wires[1])\n",
    "    qc.h(wires[3])\n",
    "    qc.cx(wires[0], wires[3])\n",
    "    qc.ry(params / 8, wires[0])\n",
    "    qc.ry(-params / 8, wires[1])\n",
    "    qc.cx(wires[0], wires[1])\n",
    "    qc.cx(wires[2], wires[0])\n",
    "    qc.h(wires[0])\n",
    "    qc.h(wires[3])\n",
    "    qc.cx(wires[0], wires[2])\n",
    "    qc.cx(wires[2], wires[3])\n",
    "\n",
    "    return qc\n",
    "\n",
    "def full_single_excitation_decomposition(params, wires):\n",
    "    qr = QuantumRegister(4, name=\"q\")\n",
    "    qc = QuantumCircuit(qr)\n",
    "\n",
    "    qc.cx(wires[0], wires[1])\n",
    "    qc.ry(params / 2, wires[0])\n",
    "    qc.cx(wires[1], wires[0])\n",
    "    qc.ry(-params / 2, wires[0])\n",
    "    qc.cx(wires[1], wires[0])\n",
    "    qc.cx(wires[0], wires[1])\n",
    "\n",
    "    return qc\n",
    "def circuit(params):\n",
    "    qr = QuantumRegister(n_qubits, name=\"q\")\n",
    "    qc = QuantumCircuit(qr)\n",
    "    # Define the qubits with the given initial state\n",
    "    initial_state = [1, 1, 0, 0]\n",
    "    # Apply X-gates to initialize the qubits\n",
    "    for i, bit in enumerate(initial_state):\n",
    "        if bit == 1:\n",
    "            qc.x(qr[i])\n",
    "    i = 0\n",
    "    for excitation in doubles:\n",
    "        qc.compose(full_double_excitation_decomposition(params[i], excitation), inplace=True)\n",
    "        i += 1\n",
    "    for excitation in singles:\n",
    "        qc.compose(full_single_excitation_decomposition(params[i], excitation), inplace=True)\n",
    "        i += 1\n",
    "    return qc"
   ]
  },
  {
   "cell_type": "markdown",
   "metadata": {},
   "source": [
    "define the noisy estimator of the expectation value and the noise model"
   ]
  },
  {
   "cell_type": "code",
   "execution_count": 3,
   "metadata": {},
   "outputs": [],
   "source": [
    "# observable to measure\n",
    "hamiltonian = H.to_matrix()\n",
    "\n",
    "# strength of noise channel\n",
    "noise_level = 0.01\n",
    "\n",
    "def executor_with_noise(circuit: QuantumCircuit) -> float:\n",
    "    \"\"\"Simulates the execution of a circuit with depolarizing noise.\n",
    "\n",
    "    Args:\n",
    "        circuit: The input circuit.\n",
    "\n",
    "    Returns:\n",
    "        The expectation value of the hamiltonian.\n",
    "    \"\"\"\n",
    "    # avoid mutating the input circuit\n",
    "    circ = circuit.copy()\n",
    "    circ.save_density_matrix()\n",
    "    \n",
    "    # Initialize qiskit noise model. In this case a depolarizing\n",
    "    # noise model with the same noise strength on all gates\n",
    "    #noise_model = NoiseModel()\n",
    "    #noise_model.add_all_qubit_quantum_error(\n",
    "    #    depolarizing_error(noise_level, 1), [\"rx\"]\n",
    "    #)\n",
    "    #noise_model.add_all_qubit_quantum_error(\n",
    "    #    depolarizing_error(noise_level, 2), [\"cx\"]\n",
    "    #) \n",
    "    from qiskit_ibm_runtime.fake_provider import FakeLima\n",
    "    from qiskit_aer.noise import NoiseModel\n",
    "\n",
    "    device = FakeLima()\n",
    "    noise_model = NoiseModel.from_backend(device)\n",
    "    #execute experiment with depolarizing noise\n",
    "    job = qiskit.execute(\n",
    "        experiments=circ,\n",
    "        backend=AerSimulator(method=\"density_matrix\",noise_model=noise_model, shots = 1000 ),\n",
    "        #noise_model=noise_model,\n",
    "        basis_gates=noise_model.basis_gates + [\"save_density_matrix\"],\n",
    "        # we want all gates to be actually applied,\n",
    "        # so we skip any circuit optimization \n",
    "        optimization_level=0,\n",
    "        #shots = 10,\n",
    "        approximation = False,\n",
    "    )\n",
    "    rho = job.result().data()[\"density_matrix\"]\n",
    "    expectation = np.real(np.trace(rho @ hamiltonian))\n",
    "    return expectation "
   ]
  },
  {
   "cell_type": "code",
   "execution_count": 4,
   "metadata": {},
   "outputs": [
    {
     "ename": "NameError",
     "evalue": "name 'noiseless_executor' is not defined",
     "output_type": "error",
     "traceback": [
      "\u001b[1;31m---------------------------------------------------------------------------\u001b[0m",
      "\u001b[1;31mNameError\u001b[0m                                 Traceback (most recent call last)",
      "Cell \u001b[1;32mIn[4], line 2\u001b[0m\n\u001b[0;32m      1\u001b[0m params \u001b[38;5;241m=\u001b[39m [\u001b[38;5;241m9\u001b[39m, \u001b[38;5;241m1\u001b[39m]\n\u001b[1;32m----> 2\u001b[0m \u001b[38;5;28mprint\u001b[39m(noiseless_executor(circuit(params)))\n\u001b[0;32m      3\u001b[0m \u001b[38;5;28mprint\u001b[39m(executor_with_noise(circuit(params)))\n",
      "\u001b[1;31mNameError\u001b[0m: name 'noiseless_executor' is not defined"
     ]
    }
   ],
   "source": [
    "params = [9, 1]\n",
    "print(noiseless_executor(circuit(params)))\n",
    "print(executor_with_noise(circuit(params)))"
   ]
  },
  {
   "cell_type": "code",
   "execution_count": 5,
   "metadata": {},
   "outputs": [
    {
     "name": "stdout",
     "output_type": "stream",
     "text": [
      "-3.4471477417889225\n"
     ]
    }
   ],
   "source": [
    "from mitiq import zne\n",
    "from mitiq.zne.scaling import fold_global\n",
    "\n",
    "fac = RichardsonFactory(scale_factors=[1.0, 2.0, 3.0])\n",
    "mitigated = zne.execute_with_zne(circuit(params), executor_with_noise, factory=fac, scale_noise = fold_global)\n",
    "print(mitigated)\n"
   ]
  },
  {
   "cell_type": "code",
   "execution_count": 6,
   "metadata": {},
   "outputs": [],
   "source": [
    "# define callback\n",
    "# note: Re-run this cell to restart lists before training\n",
    "counts_mitigated = []\n",
    "values_mitigated = []\n",
    "\n",
    "\n",
    "def store_intermediate_result_mitigated(eval_count, parameters, mean, std):\n",
    "    counts_mitigated.append(eval_count)\n",
    "    values_mitigated.append(mean)"
   ]
  },
  {
   "cell_type": "markdown",
   "metadata": {},
   "source": [
    "define the mitigation technique and to the VQE optimization"
   ]
  },
  {
   "cell_type": "code",
   "execution_count": 7,
   "metadata": {},
   "outputs": [],
   "source": [
    "mitigated_energies = []\n",
    "def callback_mitigated(params):\n",
    "    # Evaluate the current mitigated energy and append it to the list\n",
    "    energy = objective_function_mitigated(params)\n",
    "    mitigated_energies.append(energy)\n",
    "    print(f\"Current parameters: {params}, mitigated Energy: {energy}\")"
   ]
  },
  {
   "cell_type": "code",
   "execution_count": 9,
   "metadata": {},
   "outputs": [
    {
     "name": "stdout",
     "output_type": "stream",
     "text": [
      "Current parameters: [1. 0.], mitigated Energy: -1.6703998722759703\n",
      "Current parameters: [1. 1.], mitigated Energy: -1.915994142402146\n",
      "Current parameters: [1.99331781 1.11541115], mitigated Energy: -3.3891103804493214\n",
      "Current parameters: [2.97936001 1.28190671], mitigated Energy: -2.957739294343572\n",
      "Current parameters: [2.48633891 1.19865893], mitigated Energy: -3.4242813976483286\n",
      "Current parameters: [2.44471502 1.44516948], mitigated Energy: -3.2649076679907987\n",
      "Current parameters: [2.62315692 0.71774227], mitigated Energy: -3.677504869613219\n",
      "Current parameters: [2.77404622 0.24105326], mitigated Energy: -3.7794524100842732\n",
      "Current parameters: [3.26302633 0.1366576 ], mitigated Energy: -3.2084776822319148\n",
      "Current parameters: [2.32344055 0.02436331], mitigated Energy: -3.8650790588508155\n",
      "Current parameters: [ 2.17184872 -0.45210276], mitigated Energy: -3.723026007245665\n",
      "Current parameters: [2.15321447 0.20745641], mitigated Energy: -3.7506034066489944\n",
      "Current parameters: [ 2.34052511 -0.09946366], mitigated Energy: -3.8686835963833826\n",
      "Current parameters: [ 2.40243859 -0.09092138], mitigated Energy: -3.8871726420497583\n",
      "Current parameters: [ 2.52733893 -0.08593084], mitigated Energy: -3.895648480118649\n",
      "Current parameters: [ 2.58503451 -0.19681916], mitigated Energy: -3.874261615076631\n",
      "Current parameters: [ 2.54327152 -0.02549572], mitigated Energy: -3.896580169428348\n",
      "Current parameters: [ 2.57450039 -0.02664461], mitigated Energy: -3.8915672004695736\n",
      "Current parameters: [ 2.51387765 -0.01488617], mitigated Energy: -3.899284566628815\n",
      "Current parameters: [ 2.49441236 -0.03933336], mitigated Energy: -3.899327391488404\n",
      "Current parameters: [ 2.46967449 -0.02023884], mitigated Energy: -3.8991051313559097\n",
      "Current parameters: [ 2.50458041 -0.05119722], mitigated Energy: -3.8987568263673187\n",
      "Current parameters: [ 2.48812668 -0.0346938 ], mitigated Energy: -3.89943306688322\n",
      "Current parameters: [ 2.48155421 -0.03047032], mitigated Energy: -3.8994090721354655\n",
      "Current parameters: [ 2.48580691 -0.03783664], mitigated Energy: -3.899316774893897\n",
      "Current parameters: [ 2.48975056 -0.02705193], mitigated Energy: -3.899622099317546\n",
      "Current parameters: [ 2.49571052 -0.02200079], mitigated Energy: -3.899714150002696\n",
      "Current parameters: [ 2.49376398 -0.01443467], mitigated Energy: -3.899824447160936\n",
      "Current parameters: [ 2.49504758 -0.00672834], mitigated Energy: -3.8998784132936266\n",
      "Current parameters: [ 2.48822645 -0.00291949], mitigated Energy: -3.8998710831611363\n",
      "Current parameters: [ 2.49965605e+00 -4.19839232e-04], mitigated Energy: -3.8998431652588237\n",
      "Current parameters: [ 2.4938538 -0.0104477], mitigated Energy: -3.8998602356059457\n",
      "Current parameters: [ 2.49330912 -0.00583815], mitigated Energy: -3.8998879524025396\n",
      "Current parameters: [ 2.49250925 -0.00405632], mitigated Energy: -3.899894135122208\n",
      "Current parameters: [ 2.49062427 -0.00354488], mitigated Energy: -3.899889602889185\n",
      "Current parameters: [ 2.49308785 -0.00326963], mitigated Energy: -3.899896116495522\n",
      "Current parameters: [ 2.49403681 -0.00303907], mitigated Energy: -3.899894945657807\n",
      "Current parameters: [ 2.49262468e+00 -2.40988926e-03], mitigated Energy: -3.899897690537052\n",
      "Current parameters: [ 2.49182265e+00 -1.85272657e-03], mitigated Energy: -3.899897198595144\n",
      "Current parameters: [ 2.49294565e+00 -2.04192480e-03], mitigated Energy: -3.89989823723972\n",
      "Current parameters: [ 2.49336844e+00 -1.79765435e-03], mitigated Energy: -3.899898195004452\n",
      "Current parameters: [ 2.49269159e+00 -1.62494087e-03], mitigated Energy: -3.8998986630246737\n",
      "Current parameters: [ 2.49240670e+00 -1.22838566e-03], mitigated Energy: -3.899898758136023\n",
      "Current parameters: [ 2.49195455e+00 -1.41270083e-03], mitigated Energy: -3.8998979049860294\n",
      "Current parameters: [ 2.49277113e+00 -9.03410668e-04], mitigated Energy: -3.8998991433092685\n",
      "Current parameters: [ 2.49308602e+00 -5.30223363e-04], mitigated Energy: -3.8998991646526093\n",
      "Current parameters: [ 2.49290569e+00 -3.65639810e-04], mitigated Energy: -3.8998992333626563\n",
      "Current parameters: [ 2.49274562e+00 -1.81298205e-04], mitigated Energy: -3.8998992051779218\n",
      "Current parameters: [ 2.49298798e+00 -2.75477597e-04], mitigated Energy: -3.8998992068434806\n",
      "Current parameters: [ 2.49266238e+00 -3.45542515e-04], mitigated Energy: -3.899899195502758\n",
      "Current parameters: [ 2.49293645e+00 -2.70488837e-04], mitigated Energy: -3.8998992206893823\n",
      "Current parameters: [ 2.49295327e+00 -3.81020742e-04], mitigated Energy: -3.8998992243619837\n",
      "Current parameters: [ 2.49281018e+00 -3.95261404e-04], mitigated Energy: -3.8998992367804\n",
      "Current parameters: [ 2.49276855e+00 -3.04339656e-04], mitigated Energy: -3.8998992263386363\n",
      "Current parameters: [ 2.49281005e+00 -4.95261323e-04], mitigated Energy: -3.899899234732342\n",
      "Current parameters: [ 2.49281005e+00 -4.95261323e-04], mitigated Energy: -3.899899234732342\n",
      "Found minimum [ 2.49281005e+00 -4.95261323e-04] at a value of -3.899899234732342 using 56 evaluations.\n"
     ]
    }
   ],
   "source": [
    "from mitiq import zne\n",
    "from mitiq.zne.scaling import fold_global\n",
    "from scipy.optimize import minimize\n",
    "\n",
    "def objective_function_mitigated(params):\n",
    "\n",
    "\n",
    "    # Evaluate the extrapolation\n",
    "    expectation_value_mitigated = zne.execute_with_zne(circuit(params), executor_with_noise, factory=fac, scale_noise= fold_global)\n",
    "    return expectation_value_mitigated\n",
    " \n",
    "# Gradient descent optimizer setup, optimization execution remains unchanged\n",
    "params = np.zeros(len(doubles + singles))  # Initial parameter setup\n",
    "#from qiskit.algorithms.optimizers import GradientDescent\n",
    "#optimizer = GradientDescent(maxiter=100, learning_rate=0.1, callback=store_intermediate_result_mitigated)\n",
    "# Execute VQE optimization\n",
    "\n",
    "#GRADIENT OF QISKIT\n",
    "#from qiskit_algorithms.optimizers import GradientDescent\n",
    "#optimizer = GradientDescent(maxiter=100, learning_rate=0.5, callback=store_intermediate_result_mitigated)\n",
    "#result = optimizer.minimize(fun=objective_function, x0=params)\n",
    "#print(f\"Found minimum {result.x} at a value of {result.fun} using {result.nfev} evaluations.\")\n",
    "\n",
    "#GRADIENT OF SCIPY\n",
    "result_mitigated = minimize(fun=objective_function_mitigated, x0=params, method='COBYLA', options={'maxiter': 300}, callback=callback_mitigated)\n",
    "print(f\"Found minimum {result_mitigated.x} at a value of {result_mitigated.fun} using {result_mitigated.nfev} evaluations.\")\n",
    "\n",
    "\n"
   ]
  },
  {
   "cell_type": "markdown",
   "metadata": {},
   "source": [
    "ideal simulation"
   ]
  },
  {
   "cell_type": "code",
   "execution_count": 16,
   "metadata": {},
   "outputs": [],
   "source": [
    "def noiseless_executor(circuit: QuantumCircuit) -> float:\n",
    "    \"\"\"Simulates the execution of a circuit without noise.\n",
    "\n",
    "    Args:\n",
    "        circuit: The input circuit.\n",
    "\n",
    "    Returns:\n",
    "        The expectation value of the  observable.\n",
    "    \"\"\"\n",
    "    # avoid mutating the input circuit\n",
    "    circ = circuit.copy()\n",
    "    circ.save_density_matrix()\n",
    "\n",
    "    # execute experiment without noise\n",
    "    job = qiskit.execute_function.execute(\n",
    "        experiments=circ,\n",
    "        backend=AerSimulator(method=\"density_matrix\"),\n",
    "        noise_model=None,\n",
    "        # we want all gates to be actually applied,\n",
    "        # so we skip any circuit optimization \n",
    "        optimization_level=0,\n",
    "        shots=1000,\n",
    "    )\n",
    "    rho = job.result().data()[\"density_matrix\"]\n",
    "\n",
    "    expectation = np.real(np.trace(rho @ hamiltonian))\n",
    "    return expectation "
   ]
  },
  {
   "cell_type": "code",
   "execution_count": 17,
   "metadata": {},
   "outputs": [],
   "source": [
    "free_energies = []\n",
    "def callback_free(params):\n",
    "    # Evaluate the current mitigated energy and append it to the list\n",
    "    energy = objective_function_free(params)\n",
    "    free_energies.append(energy)\n",
    "    print(f\"Current parameters: {params},' free Energy: {energy}\")"
   ]
  },
  {
   "cell_type": "code",
   "execution_count": 18,
   "metadata": {},
   "outputs": [
    {
     "name": "stdout",
     "output_type": "stream",
     "text": [
      "Current parameters: [1. 0.],' free Energy: -1.6815967695203453\n",
      "Current parameters: [1. 1.],' free Energy: -1.9315673370597315\n",
      "Current parameters: [1.99349948 1.11383663],' free Energy: -3.4602741964780472\n",
      "Current parameters: [2.98007369 1.27715023],' free Energy: -3.0269357830370476\n",
      "Current parameters: [2.48678659 1.19549343],' free Energy: -3.5028292066689346\n",
      "Current parameters: [2.44595819 1.44213698],' free Energy: -3.3342959623131985\n",
      "Current parameters: [2.62958784 0.71631935],' free Energy: -3.7669020111788423\n",
      "Current parameters: [2.78961944 0.24262125],' free Energy: -3.8674396412193\n",
      "Current parameters: [3.28469886 0.17264722],' free Energy: -3.2512861864352494\n",
      "Current parameters: [2.34176359 0.02030361],' free Energy: -3.9693674304188606\n",
      "Current parameters: [ 2.14706456 -0.44023117],' free Energy: -3.7959277205932853\n",
      "Current parameters: [2.17695309 0.20828633],' free Energy: -3.859957625135449\n",
      "Current parameters: [2.46628506 0.03123078],' free Energy: -3.998355144444285\n",
      "Current parameters: [ 2.54135688 -0.06871532],' free Energy: -3.995732105984758\n",
      "Current parameters: [2.5604741 0.11341  ],' free Energy: -3.9898276693336983\n",
      "Current parameters: [2.40763317 0.00963898],' free Energy: -3.9897403605407282\n",
      "Current parameters: [2.48843446 0.05327542],' free Energy: -3.998765161306254\n",
      "Current parameters: [2.49945678 0.04220072],' free Energy: -3.9992888747867688\n",
      "Current parameters: [2.52805854 0.02961096],' free Energy: -3.998519720068417\n",
      "Current parameters: [2.49099474 0.02906549],' free Energy: -3.9996009311995655\n",
      "Current parameters: [2.49722617 0.01473685],' free Energy: -3.9999095630622494\n",
      "Current parameters: [ 2.49580074e+00 -8.22993314e-04],' free Energy: -3.9999895280737556\n",
      "Current parameters: [ 2.51093545 -0.00470646],' free Energy: -3.999781379044362\n",
      "Current parameters: [ 2.48066893 -0.00471772],' free Energy: -3.9996081667508436\n",
      "Current parameters: [ 2.48823484 -0.00277036],' free Energy: -3.9998718622390315\n",
      "Current parameters: [2.49586081 0.00308279],' free Energy: -3.999986381721229\n",
      "Current parameters: [ 2.49969844e+00 -1.08138540e-03],' free Energy: -3.999992683375577\n",
      "Current parameters: [ 2.50102418 -0.00251564],' free Energy: -3.999983121081983\n",
      "Current parameters: [2.50002347e+00 8.44503325e-04],' free Energy: -3.9999914277704804\n",
      "Current parameters: [ 2.49872435e+00 -1.01183508e-03],' free Energy: -3.9999954636719184\n",
      "Current parameters: [ 2.49774947e+00 -1.06904699e-03],' free Energy: -3.9999957664389\n",
      "Current parameters: [ 2.49765855e+00 -2.04136776e-03],' free Energy: -3.999994481831371\n",
      "Current parameters: [ 2.49747969e+00 -1.30486798e-04],' free Energy: -3.9999958887436367\n",
      "Current parameters: [ 2.49699542e+00 -6.80261727e-05],' free Energy: -3.999994857401913\n",
      "Current parameters: [2.49794115e+00 2.91281385e-05],' free Energy: -3.999996337056877\n",
      "Current parameters: [ 2.49823267e+00 -3.62577516e-04],' free Energy: -3.999996290168284\n",
      "Current parameters: [2.49830299e+00 3.56982000e-04],' free Energy: -3.9999962611080484\n",
      "Current parameters: [2.49769860e+00 1.31319028e-06],' free Energy: -3.9999961714810843\n",
      "Current parameters: [2.49801407e+00 9.75596085e-05],' free Energy: -3.9999963547508752\n",
      "Current parameters: [2.49809530e+00 3.92368051e-05],' free Energy: -3.9999963657865645\n",
      "Current parameters: [2.49818957e+00 7.26046886e-05],' free Energy: -3.999996352774046\n",
      "Current parameters: [2.49818957e+00 7.26046886e-05],' free Energy: -3.999996352774046\n",
      "Found minimum [2.49818957e+00 7.26046886e-05] at a value of -3.999996352774046 using 42 evaluations.\n"
     ]
    }
   ],
   "source": [
    "def objective_function_free(params):\n",
    "    # Evaluate the extrapolation\n",
    "    expectation_value = noiseless_executor(circuit(params))\n",
    "    return expectation_value\n",
    "params = np.zeros(len(doubles + singles))  # Initial parameter setup\n",
    " \n",
    "# Execute VQE optimization\n",
    "from qiskit_algorithms.optimizers import GradientDescent\n",
    "#optimizer = GradientDescent(maxiter=100, learning_rate=0.5, callback=store_intermediate_result_noisy)\n",
    "#GRADIENT OF SCIPY\n",
    "result_noisy = minimize(fun=objective_function_free, x0=params, method='COBYLA', options={'maxiter': 300}, callback=callback_free)\n",
    "#\n",
    "print(f\"Found minimum {result_noisy.x} at a value of {result_noisy.fun} using {result_noisy.nfev} evaluations.\")"
   ]
  },
  {
   "cell_type": "markdown",
   "metadata": {},
   "source": [
    "execute the noisy simulation within the noisy device"
   ]
  },
  {
   "cell_type": "code",
   "execution_count": 14,
   "metadata": {},
   "outputs": [],
   "source": [
    "noisy_energies = []\n",
    "def callback_noisy(params):\n",
    "    # Evaluate the current mitigated energy and append it to the list\n",
    "    energy = objective_function_noisy(params)\n",
    "    noisy_energies.append(energy)\n",
    "    print(f\"Current parameters: {params},' unmitigated Energy: {energy}\")"
   ]
  },
  {
   "cell_type": "code",
   "execution_count": 15,
   "metadata": {},
   "outputs": [
    {
     "name": "stdout",
     "output_type": "stream",
     "text": [
      "Current parameters: [1. 0.],' unmitigated Energy: -1.6652210635367568\n",
      "Current parameters: [1. 1.],' unmitigated Energy: -1.9037832772012702\n",
      "Current parameters: [1.99334529 1.11517433],' unmitigated Energy: -3.348734507141218\n",
      "Current parameters: [2.97965686 1.28006672],' unmitigated Energy: -2.942320550081694\n",
      "Current parameters: [2.48650108 1.19762053],' unmitigated Energy: -3.390228154402248\n",
      "Current parameters: [2.44527798 1.44419842],' unmitigated Energy: -3.231652401836884\n",
      "Current parameters: [2.63222605 0.71932749],' unmitigated Energy: -3.6378777498366546\n",
      "Current parameters: [2.79607658 0.24693676],' unmitigated Energy: -3.7301890315399353\n",
      "Current parameters: [3.29274949 0.18935187],' unmitigated Energy: -3.1395824427607693\n",
      "Current parameters: [2.34915468 0.02274752],' unmitigated Energy: -3.832040492252594\n",
      "Current parameters: [ 2.1352952  -0.42920837],' unmitigated Energy: -3.658041458359317\n",
      "Current parameters: [2.18676963 0.21282933],' unmitigated Energy: -3.7320659216641356\n",
      "Current parameters: [2.47367519 0.03368562],' unmitigated Energy: -3.857847060567098\n",
      "Current parameters: [ 2.5471395  -0.06744793],' unmitigated Energy: -3.854662984221076\n",
      "Current parameters: [2.56704043 0.11679959],' unmitigated Energy: -3.8485594018766824\n",
      "Current parameters: [2.41414539 0.01464744],' unmitigated Energy: -3.850269278494804\n",
      "Current parameters: [2.49052043 0.00736452],' unmitigated Energy: -3.8589417790230285\n",
      "Current parameters: [2.50368098 0.01578714],' unmitigated Energy: -3.8589710613891377\n",
      "Current parameters: [ 2.52190828 -0.00959649],' unmitigated Energy: -3.8584684195757735\n",
      "Current parameters: [2.49682576 0.02982803],' unmitigated Energy: -3.8587446013290507\n",
      "Current parameters: [2.50868523 0.00978775],' unmitigated Energy: -3.858953119749838\n",
      "Current parameters: [2.50393119 0.01968537],' unmitigated Energy: -3.8589200873988494\n",
      "Current parameters: [2.50043117 0.01361977],' unmitigated Energy: -3.859007724545965\n",
      "Current parameters: [2.49963819 0.00979486],' unmitigated Energy: -3.859038011994568\n",
      "Current parameters: [2.49677751 0.00713491],' unmitigated Energy: -3.859039441773553\n",
      "Current parameters: [2.49806631 0.00566737],' unmitigated Energy: -3.8590537658616606\n",
      "Current parameters: [2.49932325 0.00417245],' unmitigated Energy: -3.859062577513824\n",
      "Current parameters: [2.50001852e+00 2.34726302e-03],' unmitigated Energy: -3.859066513833776\n",
      "Current parameters: [2.50195873 0.0025715 ],' unmitigated Energy: -3.8590626337682608\n",
      "Current parameters: [2.49901386e+00 6.72341817e-04],' unmitigated Energy: -3.859065541136234\n",
      "Current parameters: [2.49951619e+00 1.50980242e-03],' unmitigated Energy: -3.859066587196145\n",
      "Current parameters: [2.49908995e+00 1.74800453e-03],' unmitigated Energy: -3.8590655777673337\n",
      "Current parameters: [2.49992554e+00 1.24362127e-03],' unmitigated Energy: -3.859067120612182\n",
      "Current parameters: [2.50032602e+00 9.64271471e-04],' unmitigated Energy: -3.859067208343933\n",
      "Current parameters: [2.50019029e+00 4.95233606e-04],' unmitigated Energy: -3.859067134254068\n",
      "Current parameters: [2.50079532e+00 1.09906674e-03],' unmitigated Energy: -3.8590668004142263\n",
      "Current parameters: [2.50056067e+00 1.03166910e-03],' unmitigated Energy: -3.859067071070906\n",
      "Current parameters: [2.50023726e+00 1.01034607e-03],' unmitigated Energy: -3.85906722679405\n",
      "Current parameters: [2.50016787e+00 9.38337624e-04],' unmitigated Energy: -3.8590672266429826\n",
      "Current parameters: [2.50016580e+00 1.08029656e-03],' unmitigated Energy: -3.8590672253954224\n",
      "Current parameters: [2.50016580e+00 1.08029656e-03],' unmitigated Energy: -3.8590672253954224\n",
      "Found minimum [2.50016580e+00 1.08029656e-03] at a value of -3.8590672253954224 using 41 evaluations.\n"
     ]
    }
   ],
   "source": [
    "from mitiq import zne\n",
    "from mitiq.zne.scaling import fold_global\n",
    "from scipy.optimize import minimize\n",
    "\n",
    "def objective_function_noisy(params):\n",
    "    # Evaluate the extrapolation\n",
    "    expectation_value = executor_with_noise(circuit(params))\n",
    "    return expectation_value\n",
    "params = np.zeros(len(doubles + singles))  # Initial parameter setup\n",
    " \n",
    "# Execute VQE optimization\n",
    "from qiskit_algorithms.optimizers import GradientDescent\n",
    "#optimizer = GradientDescent(maxiter=100, learning_rate=0.5, callback=store_intermediate_result_noisy)\n",
    "#GRADIENT OF SCIPY\n",
    "result_noisy = minimize(fun=objective_function_noisy, x0=params, method='COBYLA', options={'maxiter': 300}, callback=callback)\n",
    "#\n",
    "print(f\"Found minimum {result_noisy.x} at a value of {result_noisy.fun} using {result_noisy.nfev} evaluations.\")\n",
    "## GRADIENT OF QISKIT\n",
    "#result = optimizer.minimize(fun=objective_function, x0=params) \n",
    "#print(f\"Found minimum {result.x} at a value of {result.fun} using {result.nfev} evaluations.\")"
   ]
  },
  {
   "cell_type": "code",
   "execution_count": 27,
   "metadata": {},
   "outputs": [
    {
     "name": "stdout",
     "output_type": "stream",
     "text": [
      "-3.899870003945685\n"
     ]
    }
   ],
   "source": [
    "print(min(noisy_energies))"
   ]
  },
  {
   "cell_type": "code",
   "execution_count": 19,
   "metadata": {},
   "outputs": [
    {
     "data": {
      "image/png": "[encoded data removed]",
      "text/plain": [
       "<Figure size 640x480 with 1 Axes>"
      ]
     },
     "metadata": {},
     "output_type": "display_data"
    }
   ],
   "source": [
    "import matplotlib.pyplot as plt\n",
    "plt.plot(range(len(mitigated_energies)),mitigated_energies, label ='Mitigated', )\n",
    "plt.plot(range(len(noisy_energies)),noisy_energies, label ='Unmitigated', color = 'green')\n",
    "plt.plot(range(len(free_energies)),free_energies, label ='Ideal', color = 'orange')\n",
    "plt.xlabel(\"Optimization step\", fontsize=13)\n",
    "plt.ylabel(\"Energy\", fontsize=13)\n",
    "plt.legend()\n",
    "plt.xticks(fontsize=12)\n",
    "plt.yticks(fontsize=12)\n",
    "plt.show()"
   ]
  },
  {
   "cell_type": "code",
   "execution_count": 29,
   "metadata": {},
   "outputs": [
    {
     "data": {
      "text/plain": [
       "'import pylab\\n\\npylab.rcParams[\"figure.figsize\"] = (12, 4)\\n#pylab.plot(range(len(values)), values)\\n#pylab.plot(counts_mitigated, values_mitigated)\\n#pylab.plot(counts_noiseless, values_noiseless, label =\\'Noiseless\\')\\npylab.plot(counts_noisy, values_noisy,label =\\'Noisy\\')\\npylab.legend()\\npylab.xlabel(\"Eval count\")\\npylab.ylabel(\"Energy\")'"
      ]
     },
     "execution_count": 29,
     "metadata": {},
     "output_type": "execute_result"
    }
   ],
   "source": [
    "'''import pylab\n",
    "\n",
    "pylab.rcParams[\"figure.figsize\"] = (12, 4)\n",
    "#pylab.plot(range(len(values)), values)\n",
    "#pylab.plot(counts_mitigated, values_mitigated)\n",
    "#pylab.plot(counts_noiseless, values_noiseless, label ='Noiseless')\n",
    "pylab.plot(counts_noisy, values_noisy,label ='Noisy')\n",
    "pylab.legend()\n",
    "pylab.xlabel(\"Eval count\")\n",
    "pylab.ylabel(\"Energy\")'''"
   ]
  },
  {
   "cell_type": "code",
   "execution_count": null,
   "metadata": {},
   "outputs": [],
   "source": []
  }
 ],
 "metadata": {
  "kernelspec": {
   "display_name": ".venv",
   "language": "python",
   "name": "python3"
  },
  "language_info": {
   "codemirror_mode": {
    "name": "ipython",
    "version": 3
   },
   "file_extension": ".py",
   "mimetype": "text/x-python",
   "name": "python",
   "nbconvert_exporter": "python",
   "pygments_lexer": "ipython3",
   "version": "3.11.5"
  }
 },
 "nbformat": 4,
 "nbformat_minor": 2
}
